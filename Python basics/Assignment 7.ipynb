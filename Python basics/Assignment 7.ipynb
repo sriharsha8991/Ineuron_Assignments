{
 "cells": [
  {
   "cell_type": "markdown",
   "id": "e7c0792b",
   "metadata": {},
   "source": [
    "### Assignment 7 Regular Expressions -Sriharsha Velicheti"
   ]
  },
  {
   "cell_type": "markdown",
   "id": "b310f528",
   "metadata": {},
   "source": [
    "# Q1\n",
    "1. What is the name of the feature responsible for generating Regex objects?\n",
    "\n",
    "Ans.The feature responsible for generating Regex objects is called the Regular Expression (Regex) Engine."
   ]
  },
  {
   "cell_type": "markdown",
   "id": "e198c13f",
   "metadata": {},
   "source": [
    "# Q2\n",
    "2. Why do raw strings often appear in Regex objects?\n",
    "\n",
    "ans. Raw strings are often used in Regex objects because they allow special characters (such as backslashes and quotation marks) to be interpreted literally instead of as special characters. This makes it easier to create complex and accurate patterns."
   ]
  },
  {
   "cell_type": "markdown",
   "id": "2b1b5951",
   "metadata": {},
   "source": [
    "# Q3\n",
    "3. What is the return value of the search() method?\n",
    "\n",
    "Ans.Scan through string looking for a match to the pattern, returning\n",
    "a Match object, or None if no match was found."
   ]
  },
  {
   "cell_type": "code",
   "execution_count": 9,
   "id": "f6701bfa",
   "metadata": {},
   "outputs": [
    {
     "data": {
      "text/plain": [
       "<re.Match object; span=(0, 3), match='Sri'>"
      ]
     },
     "execution_count": 9,
     "metadata": {},
     "output_type": "execute_result"
    }
   ],
   "source": [
    "#Example Programe\n",
    "import re\n",
    "test = \"Sri harsha is a Data Scienctist.\"\n",
    "x = re.search(\"^Sri\",test)\n",
    "x"
   ]
  },
  {
   "cell_type": "markdown",
   "id": "cfc84c91",
   "metadata": {},
   "source": [
    "# Q4\n",
    "4. From a Match item, how do you get the actual strings that match the pattern?\n",
    "\n",
    "Ans.   .string returns the string passed into the function\n",
    "\n",
    ".group() returns the part of the string where there was a match"
   ]
  },
  {
   "cell_type": "code",
   "execution_count": 11,
   "id": "11828919",
   "metadata": {},
   "outputs": [
    {
     "data": {
      "text/plain": [
       "'Sri'"
      ]
     },
     "execution_count": 11,
     "metadata": {},
     "output_type": "execute_result"
    }
   ],
   "source": [
    "x.group()"
   ]
  },
  {
   "cell_type": "markdown",
   "id": "e4cfa1f2",
   "metadata": {},
   "source": [
    "# Q5\n",
    "5. In the regex created from r'(\\d\\d\\d)-(\\d\\d\\d-\\d\\d\\d\\d)', what does group 0 cover? Group 1? Group 2?\n",
    "\n",
    "Ans.\n",
    "Group 0 is the entire match, group 1 covers the first set of parentheses, and group 2 covers the second set of parentheses.\n"
   ]
  },
  {
   "cell_type": "markdown",
   "id": "af71c675",
   "metadata": {},
   "source": [
    "# Q6\n",
    "6. In standard expression syntax, parentheses and intervals have distinct meanings. How can you tell a regex that you want it to fit real parentheses and periods?\n",
    "\n",
    "Ans.\n",
    "Periods and parentheses can be escaped with a backslash: \\., \\(, and \\)."
   ]
  },
  {
   "cell_type": "markdown",
   "id": "07d656ea",
   "metadata": {},
   "source": [
    "# Q7\n",
    "7. The findall() method returns a string list or a list of string tuples. What causes it to return one of the two options?\n",
    "\n",
    "Ans.\n",
    "If the regex has no groups, a list of strings is returned. If the regex has groups, a list of tuples of strings is returned."
   ]
  },
  {
   "cell_type": "markdown",
   "id": "a5682428",
   "metadata": {},
   "source": [
    "# Q8\n",
    "8.In standard expressions, what does the | character mean?\n",
    "\n",
    "Ans.\n",
    "The | character signifies matching \"either, or\" between two groups.\n"
   ]
  },
  {
   "cell_type": "markdown",
   "id": "f22e4379",
   "metadata": {},
   "source": [
    "##### Question 9 mistake\n"
   ]
  },
  {
   "cell_type": "markdown",
   "id": "f7bb5945",
   "metadata": {},
   "source": [
    "# Q10\n",
    "10. In regular expressions, what is the difference between the + and * characters?\n",
    "\n",
    "Ans.\n",
    "The + matches one or more. The * matches zero or more."
   ]
  },
  {
   "cell_type": "markdown",
   "id": "c6dae6cc",
   "metadata": {},
   "source": [
    "# Q11\n",
    "11. What is the difference between {4} and {4,5} in regular expression?\n",
    "\n",
    "Ans.\n",
    "The {4} matches exactly Four instances of the preceding group. The {4,5} matches between Four and five instances."
   ]
  },
  {
   "cell_type": "markdown",
   "id": "2f3887ff",
   "metadata": {},
   "source": [
    "# 12\n",
    "12. What do you mean by the \\d, \\w, and \\s shorthand character classes signify in regular expressions?\n",
    "\n",
    "Ans. \n",
    "The \\d, \\w, and \\s shorthand character classes match a single digit, word, or space character, respectively."
   ]
  },
  {
   "cell_type": "markdown",
   "id": "f7751b9f",
   "metadata": {},
   "source": [
    "# Q13\n",
    "13. What do means by \\D, \\W, and \\S shorthand character classes signify in regular expressions?\n",
    "\n",
    "Ans.\n",
    "The \\D, \\W, and \\S shorthand character classes match a single character that is **not** a digit, word, or space character, respectively."
   ]
  },
  {
   "cell_type": "markdown",
   "id": "b249167c",
   "metadata": {},
   "source": [
    "# Q14\n",
    "14. What is the difference between .*? and .*?\n",
    "\n",
    "Ans.The .* performs a greedy match, and the .*? performs a nongreedy match"
   ]
  },
  {
   "cell_type": "markdown",
   "id": "f05e4676",
   "metadata": {},
   "source": [
    "# Q15\n",
    "15. What is the syntax for matching both numbers and lowercase letters with a character class?\n",
    "\n",
    "Ans.\n",
    "\n",
    "Either [0-9a-z] or [a-z0-9]"
   ]
  },
  {
   "cell_type": "markdown",
   "id": "20fb1485",
   "metadata": {},
   "source": [
    "# Q16\n",
    "16. What is the procedure for making a normal expression in regax case insensitive?\n",
    "\n",
    "Ans. IGNORECASE : This flag allows for case-insensitive matching of the Regular Expression with the given string i.e. expressions like [A-Z] will match lowercase letters, too. Generally, It's passed as an optional argument to re. compile() ."
   ]
  },
  {
   "cell_type": "markdown",
   "id": "c210d695",
   "metadata": {},
   "source": [
    "# Q17\n",
    "17. What does the . character normally match? What does it match if re.DOTALL is passed as 2nd argument in re.compile()?\n",
    "\n",
    "Ans.\n",
    "The . character normally matches any character except the newline character. If re.DOTALL is passed as the second argument to re.compile(), then the dot will also match newline characters."
   ]
  },
  {
   "cell_type": "markdown",
   "id": "de190ec0",
   "metadata": {},
   "source": [
    "# Q18\n",
    "18.If numReg = re.compile(r'\\d+'), what will numRegex.sub('X', '11 drummers, 10 pipers, five rings, 4 hens') return?\n",
    "\n",
    "Ans. 'X drummers, X pipers, five rings, X hens'"
   ]
  },
  {
   "cell_type": "markdown",
   "id": "6d0861bf",
   "metadata": {},
   "source": [
    "# Q19\n",
    "19. What does passing re.VERBOSE as the 2nd argument to re.compile() allow to do?\n",
    "\n",
    "ANs.\n",
    "The re.VERBOSE argument allows you to add whitespace and comments to the string passed to re.compile()."
   ]
  },
  {
   "cell_type": "markdown",
   "id": "5f50d038",
   "metadata": {},
   "source": [
    "# Q20\n",
    "\n",
    "20. \n",
    "How would you write a regex that matches a number with commas for every three digits? It must match the following:\n",
    "\n",
    "'42'\n",
    "\n",
    "'1,234'\n",
    "\n",
    "'6,368,745'\n",
    "\n",
    "but not the following:\n",
    "\n",
    "'12,34,567' (which has only two digits between the commas)\n",
    "\n",
    "'1234' (which lacks commas)\n",
    "\n",
    "\n",
    "***Ans***\n",
    "\n",
    "re.compile(r'^\\d{1,3}(,\\d{3})*$') will create this regex, but other regex strings can produce a similar regular expression."
   ]
  },
  {
   "cell_type": "markdown",
   "id": "213fb512",
   "metadata": {},
   "source": [
    "# Q21\n",
    "21. How would you write a regex that matches the full name of someone whose last name is\n",
    "Watanabe? You can assume that the first name that comes before it will always be one word that\n",
    "begins with a capital letter. The regex must match the following:\n",
    "&#39;Haruto Watanabe&#39;\n",
    "&#39;Alice Watanabe&#39;\n",
    "&#39;RoboCop Watanabe&#39;\n",
    "but not the following:\n",
    "&#39;haruto Watanabe&#39; (where the first name is not capitalized)\n",
    "&#39;Mr. Watanabe&#39; (where the preceding word has a nonletter character)\n",
    "&#39;Watanabe&#39; (which has no first name)\n",
    "&#39;Haruto watanabe&#39; (where Watanabe is not capitalized)\n",
    "\n",
    "\n",
    "ANS.\n",
    "re.compile(r'[A-Z][a-z]*\\sWatanabe')"
   ]
  },
  {
   "cell_type": "markdown",
   "id": "4e290c2e",
   "metadata": {},
   "source": [
    "# Q22\n",
    "\n",
    "22. \n",
    "How would you write a regex that matches a sentence where the first word is either Alice, Bob, or Carol; the second word is either eats, pets, or throws; the third word is apples, cats, or baseballs; and the sentence ends with a period? This regex should be case-insensitive. It must match the following:\n",
    "\n",
    "'Alice eats apples.'\n",
    "\n",
    "'Bob pets cats.'\n",
    "\n",
    "'Carol throws baseballs.'\n",
    "\n",
    "'Alice throws Apples.'\n",
    "\n",
    "'BOB EATS CATS.'\n",
    "\n",
    "but not the following:\n",
    "\n",
    "'Robocop eats apples.'\n",
    "\n",
    "'ALICE THROWS FOOTBALLS.'\n",
    "\n",
    "'Carol eats 7 cats.'\n",
    "\n",
    "### ANs.\n",
    "\n",
    "re.compile(r'(Alice|Bob|Carol)\\s(eats|pets|throws)\\s(apples|cats|baseballs)\\.', re.IGNORECASE)"
   ]
  },
  {
   "cell_type": "markdown",
   "id": "bd0c3ad2",
   "metadata": {},
   "source": []
  },
  {
   "cell_type": "markdown",
   "id": "66ad9954",
   "metadata": {},
   "source": []
  },
  {
   "cell_type": "markdown",
   "id": "1694ff04",
   "metadata": {},
   "source": []
  },
  {
   "cell_type": "markdown",
   "id": "420cf71d",
   "metadata": {},
   "source": []
  },
  {
   "cell_type": "code",
   "execution_count": null,
   "id": "d5b8ec72",
   "metadata": {},
   "outputs": [],
   "source": []
  }
 ],
 "metadata": {
  "kernelspec": {
   "display_name": "Python 3",
   "language": "python",
   "name": "python3"
  },
  "language_info": {
   "codemirror_mode": {
    "name": "ipython",
    "version": 3
   },
   "file_extension": ".py",
   "mimetype": "text/x-python",
   "name": "python",
   "nbconvert_exporter": "python",
   "pygments_lexer": "ipython3",
   "version": "3.8.8"
  }
 },
 "nbformat": 4,
 "nbformat_minor": 5
}
