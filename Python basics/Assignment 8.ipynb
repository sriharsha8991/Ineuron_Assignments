{
 "cells": [
  {
   "cell_type": "markdown",
   "id": "c2656a11",
   "metadata": {},
   "source": [
    "# Assignment 8 \n",
    "##### by Sriharsha Velicheti"
   ]
  },
  {
   "cell_type": "markdown",
   "id": "8c2aa698",
   "metadata": {},
   "source": [
    "### Questions\n",
    "\n",
    "1. Is the Python Standard Library included with PyInputPlus?\n",
    "2. Why is PyInputPlus commonly imported with import pyinputplus as pypi?\n",
    "3. How do you distinguish between inputInt() and inputFloat()?\n",
    "4. Using PyInputPlus, how do you ensure that the user enters a whole number between 0 and 99?\n",
    "5. What is transferred to the keyword arguments allowRegexes and blockRegexes?\n",
    "6. If a blank input is entered three times, what does inputStr(limit=3) do?\n",
    "7. If blank input is entered three times, what does inputStr(limit=3, default=&#39;hello&#39;) do?"
   ]
  },
  {
   "cell_type": "markdown",
   "id": "b78dce5b",
   "metadata": {},
   "source": [
    "**Q1:** Is the Python Standard Library included with PyInputPlus?\n",
    "\n",
    "**A:** No, PyInputPlus is a separate third-party library and is not part of the Python Standard Library.\n",
    "\n",
    "**Q2:** Why is PyInputPlus commonly imported with import pyinputplus as pypi?\n",
    "\n",
    "**A:** It is a common convention to import PyInputPlus as pypi or any other desired alias for brevity and convenience in the code. This allows developers to refer to PyInputPlus functions and classes using the shorter alias pypi instead of typing out the full module name pyinputplus.\n",
    "\n",
    "**Q3:** How do you distinguish between inputInt() and inputFloat()?\n",
    "\n",
    "**A:** The inputInt() and inputFloat() functions in PyInputPlus are used to handle user input for integer and floating-point numbers, respectively. The inputInt() function expects the user to enter a whole number, while the inputFloat() function expects the user to enter a decimal number or a number in scientific notation.\n",
    "\n",
    "**Q4:** Using PyInputPlus, how do you ensure that the user enters a whole number between 0 and 99?\n",
    "\n",
    "**A:** To ensure that the user enters a whole number between 0 and 99 using PyInputPlus, you can use the inputInt() function with additional keyword arguments"
   ]
  },
  {
   "cell_type": "code",
   "execution_count": 2,
   "id": "d07b3217",
   "metadata": {},
   "outputs": [
    {
     "name": "stderr",
     "output_type": "stream",
     "text": [
      "WARNING: Ignoring invalid distribution -rotobuf (c:\\users\\sriharsha\\anaconda3\\lib\\site-packages)\n",
      "WARNING: Ignoring invalid distribution -rotobuf (c:\\users\\sriharsha\\anaconda3\\lib\\site-packages)\n"
     ]
    },
    {
     "name": "stdout",
     "output_type": "stream",
     "text": [
      "Collecting pyinputplus\n",
      "  Downloading PyInputPlus-0.2.12.tar.gz (20 kB)\n",
      "  Installing build dependencies: started\n",
      "  Installing build dependencies: finished with status 'done'\n",
      "  Getting requirements to build wheel: started\n",
      "  Getting requirements to build wheel: finished with status 'done'\n",
      "  Preparing metadata (pyproject.toml): started\n",
      "  Preparing metadata (pyproject.toml): finished with status 'done'\n",
      "Collecting pysimplevalidate>=0.2.7 (from pyinputplus)\n",
      "  Downloading PySimpleValidate-0.2.12.tar.gz (22 kB)\n",
      "  Installing build dependencies: started\n",
      "  Installing build dependencies: finished with status 'done'\n",
      "  Getting requirements to build wheel: started\n",
      "  Getting requirements to build wheel: finished with status 'done'\n",
      "  Preparing metadata (pyproject.toml): started\n",
      "  Preparing metadata (pyproject.toml): finished with status 'done'\n",
      "Collecting stdiomask>=0.0.3 (from pyinputplus)\n",
      "  Downloading stdiomask-0.0.6.tar.gz (3.6 kB)\n",
      "  Installing build dependencies: started\n",
      "  Installing build dependencies: finished with status 'done'\n",
      "  Getting requirements to build wheel: started\n",
      "  Getting requirements to build wheel: finished with status 'done'\n",
      "  Preparing metadata (pyproject.toml): started\n",
      "  Preparing metadata (pyproject.toml): finished with status 'done'\n",
      "Building wheels for collected packages: pyinputplus, pysimplevalidate, stdiomask\n",
      "  Building wheel for pyinputplus (pyproject.toml): started\n",
      "  Building wheel for pyinputplus (pyproject.toml): finished with status 'done'\n",
      "  Created wheel for pyinputplus: filename=PyInputPlus-0.2.12-py3-none-any.whl size=11322 sha256=a61919a637116cc4d288e78ef7b84b01c07c52f72877473eb0da8166d48ba1ac\n",
      "  Stored in directory: c:\\users\\sriharsha\\appdata\\local\\pip\\cache\\wheels\\b9\\b4\\e7\\825446929f44b25d05f4df52bc4f7d211e5dec4c547126a098\n",
      "  Building wheel for pysimplevalidate (pyproject.toml): started\n",
      "  Building wheel for pysimplevalidate (pyproject.toml): finished with status 'done'\n",
      "  Created wheel for pysimplevalidate: filename=PySimpleValidate-0.2.12-py3-none-any.whl size=16204 sha256=90051156cf2b137fc62bf52f57bd114f65b3851ccee978d00b1443775aa0e8de\n",
      "  Stored in directory: c:\\users\\sriharsha\\appdata\\local\\pip\\cache\\wheels\\bd\\d4\\a5\\a003719238ab12962e430310093e567ab7d29bc3bfe062b14c\n",
      "  Building wheel for stdiomask (pyproject.toml): started\n",
      "  Building wheel for stdiomask (pyproject.toml): finished with status 'done'\n",
      "  Created wheel for stdiomask: filename=stdiomask-0.0.6-py3-none-any.whl size=3321 sha256=790fe573faf72f1d5311a5df31c9be9b22b4d14ee3a9c7435baf4fa479381f21\n",
      "  Stored in directory: c:\\users\\sriharsha\\appdata\\local\\pip\\cache\\wheels\\c1\\e9\\4e\\bcdfc282cffe91bb88e951ad9a05fb166ed6460bbe3c6dc02b\n",
      "Successfully built pyinputplus pysimplevalidate stdiomask\n",
      "Installing collected packages: stdiomask, pysimplevalidate, pyinputplus\n",
      "Successfully installed pyinputplus-0.2.12 pysimplevalidate-0.2.12 stdiomask-0.0.6\n"
     ]
    }
   ],
   "source": [
    "!pip install pyinputplus"
   ]
  },
  {
   "cell_type": "code",
   "execution_count": 3,
   "id": "c69ca84d",
   "metadata": {},
   "outputs": [
    {
     "name": "stdout",
     "output_type": "stream",
     "text": [
      "Enter a number: 125\n",
      "Number must be at maximum 99.\n",
      "Enter a number: -5\n",
      "Number must be at minimum 0.\n",
      "Enter a number: 6\n"
     ]
    }
   ],
   "source": [
    "#Example\n",
    "import pyinputplus as pypi\n",
    "\n",
    "number = pypi.inputInt(prompt='Enter a number: ', min=0, max=99)\n",
    "#In the above code, the min argument is set to 0 and the max argument is set to 99, \n",
    "#restricting the user input to the desired range."
   ]
  },
  {
   "cell_type": "markdown",
   "id": "bdcde6f7",
   "metadata": {},
   "source": [
    "\n",
    "\n",
    "**Q5:** What is transferred to the keyword arguments allowRegexes and blockRegexes?\n",
    "\n",
    "**A:** The allowRegexes and blockRegexes keyword arguments in PyInputPlus are used to specify regular expressions that define patterns of allowed and blocked input strings. The allowRegexes argument accepts a list of regular expressions, and only input strings matching any of those regular expressions are considered valid. On the other hand, the blockRegexes argument accepts a list of regular expressions, and any input strings matching any of those regular expressions are considered invalid.\n",
    "\n",
    "**Q6:** If a blank input is entered three times, what does inputStr(limit=3) do?\n",
    "\n",
    "**A:** If a blank input is entered three times using the inputStr(limit=3) function in PyInputPlus, it will raise a ValidationException after three consecutive blank inputs. The function enforces the limit of three attempts, and if the user fails to provide any non-blank input within those three attempts, an exception will be raised.\n",
    "\n",
    "**Q7:** If blank input is entered three times, what does inputStr(limit=3, default='hello') do?\n",
    "\n",
    "**A:** If a blank input is entered three times using the inputStr(limit=3, default='hello') function in PyInputPlus, it will return the default value 'hello' after three consecutive blank inputs. The default argument specifies the value to be returned if the user exceeds the input limit without providing any valid input. In this case, the default value 'hello' will be returned instead of raising an exception."
   ]
  }
 ],
 "metadata": {
  "kernelspec": {
   "display_name": "Python 3",
   "language": "python",
   "name": "python3"
  },
  "language_info": {
   "codemirror_mode": {
    "name": "ipython",
    "version": 3
   },
   "file_extension": ".py",
   "mimetype": "text/x-python",
   "name": "python",
   "nbconvert_exporter": "python",
   "pygments_lexer": "ipython3",
   "version": "3.8.8"
  }
 },
 "nbformat": 4,
 "nbformat_minor": 5
}
