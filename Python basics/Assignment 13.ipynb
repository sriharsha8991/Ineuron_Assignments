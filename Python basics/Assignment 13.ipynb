{
 "cells": [
  {
   "cell_type": "markdown",
   "id": "c146c37e",
   "metadata": {},
   "source": [
    "## Assignment 13 \n",
    "**By Sriharsha Velicheti**"
   ]
  },
  {
   "cell_type": "markdown",
   "id": "4546756d",
   "metadata": {},
   "source": [
    "## Questions \n",
    "1. What advantages do Excel spreadsheets have over CSV spreadsheets?\n",
    "2. What do you pass to csv.reader() and csv.writer() to create reader and writer objects?\n",
    "3. What modes do File objects for reader and writer objects need to be opened in?\n",
    "4. What method takes a list argument and writes it to a CSV file?\n",
    "5. What do the keyword arguments delimiter and line terminator do?\n",
    "6. What function takes a string of JSON data and returns a Python data structure?\n",
    "7. What function takes a Python data structure and returns a string of JSON data? answer in QNA format in markdown only with proper spacing"
   ]
  },
  {
   "cell_type": "markdown",
   "id": "7da5f193",
   "metadata": {},
   "source": [
    "**1. What advantages do Excel spreadsheets have over CSV spreadsheets?**\n",
    "\n",
    "Ans: \n",
    "* Excel spreadsheets have several advantages over CSV spreadsheets:\n",
    "\n",
    "* Excel spreadsheets can contain multiple sheets within a single file, allowing for better organization and management of data.\n",
    "* Excel supports various formatting options such as cell colors, font styles, and conditional formatting, making it suitable for creating visually appealing and structured reports.\n",
    "* Excel provides built-in formulas and functions for performing calculations and data manipulation.\n",
    "* Excel supports the storage of complex data types, including dates, formulas, and charts.\n",
    "* Excel offers advanced features like data validation, sorting, filtering, and pivot tables for data analysis.\n",
    "\n",
    "\n",
    "**2. What do you pass to csv.reader() and csv.writer() to create reader and writer objects?**\n",
    "\n",
    "Ans: \n",
    "To create reader and writer objects using the **csv.reader() and csv.writer()** functions, you pass a File object as an argument. The File object should be opened in the appropriate mode for reading or writing CSV data.\n",
    "\n",
    "**3. What modes do File objects for reader and writer objects need to be opened in?**\n",
    "\n",
    "* **For reader objects:** The File object needs to be opened in text mode with the mode r or rt.\n",
    "* **For writer objects:** The File object needs to be opened in text mode with the mode w or wt.\n",
    "\n",
    "**4. What method takes a list argument and writes it to a CSV file?**\n",
    "\n",
    "Ans: The **writerow()** method of the writer object is used to write a list of values as a row to a CSV file.\n",
    "\n",
    "**5. What do the keyword arguments delimiter and line terminator do?**\n",
    "\n",
    "Ans: \n",
    "* **delimiter:** The delimiter keyword argument specifies the character used to separate fields in a CSV file. By default, it is set to a comma (,), but you can customize it to any character that suits your needs.\n",
    "\n",
    "* **line terminator:** The line terminator keyword argument specifies the character sequence used to terminate lines in a CSV file. By default, it is set to '\\r\\n' (CRLF), but you can customize it to '\\n' (LF) or other line terminator sequences.\n",
    "\n",
    "\n",
    "**6. What function takes a string of JSON data and returns a Python data structure?**\n",
    "\n",
    "Ans: The **json.loads()** function takes a string of JSON data as input and returns a Python data structure (e.g., a dictionary, list, string, number, boolean, or null) representing the parsed JSON data.\n",
    "\n",
    "**7. What function takes a Python data structure and returns a string of JSON data?**\n",
    "\n",
    "Ans: The **json.dumps()** function takes a Python data structure (e.g., a dictionary, list, string, number, boolean, or null) as input and returns a string of JSON data representing the serialized form of the data."
   ]
  }
 ],
 "metadata": {
  "kernelspec": {
   "display_name": "Python 3",
   "language": "python",
   "name": "python3"
  },
  "language_info": {
   "codemirror_mode": {
    "name": "ipython",
    "version": 3
   },
   "file_extension": ".py",
   "mimetype": "text/x-python",
   "name": "python",
   "nbconvert_exporter": "python",
   "pygments_lexer": "ipython3",
   "version": "3.8.8"
  }
 },
 "nbformat": 4,
 "nbformat_minor": 5
}
