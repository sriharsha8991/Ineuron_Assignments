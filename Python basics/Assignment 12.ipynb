{
 "cells": [
  {
   "cell_type": "markdown",
   "id": "92145c2e",
   "metadata": {},
   "source": [
    "## Assignment 12 \n",
    "**By Sriharsha velicheti**"
   ]
  },
  {
   "cell_type": "markdown",
   "id": "91a25af1",
   "metadata": {},
   "source": [
    "### Questions:\n",
    "\n",
    "1. In what modes should the PdfFileReader() and PdfFileWriter() File objects will be opened?\n",
    "2. From a PdfFileReader object, how do you get a Page object for page 5?\n",
    "3. What PdfFileReader variable stores the number of pages in the PDF document?\n",
    "4. If a PdfFileReader object’s PDF is encrypted with the password swordfish, what must you dobefore you can obtain Page objects from it?\n",
    "5. What methods do you use to rotate a page?\n",
    "6. What is the difference between a Run object and a Paragraph object?\n",
    "7. How do you obtain a list of Paragraph objects for a Document object that’s stored in a variablenamed doc?\n",
    "8. What type of object has bold, underline, italic, strike, and outline variables?\n",
    "9. What is the difference between False, True, and None for the bold variable?\n",
    "10. How do you create a Document object for a new Word document?\n",
    "11. How do you add a paragraph with the text &#39;Hello, there!&#39; to a Document object stored in avariable named doc?\n",
    "12. What integers represent the levels of headings available in Word documents?"
   ]
  },
  {
   "cell_type": "markdown",
   "id": "36f15c88",
   "metadata": {},
   "source": [
    "1. In what modes should the PdfFileReader() and PdfFileWriter() File objects be opened?\n",
    "\n",
    "Ans: The PdfFileReader() File object should be opened in 'rb' (read binary) mode, and the PdfFileWriter() File object should be opened in 'wb' (write binary) mode.\n",
    "\n",
    "2. From a PdfFileReader object, how do you get a Page object for page 5?\n",
    "\n",
    "Ans: To get a Page object for page 5 from a PdfFileReader object, you can use the getPage() method and pass the page index as an argument. In this case, you would use getPage(4) since the page numbering starts from 0.\n",
    "\n",
    "3. What PdfFileReader variable stores the number of pages in the PDF document?\n",
    "\n",
    "Ans: The numPages variable of the PdfFileReader object stores the number of pages in the PDF document.\n",
    "\n",
    "4. If a PdfFileReader object’s PDF is encrypted with the password \"swordfish,\" what must you do before you can obtain Page objects from it?\n",
    "\n",
    "Ans: Before obtaining Page objects from an encrypted PDF using a PdfFileReader object, you must decrypt it by calling the decrypt('swordfish') method on the object. The password ('swordfish' in this case) needs to be provided as an argument.\n",
    "\n",
    "5. What methods do you use to rotate a page?\n",
    "\n",
    "Ans: To rotate a page, you can use the rotateClockwise(angle) and rotateCounterClockwise(angle) methods on a Page object. The angle parameter specifies the degree of rotation.\n",
    "\n",
    "6. What is the difference between a Run object and a Paragraph object?\n",
    "\n",
    "Ans: In the context of PyPDF2, a Run object represents a contiguous run of text within a paragraph. It can have formatting properties like bold, underline, italic, strike, and outline. On the other hand, a Paragraph object represents a single paragraph of text. It can contain multiple Run objects.\n",
    "\n",
    "7. How do you obtain a list of Paragraph objects for a Document object stored in a variable named doc?\n",
    "\n",
    "Ans:  To obtain a list of Paragraph objects for a Document object stored in a variable named doc, you can access the paragraphs property of the doc object. It will provide a list of Paragraph objects.\n",
    "\n",
    "8. What type of object has bold, underline, italic, strike, and outline variables?\n",
    "\n",
    "Ans: The Run object has **bold, underline, italic, strike, and outline variables**. These variables allow you to control the formatting of the text within a Run.\n",
    "\n",
    "9. What is the difference between False, True, and None for the bold variable?\n",
    "\n",
    "Ans: In PyPDF2, the bold variable of a Run object can take three values:\n",
    "\n",
    "* When bold is set to **False**, it indicates that the text within the Run should not be displayed in bold.\n",
    "* When bold is set to **True**, it indicates that the text within the Run should be displayed in bold.\n",
    "* When bold is set to **None**, it indicates that the bold formatting of the text should follow the default styling defined by the document or the style applied to the paragraph.\n",
    "\n",
    "\n",
    "10. How do you create a Document object for a new Word document?\n",
    "\n",
    "Ans: To create a Document object for a new Word document, you can use the **docx.Document()** constructor without any arguments. It creates a new Document object that can be used to add content to the Word document.\n"
   ]
  },
  {
   "cell_type": "markdown",
   "id": "dae905b7",
   "metadata": {},
   "source": [
    "11. How do you add a paragraph with the text 'Hello, there!' to a Document object stored in a variable named doc?\n",
    "\n",
    "ANS: To add a paragraph with the text 'Hello, there!' to a Document object stored in a variable named doc, you can use the **add_paragraph()** method of the doc object. Here's an example:"
   ]
  },
  {
   "cell_type": "markdown",
   "id": "0f406376",
   "metadata": {},
   "source": [
    "```doc.add_paragraph('Hello, there!')```\n",
    "\n",
    "12. What integers represent the levels of headings available in Word documents?\n",
    "\n",
    "Ans: In Word documents, the levels of headings are represented by integers ranging from 1 to 9. Heading level 1 is the highest level, while heading level 9 is the lowest. These levels are used to structure the document and create a hierarchical organization of headings."
   ]
  },
  {
   "cell_type": "code",
   "execution_count": null,
   "id": "b8d8c7c3",
   "metadata": {},
   "outputs": [],
   "source": []
  }
 ],
 "metadata": {
  "kernelspec": {
   "display_name": "Python 3",
   "language": "python",
   "name": "python3"
  },
  "language_info": {
   "codemirror_mode": {
    "name": "ipython",
    "version": 3
   },
   "file_extension": ".py",
   "mimetype": "text/x-python",
   "name": "python",
   "nbconvert_exporter": "python",
   "pygments_lexer": "ipython3",
   "version": "3.8.8"
  }
 },
 "nbformat": 4,
 "nbformat_minor": 5
}
