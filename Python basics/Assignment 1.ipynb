{
 "cells": [
  {
   "cell_type": "markdown",
   "id": "b6a24ece",
   "metadata": {},
   "source": [
    "## Python Basics Assignment 1"
   ]
  },
  {
   "cell_type": "markdown",
   "id": "32d98cf0",
   "metadata": {},
   "source": [
    "#### Q1\n",
    "1. In the below elements which of them are values or an expression? eg:- values can be\n",
    "integer or string and \n",
    "#### expressions will be mathematical operators.\n",
    "\n",
    "*\n",
    "\n",
    "'hello'\n",
    "\n",
    "-87.8\n",
    "\n",
    "-\n",
    " \n",
    "/\n",
    " \n",
    "+\n",
    "\n",
    "6"
   ]
  },
  {
   "cell_type": "markdown",
   "id": "0ac996d9",
   "metadata": {},
   "source": [
    "Expressions: In genral it is a combination of operator and operand \n",
    "but for the sake of question given I consider operators as expressions\n",
    "\n",
    "Hence answer is \n",
    "\n",
    "1. Expressions --> * + / -\n",
    "2. values --> 'hello', -87.8, 6"
   ]
  },
  {
   "cell_type": "markdown",
   "id": "cb6236f8",
   "metadata": {},
   "source": [
    "### Q2\n",
    "2. What is the difference between string and variable?\n",
    "\n",
    "ANS.  1. String is a value but variable is a container that stores the particular value\n",
    "\n",
    "      2. string is of data type string only but a variable can be of any data type i.e., int, float , string, bool e.t.c"
   ]
  },
  {
   "cell_type": "markdown",
   "id": "28331326",
   "metadata": {},
   "source": [
    "## Q3\n",
    "3. Describe three different data types.\n",
    "\n",
    "ANS. \n",
    "1. TEXT type: string --> collection of characters enclosed in ' or \". it can also be  an array of characters\n",
    "\n",
    "2. NUMBERS: int --> deals only with integer numbers, float --> deals with decimals\n",
    "\n",
    "3. SEQUENCE : lists --> its a collection of elements which are enclosed with [] and each element inside list is separated with a ,elements can be of any data type, lists are mutable"
   ]
  },
  {
   "cell_type": "markdown",
   "id": "b87eaa5b",
   "metadata": {},
   "source": [
    "## Q4\n",
    "\n",
    "4. What is an expression made up of? What do all expressions do?\n",
    "\n",
    "ANS. \n",
    "    Expressions are made up of operators and operands.\n",
    "    Expressions produce a value \n",
    "    ex: 10+2= ___>12"
   ]
  },
  {
   "cell_type": "markdown",
   "id": "0c7948ec",
   "metadata": {},
   "source": [
    "# Q5\n",
    "\n",
    "5. This assignment statements, like spam = 10. What is the difference between anexpression and a statement?\n",
    "\n",
    "Ans. Expressions produces a value where as statements do not produce any type of value."
   ]
  },
  {
   "cell_type": "markdown",
   "id": "b816cd8c",
   "metadata": {},
   "source": [
    "# Q6\n",
    "\n",
    "6. After running the following code, what does the variable bacon contain?\n",
    "\n",
    "bacon = 22\n",
    "\n",
    "bacon + 1"
   ]
  },
  {
   "cell_type": "code",
   "execution_count": 4,
   "id": "8ae75127",
   "metadata": {},
   "outputs": [
    {
     "data": {
      "text/plain": [
       "23"
      ]
     },
     "execution_count": 4,
     "metadata": {},
     "output_type": "execute_result"
    }
   ],
   "source": [
    "bacon = 22\n",
    "bacon + 1\n",
    "#Answer bacon has value 22 only but output of bacon +1 is 23\n"
   ]
  },
  {
   "cell_type": "markdown",
   "id": "82a3989f",
   "metadata": {},
   "source": [
    "# Q7\n",
    "\n",
    "7. What should the values of the following two terms be?\n",
    "\n",
    "'spam' + 'spamspam'\n",
    "\n",
    "'spam'*3\n"
   ]
  },
  {
   "cell_type": "code",
   "execution_count": 5,
   "id": "a3bcd52e",
   "metadata": {},
   "outputs": [
    {
     "data": {
      "text/plain": [
       "'spamspamspam'"
      ]
     },
     "execution_count": 5,
     "metadata": {},
     "output_type": "execute_result"
    }
   ],
   "source": [
    "'spam' + 'spamspam'"
   ]
  },
  {
   "cell_type": "code",
   "execution_count": 6,
   "id": "de49e531",
   "metadata": {},
   "outputs": [
    {
     "data": {
      "text/plain": [
       "'spamspamspam'"
      ]
     },
     "execution_count": 6,
     "metadata": {},
     "output_type": "execute_result"
    }
   ],
   "source": [
    "'spam'*3\n",
    "\n",
    "#The output for both the values is same\n",
    "# In the first case is it concatination of two strings\n",
    "#in the second case it is the string multiplication \n",
    "#which produces same string n times here n=3"
   ]
  },
  {
   "cell_type": "markdown",
   "id": "8c006087",
   "metadata": {},
   "source": [
    "# Q8\n",
    "8. Why is eggs a valid variable name while 100 is invalid?\n",
    "\n",
    "Ans. eggs is valid because it is following the rules of declaring variable like\n",
    "\n",
    "1. variable should not consists of special characters\n",
    "2. variables should not start with numbers\n",
    "\n",
    "hence 100 is invalid based on second point."
   ]
  },
  {
   "cell_type": "markdown",
   "id": "8845369a",
   "metadata": {},
   "source": [
    "# Q9\n",
    "\n",
    "9. What three functions can be used to get the integer, floating-point number, or string version of a value?\n",
    "\n",
    "Ans.\n",
    "1. for integer it is -------> int()\n",
    "2. for floating point number it is ---------> float()\n",
    "3. for string it is ---------> str()"
   ]
  },
  {
   "cell_type": "code",
   "execution_count": 13,
   "id": "5202ac74",
   "metadata": {},
   "outputs": [
    {
     "name": "stdout",
     "output_type": "stream",
     "text": [
      "10 <class 'int'>\n",
      "10.0 <class 'float'>\n",
      "10.0 <class 'str'>\n"
     ]
    }
   ],
   "source": [
    "#Example program for different versions of a value\n",
    "a = 10\n",
    "print(a,type(a))\n",
    "a = float(a)\n",
    "print(a,type(a))\n",
    "a = str(a)\n",
    "print(a,type(a))"
   ]
  },
  {
   "cell_type": "markdown",
   "id": "a4e800a3",
   "metadata": {},
   "source": [
    "# Q10\n",
    "10. Why does this expression cause an error? How can you fix it?\n",
    "\n",
    "'I have eaten' + 99 + 'burritos'"
   ]
  },
  {
   "cell_type": "code",
   "execution_count": 17,
   "id": "3aa100b8",
   "metadata": {},
   "outputs": [
    {
     "name": "stdout",
     "output_type": "stream",
     "text": [
      "I have eaten 99 burritos\n",
      "I have eaten 99 burritos\n"
     ]
    }
   ],
   "source": [
    "#The error is that strings can only combine or concatinated \n",
    "#with strings 99 is an an int values we can make it string and\n",
    "#combine\n",
    "print('I have eaten '+str(99)+' burritos')\n",
    "\n",
    "#other possible method replace 99 with a variable\n",
    "a = 99\n",
    "print(f'I have eaten {a} burritos') \n",
    "# we will get the same output"
   ]
  }
 ],
 "metadata": {
  "kernelspec": {
   "display_name": "Python 3",
   "language": "python",
   "name": "python3"
  },
  "language_info": {
   "codemirror_mode": {
    "name": "ipython",
    "version": 3
   },
   "file_extension": ".py",
   "mimetype": "text/x-python",
   "name": "python",
   "nbconvert_exporter": "python",
   "pygments_lexer": "ipython3",
   "version": "3.8.8"
  }
 },
 "nbformat": 4,
 "nbformat_minor": 5
}
