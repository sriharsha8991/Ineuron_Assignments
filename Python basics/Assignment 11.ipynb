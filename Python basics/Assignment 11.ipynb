{
 "cells": [
  {
   "cell_type": "markdown",
   "id": "955b1575",
   "metadata": {},
   "source": [
    "## Assignment 11\n",
    "**By Sriharsha Velicheti**"
   ]
  },
  {
   "cell_type": "markdown",
   "id": "12148837",
   "metadata": {},
   "source": [
    "\n",
    "1. Create an assert statement that throws an AssertionError if the variable spam is a negative integer.\n",
    "2. Write an assert statement that triggers an AssertionError if the variables eggs and bacon contain strings that are the same as each other, even if their cases are different (that is, &#39;hello&#39; and &#39;hello&#39; are considered the same, and &#39;goodbye&#39; and &#39;GOODbye&#39; are also considered the same).\n",
    "3. Create an assert statement that throws an AssertionError every time.\n",
    "4. What are the two lines that must be present in your software in order to call logging.debug()?\n",
    "5. What are the two lines that your program must have in order to have logging.debug() send a logging message to a file named programLog.txt?\n",
    "6. What are the five levels of logging?\n",
    "7. What line of code would you add to your software to disable all logging messages?\n",
    "8. Why is using logging messages better than using print() to display the same message?\n",
    "9. What are the differences between the Step Over, Step In, and Step Out buttons in the debugger?\n",
    "10. After you click Continue, when will the debugger stop ?\n",
    "11. What is the concept of a breakpoint?"
   ]
  },
  {
   "cell_type": "markdown",
   "id": "22e271fa",
   "metadata": {},
   "source": [
    "**Q1:** Create an assert statement that throws an AssertionError if the variable spam is a negative integer.\n",
    "\n",
    "**A:** The assert statement would be: assert spam >= 0, \"spam must be a non-negative integer\""
   ]
  },
  {
   "cell_type": "code",
   "execution_count": 3,
   "id": "f1393cd9",
   "metadata": {},
   "outputs": [
    {
     "ename": "AssertionError",
     "evalue": "spam must be a non-negative integer",
     "output_type": "error",
     "traceback": [
      "\u001b[1;31m---------------------------------------------------------------------------\u001b[0m",
      "\u001b[1;31mAssertionError\u001b[0m                            Traceback (most recent call last)",
      "\u001b[1;32m<ipython-input-3-6331720c4798>\u001b[0m in \u001b[0;36m<module>\u001b[1;34m\u001b[0m\n\u001b[0;32m      1\u001b[0m \u001b[0mspam\u001b[0m \u001b[1;33m=\u001b[0m \u001b[1;33m-\u001b[0m\u001b[1;36m5\u001b[0m  \u001b[1;31m# Example value of 'spam'\u001b[0m\u001b[1;33m\u001b[0m\u001b[1;33m\u001b[0m\u001b[0m\n\u001b[0;32m      2\u001b[0m \u001b[1;33m\u001b[0m\u001b[0m\n\u001b[1;32m----> 3\u001b[1;33m \u001b[1;32massert\u001b[0m \u001b[0mspam\u001b[0m \u001b[1;33m>=\u001b[0m \u001b[1;36m0\u001b[0m\u001b[1;33m,\u001b[0m \u001b[1;34m\"spam must be a non-negative integer\"\u001b[0m\u001b[1;33m\u001b[0m\u001b[1;33m\u001b[0m\u001b[0m\n\u001b[0m\u001b[0;32m      4\u001b[0m \u001b[1;33m\u001b[0m\u001b[0m\n\u001b[0;32m      5\u001b[0m \u001b[0mprint\u001b[0m\u001b[1;33m(\u001b[0m\u001b[1;34m\"The value of spam is:\"\u001b[0m\u001b[1;33m,\u001b[0m \u001b[0mspam\u001b[0m\u001b[1;33m)\u001b[0m\u001b[1;33m\u001b[0m\u001b[1;33m\u001b[0m\u001b[0m\n",
      "\u001b[1;31mAssertionError\u001b[0m: spam must be a non-negative integer"
     ]
    }
   ],
   "source": [
    "# Q1 Code that throws the given Assertion ERROR\n",
    "spam = -5  # Example value of 'spam'\n",
    "\n",
    "assert spam >= 0, \"spam must be a non-negative integer\"\n",
    "\n",
    "print(\"The value of spam is:\", spam)\n"
   ]
  },
  {
   "cell_type": "markdown",
   "id": "6c6c1dc7",
   "metadata": {},
   "source": [
    "**Q2:** Write an assert statement that triggers an AssertionError if the variables eggs and bacon contain strings that are the same as each other, even if their cases are different.\n",
    "\n",
    "**A:** The assert statement would be: assert eggs.lower() != bacon.lower(), \"eggs and bacon must have different string values\"\n",
    "\n",
    "\n",
    "**Q3:** Create an assert statement that throws an AssertionError every time.\n",
    "\n",
    "**A:** An assert statement that always triggers an AssertionError can be written as: assert False, \"Assertion error\"\n",
    "\n"
   ]
  },
  {
   "cell_type": "code",
   "execution_count": 6,
   "id": "d0a4400f",
   "metadata": {},
   "outputs": [
    {
     "ename": "AssertionError",
     "evalue": "Always Assertion error",
     "output_type": "error",
     "traceback": [
      "\u001b[1;31m---------------------------------------------------------------------------\u001b[0m",
      "\u001b[1;31mAssertionError\u001b[0m                            Traceback (most recent call last)",
      "\u001b[1;32m<ipython-input-6-98c1e27dffa3>\u001b[0m in \u001b[0;36m<module>\u001b[1;34m\u001b[0m\n\u001b[1;32m----> 1\u001b[1;33m \u001b[1;32massert\u001b[0m \u001b[1;32mFalse\u001b[0m\u001b[1;33m,\u001b[0m \u001b[1;34m\"Always Assertion error\"\u001b[0m\u001b[1;33m\u001b[0m\u001b[1;33m\u001b[0m\u001b[0m\n\u001b[0m",
      "\u001b[1;31mAssertionError\u001b[0m: Always Assertion error"
     ]
    }
   ],
   "source": [
    "assert False, \"Always Assertion error\""
   ]
  },
  {
   "cell_type": "markdown",
   "id": "c57d8162",
   "metadata": {},
   "source": [
    "**Q4:** What are the two lines that must be present in your software in order to call logging.debug()?\n",
    "\n",
    "**A:** The two lines that must be present are:"
   ]
  },
  {
   "cell_type": "code",
   "execution_count": 7,
   "id": "61a77c4a",
   "metadata": {},
   "outputs": [],
   "source": [
    "import logging\n",
    "logging.basicConfig(filename='programLog.txt', level=logging.DEBUG)\n"
   ]
  },
  {
   "cell_type": "markdown",
   "id": "47923be6",
   "metadata": {},
   "source": [
    "**Q5**: What are the five levels of logging?\n",
    "\n",
    "**A:** The five levels of logging, in increasing order of severity, are: **DEBUG, INFO, WARNING, ERROR, and CRITICAL.**\n",
    "\n",
    "**Q6:** What line of code would you add to your software to disable all logging messages?\n",
    "\n",
    "**A:** To disable all logging messages, you can add the following line:"
   ]
  },
  {
   "cell_type": "code",
   "execution_count": 8,
   "id": "25151ff8",
   "metadata": {},
   "outputs": [],
   "source": [
    "logging.disable(logging.CRITICAL)"
   ]
  },
  {
   "cell_type": "markdown",
   "id": "75121cd0",
   "metadata": {},
   "source": [
    "**Q8:** Why is using logging messages better than using print() to display the same message?\n",
    "    \n",
    "**A:** Using logging messages provides several advantages over using print():\n",
    "\n",
    "* Logging messages can be easily disabled or enabled at different levels of severity without modifying the code.\n",
    "* Logging messages can be directed to different outputs, such as console, files, or external services.\n",
    "* Logging messages can include additional information like timestamps, log levels, and source code line numbers.\n",
    "* Logging messages can be formatted in a customizable way, allowing for easier analysis and debugging."
   ]
  },
  {
   "cell_type": "markdown",
   "id": "de041fab",
   "metadata": {},
   "source": [
    "**Q9:** What are the differences between the Step Over, Step In, and Step Out buttons in the debugger?\n",
    "\n",
    "**A:** The differences between these debugger buttons are:\n",
    "\n",
    "* Step Over: Executes the current line of code and advances to the next line in the same function. If there is a function call, it executes the entire function and moves to the next line in the current function.\n",
    "\n",
    "* Step In: If there is a function call, it steps into the function and pauses at the first line of the function definition, allowing you to debug within the function.\n",
    "\n",
    "* Step Out: Steps out of the current function and continues the execution until it returns to the calling function or reaches the end of the program.\n",
    "\n",
    "\n",
    "**Q10:** After you click Continue, when will the debugger stop?\n",
    "\n",
    "**A:** After clicking Continue, the debugger will stop when it encounters the next breakpoint or reaches the end of the program.\n",
    "\n",
    "**Q11:** What is the concept of a breakpoint?\n",
    "\n",
    "**A:** A breakpoint is a specific point in the code where the debugger will pause the execution, allowing you to inspect variables, step through the code, and debug issues. It helps in analyzing and understanding the program's behavior at specific locations, such as before or after critical statements or in loops, to identify and resolve bugs or unexpected behavior.\n",
    "\n"
   ]
  }
 ],
 "metadata": {
  "kernelspec": {
   "display_name": "Python 3",
   "language": "python",
   "name": "python3"
  },
  "language_info": {
   "codemirror_mode": {
    "name": "ipython",
    "version": 3
   },
   "file_extension": ".py",
   "mimetype": "text/x-python",
   "name": "python",
   "nbconvert_exporter": "python",
   "pygments_lexer": "ipython3",
   "version": "3.8.8"
  }
 },
 "nbformat": 4,
 "nbformat_minor": 5
}
