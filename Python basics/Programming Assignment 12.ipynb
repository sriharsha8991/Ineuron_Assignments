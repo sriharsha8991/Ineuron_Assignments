{
 "cells": [
  {
   "cell_type": "markdown",
   "id": "59bf446e",
   "metadata": {},
   "source": [
    "# Programming Assignment 12\n",
    "**By Sriharsha velcheti**"
   ]
  },
  {
   "cell_type": "markdown",
   "id": "c1aee963",
   "metadata": {},
   "source": [
    "1. Write a Python program to Extract Unique values dictionary values?\n",
    "2. Write a Python program to find the sum of all items in a dictionary?\n",
    "3. Write a Python program to Merging two Dictionaries?\n",
    "4. Write a Python program to convert key-values list to flat dictionary?\n",
    "5. Write a Python program to insertion at the beginning in OrderedDict?\n",
    "6. Write a Python program to check order of character in string using OrderedDict()?\n",
    "7. Write a Python program to sort Python Dictionaries by Key or Value?"
   ]
  },
  {
   "cell_type": "code",
   "execution_count": 1,
   "id": "5588ab52",
   "metadata": {},
   "outputs": [
    {
     "name": "stdout",
     "output_type": "stream",
     "text": [
      "[1, 2, 3]\n"
     ]
    }
   ],
   "source": [
    "#1.Write a Python program to Extract Unique values dictionary values?\n",
    "def extract_unique_values(dictionary):\n",
    "    unique_values = set(dictionary.values())\n",
    "    return list(unique_values)\n",
    "\n",
    "# Example usage:\n",
    "my_dict = {'a': 1, 'b': 2, 'c': 1, 'd': 3, 'e': 2}\n",
    "unique_values_list = extract_unique_values(my_dict)\n",
    "print(unique_values_list)\n"
   ]
  },
  {
   "cell_type": "code",
   "execution_count": 2,
   "id": "3f5d5e7c",
   "metadata": {},
   "outputs": [
    {
     "name": "stdout",
     "output_type": "stream",
     "text": [
      "10\n"
     ]
    }
   ],
   "source": [
    "#2.Write a Python program to find the sum of all items in a dictionary?\n",
    "my_dict = {'a': 1, 'b': 2, 'c': 3, 'd': 4}\n",
    "sum_of_items = sum(my_dict.values())\n",
    "print(sum_of_items)\n"
   ]
  },
  {
   "cell_type": "code",
   "execution_count": 7,
   "id": "cbf3a5f1",
   "metadata": {},
   "outputs": [
    {
     "name": "stdout",
     "output_type": "stream",
     "text": [
      "{'a': 1, 'b': 2, 'c': 3, 'd': 4}\n"
     ]
    }
   ],
   "source": [
    "#3.Write a Python program to Merging two Dictionaries?\n",
    "def merge_dictionaries(dict1, dict2):\n",
    "    merged_dict = {**dict1, **dict2}# for selecting both key values and making them hashable\n",
    "    return merged_dict\n",
    "\n",
    "# Example usage:\n",
    "dict1 = {'a': 1, 'b': 2}\n",
    "dict2 = {'c': 3, 'd': 4}\n",
    "merged_dict = merge_dictionaries(dict1, dict2)\n",
    "print(merged_dict)\n"
   ]
  },
  {
   "cell_type": "code",
   "execution_count": 9,
   "id": "55d2cfb0",
   "metadata": {},
   "outputs": [
    {
     "name": "stdout",
     "output_type": "stream",
     "text": [
      "{'a': 1, 'b': 2, 'c': 3}\n"
     ]
    }
   ],
   "source": [
    "#Write a Python program to convert key-values list to flat dictionary?\n",
    "def convert_to_flat_dictionary(key_value_list):\n",
    "    flat_dictionary = {k: v for k,v in key_value_list}\n",
    "    return flat_dictionary\n",
    "\n",
    "# Example usage:\n",
    "key_value_list = [['a', 1], ['b', 2], ['c', 3]]\n",
    "flat_dict = convert_to_flat_dictionary(key_value_list)\n",
    "print(flat_dict)\n"
   ]
  },
  {
   "cell_type": "code",
   "execution_count": 11,
   "id": "0e631f8b",
   "metadata": {},
   "outputs": [
    {
     "name": "stdout",
     "output_type": "stream",
     "text": [
      "Original OrderedDict: OrderedDict([('a', 1), ('b', 2)])\n",
      "After inserting at the beginning: OrderedDict([('c', 3), ('a', 1), ('b', 2)])\n"
     ]
    }
   ],
   "source": [
    "#Write a Python program to insertion at the beginning in OrderedDict?\n",
    "from collections import OrderedDict\n",
    "\n",
    "def insert_at_beginning(od, key, value):\n",
    "    od[key] = value\n",
    "    od.move_to_end(key, last=False)\n",
    "\n",
    "# Example usage:\n",
    "my_ordered_dict = OrderedDict([('a', 1), ('b', 2)])\n",
    "print(\"Original OrderedDict:\", my_ordered_dict)\n",
    "\n",
    "insert_at_beginning(my_ordered_dict, 'c', 3)\n",
    "print(\"After inserting at the beginning:\", my_ordered_dict)\n"
   ]
  },
  {
   "cell_type": "code",
   "execution_count": 15,
   "id": "0aa5de8c",
   "metadata": {},
   "outputs": [
    {
     "name": "stdout",
     "output_type": "stream",
     "text": [
      "Original order of characters: True\n",
      "Original order of characters: False\n"
     ]
    }
   ],
   "source": [
    "#Write a Python program to check order of character in string using OrderedDict()?\n",
    "from collections import OrderedDict\n",
    "\n",
    "def check_order_of_characters(string):\n",
    "    original_order = ''.join(OrderedDict.fromkeys(string))\n",
    "    return original_order == string\n",
    "\n",
    "# Example usage:\n",
    "my_string1 = \"abc\"\n",
    "my_string2 = \"Hello\"\n",
    "\n",
    "result = check_order_of_characters(my_string1)\n",
    "print(f\"Original order of characters: {result}\")\n",
    "result = check_order_of_characters(my_string2)\n",
    "print(f\"Original order of characters: {result}\")\n"
   ]
  },
  {
   "cell_type": "code",
   "execution_count": 16,
   "id": "8318f8d4",
   "metadata": {},
   "outputs": [],
   "source": [
    "#Write a Python program to sort Python Dictionaries by Key or Value?\n",
    "my_dict = {'b': 2, 'a': 1, 'c': 3}\n",
    "\n",
    "# Sort the dictionary by key in ascending order\n",
    "sorted_dict_by_key = dict(sorted(my_dict.items(), key=lambda x: x[0]))\n",
    "print(\"Sorted by Key (Ascending):\", sorted_dict_by_key)\n",
    "\n",
    "# Sort the dictionary by key in descending order\n",
    "sorted_dict_by_key_desc = dict(sorted(my_dict.items(), key=lambda x: x[0], reverse=True))\n",
    "print(\"Sorted by Key (Descending):\", sorted_dict_by_key_desc)\n",
    "# We can go for Values by replaceing lambda x[0] with x[1]"
   ]
  },
  {
   "cell_type": "code",
   "execution_count": null,
   "id": "15f8ff1c",
   "metadata": {},
   "outputs": [],
   "source": []
  }
 ],
 "metadata": {
  "kernelspec": {
   "display_name": "Python 3",
   "language": "python",
   "name": "python3"
  },
  "language_info": {
   "codemirror_mode": {
    "name": "ipython",
    "version": 3
   },
   "file_extension": ".py",
   "mimetype": "text/x-python",
   "name": "python",
   "nbconvert_exporter": "python",
   "pygments_lexer": "ipython3",
   "version": "3.8.8"
  }
 },
 "nbformat": 4,
 "nbformat_minor": 5
}
