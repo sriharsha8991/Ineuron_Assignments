{
 "cells": [
  {
   "cell_type": "markdown",
   "id": "56cd80a0",
   "metadata": {},
   "source": [
    "# Programming Assignment 1\n",
    "**By Sriharsha Velicheti**"
   ]
  },
  {
   "cell_type": "markdown",
   "id": "cb7b382d",
   "metadata": {},
   "source": [
    "1. Write a Python program to print &quot;Hello Python&quot;?\n",
    "2. Write a Python program to do arithmetical operations addition and division.?\n",
    "3. Write a Python program to find the area of a triangle?\n",
    "4. Write a Python program to swap two variables?\n",
    "5. Write a Python program to generate a random number?"
   ]
  },
  {
   "cell_type": "code",
   "execution_count": 5,
   "id": "e388db37",
   "metadata": {},
   "outputs": [
    {
     "name": "stdout",
     "output_type": "stream",
     "text": [
      "Hello World\n",
      "Addition 9\n",
      "Division 0.8\n",
      "Area of Triangle: 2400.0\n",
      "Before Swapping: 10 20\n",
      "After Swapping: 20 10\n",
      "Random number:  3\n"
     ]
    }
   ],
   "source": [
    "# Q1\n",
    "print(\"Hello World\")\n",
    "\n",
    "#Q2\n",
    "a,b=4,5\n",
    "print(\"Addition\", a+b)\n",
    "print(\"Division\", a/b)\n",
    "\n",
    "# Area of triangle --> 0.5*b*h\n",
    "base = 40\n",
    "height = 120\n",
    "area = 0.5*base*height\n",
    "print(\"Area of Triangle:\",area)\n",
    "\n",
    "# Swapping of two variable\n",
    "v1 = 10\n",
    "v2 = 20\n",
    "print(\"Before Swapping:\",v1,v2)\n",
    "v1,v2=v2,v1\n",
    "print(\"After Swapping:\",v1,v2)\n",
    "\n",
    "#generate random number\n",
    "import random as rd\n",
    "print(\"Random number: \",rd.randint(1,10))"
   ]
  },
  {
   "cell_type": "code",
   "execution_count": null,
   "id": "d933bfd0",
   "metadata": {},
   "outputs": [],
   "source": []
  }
 ],
 "metadata": {
  "kernelspec": {
   "display_name": "Python 3",
   "language": "python",
   "name": "python3"
  },
  "language_info": {
   "codemirror_mode": {
    "name": "ipython",
    "version": 3
   },
   "file_extension": ".py",
   "mimetype": "text/x-python",
   "name": "python",
   "nbconvert_exporter": "python",
   "pygments_lexer": "ipython3",
   "version": "3.8.8"
  }
 },
 "nbformat": 4,
 "nbformat_minor": 5
}
