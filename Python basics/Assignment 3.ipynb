{
 "cells": [
  {
   "cell_type": "markdown",
   "id": "f1a12794",
   "metadata": {},
   "source": [
    "# Q1\n",
    "1. Why are functions advantageous to have in your programs?\n",
    "\n",
    "Ans. Instead of writing the same code again and again, you can write the code once inside a function and use it when ever there is a requirement. So there is no need of writing entire code again and again , I can simply call the function.\n",
    "\n",
    "It makes my code much readable and easy to understand and saves my time and space."
   ]
  },
  {
   "cell_type": "markdown",
   "id": "da64ddee",
   "metadata": {},
   "source": [
    "# Q2\n",
    "2. When does the code in a function run: when it's specified or when it's called?\n",
    "\n",
    "Ans. The function in the code run's when its called."
   ]
  },
  {
   "cell_type": "markdown",
   "id": "aafb1ecf",
   "metadata": {},
   "source": [
    "# Q3\n",
    "3. What statement creates a function?\n",
    "\n",
    "Ans. def function_name():  creates a function and function name can be anything depends on the user"
   ]
  },
  {
   "cell_type": "code",
   "execution_count": 1,
   "id": "bcbd3035",
   "metadata": {},
   "outputs": [
    {
     "data": {
      "text/plain": [
       "12"
      ]
     },
     "execution_count": 1,
     "metadata": {},
     "output_type": "execute_result"
    }
   ],
   "source": [
    "#Q3 Example function\n",
    "def add(a,b):\n",
    "    return a+b\n",
    "add(3,9)"
   ]
  },
  {
   "cell_type": "markdown",
   "id": "4468e833",
   "metadata": {},
   "source": [
    "# Q4\n",
    "4. What is the difference between a function and a function call?\n",
    "\n",
    "Ans.Function is the block of code and function call is the usage of that particular function created."
   ]
  },
  {
   "cell_type": "code",
   "execution_count": 2,
   "id": "1b88ea3b",
   "metadata": {},
   "outputs": [
    {
     "data": {
      "text/plain": [
       "36"
      ]
     },
     "execution_count": 2,
     "metadata": {},
     "output_type": "execute_result"
    }
   ],
   "source": [
    "#Q4 example program\n",
    "#Function or the block of code\n",
    "def square(a):\n",
    "    return a**2\n",
    "\n",
    "#function calling\n",
    "square(6)"
   ]
  },
  {
   "cell_type": "markdown",
   "id": "0add1f1a",
   "metadata": {},
   "source": [
    "# Q5\n",
    "5. How many global scopes are there in a Python program? How many local scopes?\n",
    "\n",
    "Ans.There is only one global scope in a Python program. A local scope is created whenever a function is called, and as many local scopes can be created as there are functions in the program.\n"
   ]
  },
  {
   "cell_type": "markdown",
   "id": "10877f71",
   "metadata": {},
   "source": [
    "# Q6\n",
    "6. What happens to variables in a local scope when the function call returns?\n",
    "\n",
    "Ans.variables in the local space gets destroyed or deleted from the memory when the function call returns."
   ]
  },
  {
   "cell_type": "markdown",
   "id": "29d2deb8",
   "metadata": {},
   "source": [
    "# Q7\n",
    "7. What is the concept of a return value? Is it possible to have a return value in an expression?\n",
    "\n",
    "Ans. The concept of a return value is that a function call can return a value back to the caller. It is possible to have a return value in an expression, as a function call can be part of an expression.\n",
    "\n"
   ]
  },
  {
   "cell_type": "code",
   "execution_count": 3,
   "id": "5fd7ecf2",
   "metadata": {},
   "outputs": [],
   "source": [
    "#example code for return in expression\n",
    "def hello():\n",
    "    return \"Hi this is Sriharsha\"\n",
    "greet = hello() #function returns in exression\n",
    "#now the value of hello is stored in greet"
   ]
  },
  {
   "cell_type": "markdown",
   "id": "a7b833bd",
   "metadata": {},
   "source": [
    "# Q8\n",
    "8. If a function does not have a return statement, what is the return value of a call to that function?\n",
    "\n",
    "Ans. The code inside the functional block executes and it will not return any value. Hence its a \"None Type\"\n",
    "\n",
    "Lets try to understand this with a program"
   ]
  },
  {
   "cell_type": "code",
   "execution_count": 11,
   "id": "c8a93d29",
   "metadata": {},
   "outputs": [
    {
     "name": "stdout",
     "output_type": "stream",
     "text": [
      "0\n",
      "1\n",
      "2\n",
      "3\n"
     ]
    },
    {
     "data": {
      "text/plain": [
       "NoneType"
      ]
     },
     "execution_count": 11,
     "metadata": {},
     "output_type": "execute_result"
    }
   ],
   "source": [
    "def nums(a):# function that don't have return\n",
    "    for i in range(a):\n",
    "        print(i)\n",
    "type(nums(4))"
   ]
  },
  {
   "cell_type": "markdown",
   "id": "adff47f6",
   "metadata": {},
   "source": [
    "# Q9\n",
    "9. How do you make a function variable refer to the global variable?\n",
    "\n",
    "Ans.\n",
    "We can make use of Global key word"
   ]
  },
  {
   "cell_type": "code",
   "execution_count": 15,
   "id": "0095474f",
   "metadata": {},
   "outputs": [
    {
     "data": {
      "text/plain": [
       "130"
      ]
     },
     "execution_count": 15,
     "metadata": {},
     "output_type": "execute_result"
    }
   ],
   "source": [
    "def fun():\n",
    "    global va\n",
    "    va = 65\n",
    "    return va+65\n",
    "fun()"
   ]
  },
  {
   "cell_type": "markdown",
   "id": "4ba043c8",
   "metadata": {},
   "source": [
    "# Q10\n",
    "10. What is the data type of None?\n",
    "\n",
    "Ans. The data type of None is None Type"
   ]
  },
  {
   "cell_type": "code",
   "execution_count": 17,
   "id": "67737e1c",
   "metadata": {},
   "outputs": [
    {
     "data": {
      "text/plain": [
       "NoneType"
      ]
     },
     "execution_count": 17,
     "metadata": {},
     "output_type": "execute_result"
    }
   ],
   "source": [
    "type(None)"
   ]
  },
  {
   "cell_type": "markdown",
   "id": "c9865d72",
   "metadata": {},
   "source": [
    "# Q11\n",
    "11. What does the sentence import areallyourpetsnamederic do?\n",
    "\n",
    "Ans. In general if there is a module \"areallyourpetsnamederic\" the import gets all the access of function or code inside that particular module.\n"
   ]
  },
  {
   "cell_type": "markdown",
   "id": "5c849016",
   "metadata": {},
   "source": [
    "# Q12\n",
    "12. If you had a bacon() feature in a spam module, what would you call it after importing spam?\n",
    "\n",
    "Ans. spam.bacon()"
   ]
  },
  {
   "cell_type": "markdown",
   "id": "b69a3ac8",
   "metadata": {},
   "source": [
    "# Q13\n",
    "13. What can you do to save a programme from crashing if it encounters an error?\n",
    "\n",
    "Ans. I will use the concept of exception handling where we can capture that one particular error causing code and let the remaining code run smoothly"
   ]
  },
  {
   "cell_type": "code",
   "execution_count": 21,
   "id": "90d4572e",
   "metadata": {},
   "outputs": [
    {
     "name": "stdout",
     "output_type": "stream",
     "text": [
      "division by zero\n",
      "1.0\n",
      "0.5\n",
      "0.3333333333333333\n",
      "0.25\n",
      "0.2\n",
      "0.16666666666666666\n",
      "0.14285714285714285\n",
      "0.125\n",
      "0.1111111111111111\n",
      "0.1\n"
     ]
    }
   ],
   "source": [
    "#Example Program:\n",
    "\n",
    "for i in range(11):\n",
    "    try:\n",
    "        print(1/i)\n",
    "    except Exception as e:\n",
    "        print(e)\n",
    "# we captured one thing that causing error in the except block"
   ]
  },
  {
   "cell_type": "markdown",
   "id": "02354b1e",
   "metadata": {},
   "source": [
    "# Q14\n",
    "14. What is the purpose of the try clause? What is the purpose of the except clause?\n",
    "\n",
    "Ans. Try block of code used for normal execution of code if there is any error in try block that would be sent to except block\n",
    "\n",
    "Example program is mentioned above.\n"
   ]
  },
  {
   "cell_type": "code",
   "execution_count": null,
   "id": "ba7e8faf",
   "metadata": {},
   "outputs": [],
   "source": []
  },
  {
   "cell_type": "code",
   "execution_count": null,
   "id": "3c3a842f",
   "metadata": {},
   "outputs": [],
   "source": []
  },
  {
   "cell_type": "code",
   "execution_count": null,
   "id": "47c8eed2",
   "metadata": {},
   "outputs": [],
   "source": []
  },
  {
   "cell_type": "code",
   "execution_count": null,
   "id": "2d77ba57",
   "metadata": {},
   "outputs": [],
   "source": []
  },
  {
   "cell_type": "code",
   "execution_count": null,
   "id": "fcee80ea",
   "metadata": {},
   "outputs": [],
   "source": []
  },
  {
   "cell_type": "code",
   "execution_count": null,
   "id": "ceffc1d2",
   "metadata": {},
   "outputs": [],
   "source": []
  },
  {
   "cell_type": "code",
   "execution_count": null,
   "id": "0a166483",
   "metadata": {},
   "outputs": [],
   "source": []
  },
  {
   "cell_type": "code",
   "execution_count": null,
   "id": "89e2f90d",
   "metadata": {},
   "outputs": [],
   "source": []
  },
  {
   "cell_type": "code",
   "execution_count": null,
   "id": "ff742e8e",
   "metadata": {},
   "outputs": [],
   "source": []
  }
 ],
 "metadata": {
  "kernelspec": {
   "display_name": "Python 3",
   "language": "python",
   "name": "python3"
  },
  "language_info": {
   "codemirror_mode": {
    "name": "ipython",
    "version": 3
   },
   "file_extension": ".py",
   "mimetype": "text/x-python",
   "name": "python",
   "nbconvert_exporter": "python",
   "pygments_lexer": "ipython3",
   "version": "3.8.8"
  }
 },
 "nbformat": 4,
 "nbformat_minor": 5
}
