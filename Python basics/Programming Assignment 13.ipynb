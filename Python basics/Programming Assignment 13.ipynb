{
 "cells": [
  {
   "cell_type": "markdown",
   "id": "aef018bc",
   "metadata": {},
   "source": [
    "# Programming Assignment 13\n",
    "**By Sriharsha Velicheti**"
   ]
  },
  {
   "cell_type": "code",
   "execution_count": 2,
   "id": "c0f5d9a3",
   "metadata": {},
   "outputs": [
    {
     "name": "stdout",
     "output_type": "stream",
     "text": [
      "Enter the values of D (comma-separated): 10,2,3\n",
      "Output:\n",
      "5,2,3\n"
     ]
    }
   ],
   "source": [
    "# Q1\n",
    "import math\n",
    "\n",
    "# Fixed values of C and H\n",
    "C = 50\n",
    "H = 30\n",
    "\n",
    "# Input the values of D as a comma-separated sequence\n",
    "input_sequence = input(\"Enter the values of D (comma-separated): \")\n",
    "\n",
    "# Split the input sequence by comma and convert to integer values\n",
    "values_of_D = [int(x.strip()) for x in input_sequence.split(',')]\n",
    "\n",
    "# Calculate the values of Q using the formula\n",
    "values_of_Q = [math.sqrt((2 * C * D) / H) for D in values_of_D]\n",
    "\n",
    "# Print the calculated values of Q\n",
    "print(\"Output:\")\n",
    "print(','.join(str(int(Q)) for Q in values_of_Q))\n"
   ]
  },
  {
   "cell_type": "code",
   "execution_count": 5,
   "id": "155dd50b",
   "metadata": {},
   "outputs": [
    {
     "name": "stdout",
     "output_type": "stream",
     "text": [
      "Enter the values of X and Y (comma-separated): 6,7\n",
      "Output:\n",
      "[0, 0, 0, 0, 0, 0, 0]\n",
      "[0, 1, 2, 3, 4, 5, 6]\n",
      "[0, 2, 4, 6, 8, 10, 12]\n",
      "[0, 3, 6, 9, 12, 15, 18]\n",
      "[0, 4, 8, 12, 16, 20, 24]\n",
      "[0, 5, 10, 15, 20, 25, 30]\n"
     ]
    }
   ],
   "source": [
    "#Q2\n",
    "# Input the values of X and Y\n",
    "X, Y = map(int, input(\"Enter the values of X and Y (comma-separated): \").split(','))\n",
    "\n",
    "# Create the 2-dimensional array\n",
    "two_dimensional_array = []\n",
    "for i in range(X):\n",
    "    row = []\n",
    "    for j in range(Y):\n",
    "        row.append(i * j)\n",
    "    two_dimensional_array.append(row)\n",
    "\n",
    "# Print the generated array\n",
    "print(\"Output:\")\n",
    "for row in two_dimensional_array:\n",
    "    print(row)\n"
   ]
  },
  {
   "cell_type": "code",
   "execution_count": 7,
   "id": "1e1bd0b7",
   "metadata": {},
   "outputs": [
    {
     "name": "stdout",
     "output_type": "stream",
     "text": [
      "Enter a comma-separated sequence of words: my,name,is,sriharsha,from,fsds2\n",
      "soreted Output: from,fsds2,is,my,name,sriharsha\n"
     ]
    }
   ],
   "source": [
    "#Q3\n",
    "# Accept the input sequence of words\n",
    "input_sequence = input(\"Enter a comma-separated sequence of words: \")\n",
    "\n",
    "# Split the input string into a list of words\n",
    "words = input_sequence.split(',')\n",
    "\n",
    "# Sort the words alphabetically\n",
    "sorted_words = sorted(words)\n",
    "\n",
    "# Join the sorted words using a comma as the delimiter\n",
    "output_sequence = ','.join(sorted_words)\n",
    "\n",
    "# Print the sorted words\n",
    "print(\"soreted Output:\", output_sequence)\n"
   ]
  },
  {
   "cell_type": "code",
   "execution_count": 9,
   "id": "f553d2c0",
   "metadata": {},
   "outputs": [
    {
     "name": "stdout",
     "output_type": "stream",
     "text": [
      "Enter a sequence of whitespace-separated words: hi hello namaste fsds2 ineuron\n",
      "Output: fsds2 hello hi ineuron namaste\n"
     ]
    }
   ],
   "source": [
    "#Q4\n",
    "# Accept the input sequence of whitespace-separated words\n",
    "input_sequence = input(\"Enter a sequence of whitespace-separated words: \")\n",
    "\n",
    "# Split the input string into a list of words\n",
    "words = input_sequence.split()\n",
    "\n",
    "# Remove duplicates by creating a set from the list of words\n",
    "unique_words = set(words)\n",
    "\n",
    "# Convert the set back to a list\n",
    "unique_word_list = list(unique_words)\n",
    "\n",
    "# Sort the list of words alphanumerically\n",
    "sorted_words = sorted(unique_word_list)\n",
    "\n",
    "# Join the sorted words using whitespace as the delimiter\n",
    "output_sequence = ' '.join(sorted_words)\n",
    "\n",
    "# Print the sorted words\n",
    "print(\"Output:\", output_sequence)\n"
   ]
  },
  {
   "cell_type": "code",
   "execution_count": 10,
   "id": "6069ce69",
   "metadata": {},
   "outputs": [
    {
     "name": "stdout",
     "output_type": "stream",
     "text": [
      "Enter a sentence: hello ineuron welcome to fsds2.0\n",
      "LETTERS 25\n",
      "DIGITS 2\n"
     ]
    }
   ],
   "source": [
    "#Q5\n",
    "# Accept the input sentence\n",
    "sentence = input(\"Enter a sentence: \")\n",
    "\n",
    "# Initialize counters for letters and digits\n",
    "letter_count = 0\n",
    "digit_count = 0\n",
    "\n",
    "# Iterate over each character in the sentence\n",
    "for char in sentence:\n",
    "    # Check if the character is a letter\n",
    "    if char.isalpha():\n",
    "        letter_count += 1\n",
    "    # Check if the character is a digit\n",
    "    elif char.isdigit():\n",
    "        digit_count += 1\n",
    "\n",
    "# Print the results\n",
    "print(\"LETTERS\", letter_count)\n",
    "print(\"DIGITS\", digit_count)\n",
    "\n"
   ]
  },
  {
   "cell_type": "code",
   "execution_count": 11,
   "id": "b8584217",
   "metadata": {},
   "outputs": [
    {
     "name": "stdout",
     "output_type": "stream",
     "text": [
      "Enter comma separated passwords: ABd1234@1,a F1#,2w3E*,2We3345\n",
      "ABd1234@1\n"
     ]
    }
   ],
   "source": [
    "#Q6\n",
    "import re\n",
    "\n",
    "def check_password_validity(password):\n",
    "    # Check if the password satisfies all the criteria\n",
    "    if re.search(r\"[a-z]\", password) and \\\n",
    "       re.search(r\"[0-9]\", password) and \\\n",
    "       re.search(r\"[A-Z]\", password) and \\\n",
    "       re.search(r\"[$#@]\", password) and \\\n",
    "       len(password) >= 6 and len(password) <= 12:\n",
    "        return True\n",
    "    else:\n",
    "        return False\n",
    "\n",
    "# Accept the input sequence of passwords\n",
    "passwords = input(\"Enter comma separated passwords: \").split(\",\")\n",
    "\n",
    "# Initialize a list to store valid passwords\n",
    "valid_passwords = []\n",
    "\n",
    "# Iterate over each password in the input sequence\n",
    "for password in passwords:\n",
    "    # Check the validity of the password\n",
    "    if check_password_validity(password.strip()):\n",
    "        valid_passwords.append(password.strip())\n",
    "\n",
    "# Print the valid passwords separated by comma\n",
    "print(\",\".join(valid_passwords))\n"
   ]
  },
  {
   "cell_type": "code",
   "execution_count": 14,
   "id": "5804799e",
   "metadata": {},
   "outputs": [],
   "source": [
    "#explain re module"
   ]
  }
 ],
 "metadata": {
  "kernelspec": {
   "display_name": "Python 3",
   "language": "python",
   "name": "python3"
  },
  "language_info": {
   "codemirror_mode": {
    "name": "ipython",
    "version": 3
   },
   "file_extension": ".py",
   "mimetype": "text/x-python",
   "name": "python",
   "nbconvert_exporter": "python",
   "pygments_lexer": "ipython3",
   "version": "3.8.8"
  }
 },
 "nbformat": 4,
 "nbformat_minor": 5
}
