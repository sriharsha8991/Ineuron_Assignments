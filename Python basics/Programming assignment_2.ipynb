{
 "cells": [
  {
   "cell_type": "markdown",
   "id": "bbc4f1df",
   "metadata": {},
   "source": [
    "# Programming Assignment 2\n",
    "**By Sriharsha Velicheti**"
   ]
  },
  {
   "cell_type": "markdown",
   "id": "317d0823",
   "metadata": {},
   "source": [
    "1. Write a Python program to convert kilometers to miles?\n",
    "2. Write a Python program to convert Celsius to Fahrenheit?\n",
    "3. Write a Python program to display calendar?\n",
    "4. Write a Python program to solve quadratic equation?\n",
    "5. Write a Python program to swap two variables without temp variable?"
   ]
  },
  {
   "cell_type": "code",
   "execution_count": 1,
   "id": "4ee63bef",
   "metadata": {},
   "outputs": [
    {
     "name": "stdout",
     "output_type": "stream",
     "text": [
      "10 kilometers is equal to 6.21371 miles\n",
      "25 degrees Celsius is equal to 77.0 degrees Fahrenheit\n",
      "      May 2023\n",
      "Mo Tu We Th Fr Sa Su\n",
      " 1  2  3  4  5  6  7\n",
      " 8  9 10 11 12 13 14\n",
      "15 16 17 18 19 20 21\n",
      "22 23 24 25 26 27 28\n",
      "29 30 31\n",
      "\n",
      "The roots of the quadratic equation are: 2.0, 1.0\n",
      "After swapping:\n",
      "x = 10, y = 5\n"
     ]
    }
   ],
   "source": [
    "# Convert kilometers to miles\n",
    "kilometers = 10\n",
    "miles = kilometers * 0.621371\n",
    "print(f\"{kilometers} kilometers is equal to {miles} miles\")\n",
    "\n",
    "# Convert Celsius to Fahrenheit\n",
    "celsius = 25\n",
    "fahrenheit = (celsius * 9/5) + 32\n",
    "print(f\"{celsius} degrees Celsius is equal to {fahrenheit} degrees Fahrenheit\")\n",
    "\n",
    "# Display calendar\n",
    "import calendar\n",
    "\n",
    "year = 2023\n",
    "month = 5\n",
    "\n",
    "print(calendar.month(year, month))\n",
    "\n",
    "# Solve quadratic equation\n",
    "import math\n",
    "\n",
    "a = 1\n",
    "b = -3\n",
    "c = 2\n",
    "\n",
    "discriminant = b**2 - 4*a*c\n",
    "if discriminant > 0:\n",
    "    root1 = (-b + math.sqrt(discriminant)) / (2*a)\n",
    "    root2 = (-b - math.sqrt(discriminant)) / (2*a)\n",
    "    print(f\"The roots of the quadratic equation are: {root1}, {root2}\")\n",
    "elif discriminant == 0:\n",
    "    root = -b / (2*a)\n",
    "    print(f\"The quadratic equation has a single root: {root}\")\n",
    "else:\n",
    "    print(\"The quadratic equation has no real roots\")\n",
    "\n",
    "# Swap two variables without a temporary variable\n",
    "x = 5\n",
    "y = 10\n",
    "\n",
    "x, y = y, x\n",
    "\n",
    "print(\"After swapping:\")\n",
    "print(f\"x = {x}, y = {y}\")\n"
   ]
  }
 ],
 "metadata": {
  "kernelspec": {
   "display_name": "Python 3",
   "language": "python",
   "name": "python3"
  },
  "language_info": {
   "codemirror_mode": {
    "name": "ipython",
    "version": 3
   },
   "file_extension": ".py",
   "mimetype": "text/x-python",
   "name": "python",
   "nbconvert_exporter": "python",
   "pygments_lexer": "ipython3",
   "version": "3.8.8"
  }
 },
 "nbformat": 4,
 "nbformat_minor": 5
}
