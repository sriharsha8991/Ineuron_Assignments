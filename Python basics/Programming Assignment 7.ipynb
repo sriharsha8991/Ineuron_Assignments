{
 "cells": [
  {
   "cell_type": "markdown",
   "id": "a95c486a",
   "metadata": {},
   "source": [
    "# Programming Assignment 7\n",
    "**By Sriharsha Velicheti**"
   ]
  },
  {
   "cell_type": "markdown",
   "id": "c15bc3a2",
   "metadata": {},
   "source": [
    "### Questions\n",
    "1. Write a Python Program to find sum of array?\n",
    "2. Write a Python Program to find largest element in an array?\n",
    "3. Write a Python Program for array rotation?\n",
    "4. Write a Python Program to Split the array and add the first part to the end?\n",
    "5. Write a Python Program to check if given array is Monotonic?"
   ]
  },
  {
   "cell_type": "code",
   "execution_count": 9,
   "id": "a7bdf2f2",
   "metadata": {},
   "outputs": [
    {
     "name": "stdout",
     "output_type": "stream",
     "text": [
      "10 23 54 68 95 32 14 2 5\n",
      "Array:  [10, 23, 54, 68, 95, 32, 14, 2, 5]\n",
      "Sum of elements of array:  303\n",
      "303\n",
      "Maximum element in array:  95\n"
     ]
    }
   ],
   "source": [
    "## Sum of Array  METHOD 1\n",
    "nums = list(map(int,input().split(\" \"))) # Input array from user using space separated values\n",
    "s = 0\n",
    "for i in nums:\n",
    "    s+=i\n",
    "print(\"Array: \",nums)\n",
    "print(\"Sum of elements of array: \", s)\n",
    "\n",
    "# Sum of Array METHOD 2\n",
    "print(sum(nums))\n",
    "print(\"Maximum element in array: \",max(nums))"
   ]
  },
  {
   "cell_type": "code",
   "execution_count": 10,
   "id": "b7d0722a",
   "metadata": {},
   "outputs": [
    {
     "name": "stdout",
     "output_type": "stream",
     "text": [
      "Maximum element in array:  95\n",
      "Maximum element in array:  95\n"
     ]
    }
   ],
   "source": [
    "# Larget element in array METHOD 1\n",
    "print(\"Maximum element in array: \",max(nums))\n",
    "\n",
    "# Largest element in array METHOD 2\n",
    "m = -999999999\n",
    "for i in nums:\n",
    "    if i>m:\n",
    "        m=i\n",
    "\n",
    "print(\"Maximum element in array: \",m)"
   ]
  },
  {
   "cell_type": "code",
   "execution_count": 11,
   "id": "a2494e05",
   "metadata": {},
   "outputs": [
    {
     "name": "stdout",
     "output_type": "stream",
     "text": [
      "Maximum element in array:  95\n",
      "Maximum element in array:  95\n"
     ]
    }
   ],
   "source": [
    "# Larget element in array METHOD 1\n",
    "print(\"Maximum element in array: \",max(nums))\n",
    "\n",
    "# Largest element in array METHOD 2\n",
    "m = -99\n",
    "for i in nums:\n",
    "    if i>m:\n",
    "        m=i\n",
    "\n",
    "print(\"Maximum element in array: \",m)"
   ]
  },
  {
   "cell_type": "code",
   "execution_count": 20,
   "id": "e80b4608",
   "metadata": {},
   "outputs": [
    {
     "name": "stdout",
     "output_type": "stream",
     "text": [
      "[4, 5, 6, 7, 8, 9, 0, 1, 2, 3]\n"
     ]
    }
   ],
   "source": [
    "#Write a Python Program for array rotation? with full rotation\n",
    "nums.reverse()\n",
    "\n",
    "# Array Rotation by number of positions\n",
    "def array_rotation(arr,n):\n",
    "    \"arr: Array Given and n is the number of positions to be rotated\"\n",
    "    return arr[n:] + arr[:n]\n",
    "print(array_rotation([1,2,3,4,5,6,7,8,9,0],3))\n",
    "    \n",
    "    \n"
   ]
  },
  {
   "cell_type": "code",
   "execution_count": 17,
   "id": "fbad683b",
   "metadata": {},
   "outputs": [
    {
     "name": "stdout",
     "output_type": "stream",
     "text": [
      "[10, 23, 54, 68, 95, 32, 14, 2, 5]\n",
      "[54, 68, 95, 32, 14, 2, 5, 10, 23]\n"
     ]
    }
   ],
   "source": [
    "print(nums)\n",
    "print(nums[2:]+nums[:2])"
   ]
  },
  {
   "cell_type": "code",
   "execution_count": null,
   "id": "a16f19e3",
   "metadata": {},
   "outputs": [],
   "source": [
    "#Write a Python Program to Split the array and add the first part to the end?\n",
    "mid = len(nums)//2\n",
    "firstpart  = nums[:mid]\n",
    "secondpart = nums[mid:]\n",
    "new_array = secondpart + firstpart"
   ]
  },
  {
   "cell_type": "code",
   "execution_count": null,
   "id": "b69f4676",
   "metadata": {},
   "outputs": [],
   "source": [
    "new_array"
   ]
  },
  {
   "cell_type": "code",
   "execution_count": null,
   "id": "78e45151",
   "metadata": {},
   "outputs": [],
   "source": [
    "#Write a Python Program to check if given array is Monotonic?\n",
    "monotonic_array = [1,2,3,4,5,6,7,8,9]\n",
    "\n",
    "for i in range(len(monotonic_array)-1):\n",
    "    if monotonic_array[i]>\n",
    "        "
   ]
  },
  {
   "cell_type": "code",
   "execution_count": null,
   "id": "994c9a77",
   "metadata": {},
   "outputs": [],
   "source": [
    "def is_monotonic(nums):\n",
    "    increasing = decreasing = True\n",
    "\n",
    "    for i in range(1, len(nums)):\n",
    "        if nums[i] > nums[i - 1]:\n",
    "            decreasing = False\n",
    "        if nums[i] < nums[i - 1]:\n",
    "            increasing = False\n",
    "\n",
    "    return increasing or decreasing\n",
    "\n",
    "\n",
    "# Test the function with sample arrays\n",
    "arr1 = [1, 2, 3, 4, 5]\n",
    "arr2 = [5, 4, 3, 2, 1]\n",
    "arr3 = [1, 3, 2, 5, 4]\n",
    "arr4 = [1, 1, 1, 1, 1]\n",
    "\n",
    "print(is_monotonic(arr1))  # True\n",
    "print(is_monotonic(arr2))  # True\n",
    "print(is_monotonic(arr3))  # False\n",
    "print(is_monotonic(arr4))  # True\n"
   ]
  },
  {
   "cell_type": "code",
   "execution_count": null,
   "id": "b174ca10",
   "metadata": {},
   "outputs": [],
   "source": []
  },
  {
   "cell_type": "code",
   "execution_count": null,
   "id": "05128d83",
   "metadata": {},
   "outputs": [],
   "source": []
  },
  {
   "cell_type": "code",
   "execution_count": null,
   "id": "05ce5e3e",
   "metadata": {},
   "outputs": [],
   "source": []
  },
  {
   "cell_type": "code",
   "execution_count": null,
   "id": "54890d2e",
   "metadata": {},
   "outputs": [],
   "source": []
  },
  {
   "cell_type": "code",
   "execution_count": null,
   "id": "24a8c45d",
   "metadata": {},
   "outputs": [],
   "source": []
  },
  {
   "cell_type": "code",
   "execution_count": null,
   "id": "6a50cfaf",
   "metadata": {},
   "outputs": [],
   "source": []
  },
  {
   "cell_type": "code",
   "execution_count": null,
   "id": "adb748e4",
   "metadata": {},
   "outputs": [],
   "source": []
  },
  {
   "cell_type": "code",
   "execution_count": null,
   "id": "847453e3",
   "metadata": {},
   "outputs": [],
   "source": []
  },
  {
   "cell_type": "code",
   "execution_count": null,
   "id": "cb48d831",
   "metadata": {},
   "outputs": [],
   "source": []
  },
  {
   "cell_type": "code",
   "execution_count": null,
   "id": "2e48cd6c",
   "metadata": {},
   "outputs": [],
   "source": []
  },
  {
   "cell_type": "code",
   "execution_count": null,
   "id": "52cf5f20",
   "metadata": {},
   "outputs": [],
   "source": []
  },
  {
   "cell_type": "code",
   "execution_count": null,
   "id": "e4178905",
   "metadata": {},
   "outputs": [],
   "source": []
  },
  {
   "cell_type": "code",
   "execution_count": null,
   "id": "8e4f2125",
   "metadata": {},
   "outputs": [],
   "source": []
  }
 ],
 "metadata": {
  "kernelspec": {
   "display_name": "Python 3",
   "language": "python",
   "name": "python3"
  },
  "language_info": {
   "codemirror_mode": {
    "name": "ipython",
    "version": 3
   },
   "file_extension": ".py",
   "mimetype": "text/x-python",
   "name": "python",
   "nbconvert_exporter": "python",
   "pygments_lexer": "ipython3",
   "version": "3.8.8"
  }
 },
 "nbformat": 4,
 "nbformat_minor": 5
}
