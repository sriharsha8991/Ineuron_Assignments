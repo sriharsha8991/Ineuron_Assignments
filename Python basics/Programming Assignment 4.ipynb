{
 "cells": [
  {
   "cell_type": "markdown",
   "id": "a85da784",
   "metadata": {},
   "source": [
    "# Programming Assignmet 4\n",
    "**By Sriharsha Velicheti**"
   ]
  },
  {
   "cell_type": "markdown",
   "id": "06625329",
   "metadata": {},
   "source": [
    "1. Write a Python Program to Find the Factorial of a Number?\n",
    "2. Write a Python Program to Display the multiplication Table?\n",
    "3. Write a Python Program to Print the Fibonacci sequence?\n",
    "4. Write a Python Program to Check Armstrong Number?\n",
    "5. Write a Python Program to Find Armstrong Number in an Interval?\n",
    "6. Write a Python Program to Find the Sum of Natural Numbers?"
   ]
  },
  {
   "cell_type": "code",
   "execution_count": 3,
   "id": "69116173",
   "metadata": {},
   "outputs": [
    {
     "name": "stdout",
     "output_type": "stream",
     "text": [
      "Enter number: 0\n",
      "1\n"
     ]
    }
   ],
   "source": [
    "# Factorial of a number\n",
    "num = int(input(\"Enter number: \"))\n",
    "factorial=1\n",
    "if num>=1:\n",
    "    for i in range(1,num+1):\n",
    "        factorial *= i\n",
    "print(factorial)\n",
    "    \n"
   ]
  },
  {
   "cell_type": "code",
   "execution_count": 5,
   "id": "e296dcc5",
   "metadata": {},
   "outputs": [
    {
     "name": "stdout",
     "output_type": "stream",
     "text": [
      "Enter table input: 10\n",
      "10x1 = 10\n",
      "10x2 = 20\n",
      "10x3 = 30\n",
      "10x4 = 40\n",
      "10x5 = 50\n",
      "10x6 = 60\n",
      "10x7 = 70\n",
      "10x8 = 80\n",
      "10x9 = 90\n",
      "10x10 = 100\n",
      "10x11 = 110\n",
      "10x12 = 120\n",
      "10x13 = 130\n",
      "10x14 = 140\n",
      "10x15 = 150\n",
      "10x16 = 160\n",
      "10x17 = 170\n",
      "10x18 = 180\n",
      "10x19 = 190\n",
      "10x20 = 200\n"
     ]
    }
   ],
   "source": [
    "# Multiplication table up to 20 steps\n",
    "t = int(input(\"Enter table input: \"))#table\n",
    "for i in range(1,21):\n",
    "    print(f\"{t}x{i} = {t*i}\")\n",
    "    "
   ]
  },
  {
   "cell_type": "code",
   "execution_count": 16,
   "id": "1ba96178",
   "metadata": {},
   "outputs": [
    {
     "name": "stdout",
     "output_type": "stream",
     "text": [
      "Enter number of terms:10\n",
      "0\n",
      "1\n",
      "1\n",
      "2\n",
      "3\n",
      "5\n",
      "8\n",
      "13\n",
      "21\n",
      "34\n"
     ]
    }
   ],
   "source": [
    "#Fibonacci Series up to nth number\n",
    "a=0\n",
    "b=1\n",
    "n = int(input(\"Enter number of terms:\"))\n",
    "for i in range(n):\n",
    "    print(a)\n",
    "    a,b=b,a+b\n",
    "    "
   ]
  },
  {
   "cell_type": "code",
   "execution_count": 19,
   "id": "f86ad9ff",
   "metadata": {},
   "outputs": [
    {
     "data": {
      "text/plain": [
       "1"
      ]
     },
     "execution_count": 19,
     "metadata": {},
     "output_type": "execute_result"
    }
   ],
   "source": []
  },
  {
   "cell_type": "code",
   "execution_count": 25,
   "id": "075af84d",
   "metadata": {},
   "outputs": [
    {
     "name": "stdout",
     "output_type": "stream",
     "text": [
      "Enter a number: 153\n",
      "27 15.3\n",
      "152 1.53\n",
      "153 0.153\n",
      "Arm Strong\n"
     ]
    }
   ],
   "source": [
    "#Arm strong number: a number that is equal to the sum of cubes of its digits.\n",
    "n = int(input(\"Enter a number: \"))\n",
    "fake = n\n",
    "s = 0\n",
    "while int(n)>0:\n",
    "    s += (int(n)%10)**3\n",
    "    n /= 10\n",
    "    print(s,n)\n",
    "\n",
    "if s == fake:\n",
    "    print(\"Arm Strong\")\n",
    "else:\n",
    "    print(\"Not an Armstrong\")"
   ]
  },
  {
   "cell_type": "code",
   "execution_count": 27,
   "id": "92e537a4",
   "metadata": {},
   "outputs": [
    {
     "name": "stdout",
     "output_type": "stream",
     "text": [
      "lower limit: 1\n",
      "upper limit: 10000\n",
      "1\n",
      "153\n",
      "370\n",
      "371\n",
      "407\n"
     ]
    }
   ],
   "source": [
    "#Range of Armstrong numbers\n",
    "def arms(n):\n",
    "    fake = n\n",
    "    s = 0\n",
    "    while int(n)>0:\n",
    "        s += (int(n)%10)**3\n",
    "        n /= 10\n",
    "    return s==fake\n",
    "l,u = int(input(\"lower limit: \")),int(input(\"upper limit: \"))       \n",
    "for i in range(l,u):\n",
    "    if arms(i):\n",
    "        print(i)\n",
    "   "
   ]
  },
  {
   "cell_type": "code",
   "execution_count": 29,
   "id": "1dba6432",
   "metadata": {},
   "outputs": [
    {
     "name": "stdout",
     "output_type": "stream",
     "text": [
      "Enter uupper limit: 10\n",
      "Sum of n natural numbers =  55\n"
     ]
    }
   ],
   "source": [
    "#Sum of natural numbers:\n",
    "n=int(input(\"Enter uupper limit: \"))\n",
    "print(\"Sum of n natural numbers = \",sum([i for i in range(n+1)]))"
   ]
  },
  {
   "cell_type": "code",
   "execution_count": null,
   "id": "fb5683c5",
   "metadata": {},
   "outputs": [],
   "source": []
  }
 ],
 "metadata": {
  "kernelspec": {
   "display_name": "Python 3",
   "language": "python",
   "name": "python3"
  },
  "language_info": {
   "codemirror_mode": {
    "name": "ipython",
    "version": 3
   },
   "file_extension": ".py",
   "mimetype": "text/x-python",
   "name": "python",
   "nbconvert_exporter": "python",
   "pygments_lexer": "ipython3",
   "version": "3.8.8"
  }
 },
 "nbformat": 4,
 "nbformat_minor": 5
}
