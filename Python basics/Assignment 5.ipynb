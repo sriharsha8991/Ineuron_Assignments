{
 "cells": [
  {
   "cell_type": "markdown",
   "id": "5f11022b",
   "metadata": {},
   "source": [
    "# Q1\n",
    "1. What does an empty dictionary code look like?\n",
    "\n",
    "Ans. The code is snippet is given below"
   ]
  },
  {
   "cell_type": "code",
   "execution_count": 4,
   "id": "57ad4099",
   "metadata": {},
   "outputs": [
    {
     "name": "stdout",
     "output_type": "stream",
     "text": [
      "<class 'dict'>\n",
      "<class 'dict'>\n"
     ]
    }
   ],
   "source": [
    "#Empty dictionary\n",
    "dc = {}\n",
    "print(type(dc))\n",
    "#other format\n",
    "dc1 = dict()\n",
    "print(type(dc1))"
   ]
  },
  {
   "cell_type": "markdown",
   "id": "0a9e95f5",
   "metadata": {},
   "source": [
    "# Q2\n",
    "2. What is the value of a dictionary value with the key 'foo' and the value 42?\n",
    "\n",
    "Answer given below."
   ]
  },
  {
   "cell_type": "code",
   "execution_count": 5,
   "id": "add1694c",
   "metadata": {},
   "outputs": [
    {
     "name": "stdout",
     "output_type": "stream",
     "text": [
      "{'foo': 42}\n"
     ]
    }
   ],
   "source": [
    "#Q2\n",
    "#Key --> 'foo'\n",
    "#value --> 42\n",
    "d = {'foo':42}\n",
    "print(d)"
   ]
  },
  {
   "cell_type": "markdown",
   "id": "90413bc0",
   "metadata": {},
   "source": [
    "# Q3\n",
    "3. What is the most significant distinction between list and dictionaty?\n",
    "\n",
    "Ans.\n",
    "It's the indexing, elements in the lis are accessed with indexes\n",
    "\n",
    "where as dictionary values are accessed with keys."
   ]
  },
  {
   "cell_type": "markdown",
   "id": "a0be5b6b",
   "metadata": {},
   "source": [
    "# Q4\n",
    "4. what happens if you try to access spam['foo'] if spam is {'bar':100}?\n",
    "\n",
    "Ans.\n",
    "Python will throw a key error,(since,There is no such key in dictionary)"
   ]
  },
  {
   "cell_type": "code",
   "execution_count": 6,
   "id": "fa2ee84b",
   "metadata": {},
   "outputs": [
    {
     "ename": "KeyError",
     "evalue": "'foo'",
     "output_type": "error",
     "traceback": [
      "\u001b[1;31m---------------------------------------------------------------------------\u001b[0m",
      "\u001b[1;31mKeyError\u001b[0m                                  Traceback (most recent call last)",
      "\u001b[1;32m<ipython-input-6-56a8e50c7ff8>\u001b[0m in \u001b[0;36m<module>\u001b[1;34m\u001b[0m\n\u001b[0;32m      1\u001b[0m \u001b[0mspam\u001b[0m \u001b[1;33m=\u001b[0m \u001b[1;33m{\u001b[0m\u001b[1;34m'bar'\u001b[0m\u001b[1;33m:\u001b[0m \u001b[1;36m100\u001b[0m\u001b[1;33m}\u001b[0m\u001b[1;33m\u001b[0m\u001b[1;33m\u001b[0m\u001b[0m\n\u001b[1;32m----> 2\u001b[1;33m \u001b[0mspam\u001b[0m\u001b[1;33m[\u001b[0m\u001b[1;34m'foo'\u001b[0m\u001b[1;33m]\u001b[0m\u001b[1;33m\u001b[0m\u001b[1;33m\u001b[0m\u001b[0m\n\u001b[0m",
      "\u001b[1;31mKeyError\u001b[0m: 'foo'"
     ]
    }
   ],
   "source": [
    "spam = {'bar': 100}\n",
    "spam['foo']"
   ]
  },
  {
   "cell_type": "markdown",
   "id": "8e329e79",
   "metadata": {},
   "source": [
    "# Q5, 6\n",
    "5,6. If a dictionary is stored in spam, what is the difference between the expressions 'cat' in spam and 'cat' in spam.keys()?\n",
    "\n",
    "Ans.\n",
    "'cat' in spam is the particular key where as 'cat in spam.keys() is the element in the list dict keys\n"
   ]
  },
  {
   "cell_type": "markdown",
   "id": "20ab91bc",
   "metadata": {},
   "source": [
    "# Q7\n",
    "7.What is the short cut of the following code?\n"
   ]
  },
  {
   "cell_type": "code",
   "execution_count": 12,
   "id": "073fe347",
   "metadata": {},
   "outputs": [
    {
     "data": {
      "text/plain": [
       "{'color': 'black', 'car': 'Benz'}"
      ]
     },
     "execution_count": 12,
     "metadata": {},
     "output_type": "execute_result"
    }
   ],
   "source": [
    "spam = {}\n",
    "if 'color' not in spam:\n",
    "    spam['color'] = 'black'\n",
    "\n",
    "spam\n",
    "\n",
    "#there is no need of if statement if it is not in dict \n",
    "# it will be automatically added to dict.\n",
    "spam['car'] = \"Benz\"\n",
    "spam"
   ]
  },
  {
   "cell_type": "markdown",
   "id": "5d0b1395",
   "metadata": {},
   "source": [
    "# Q8\n",
    "\n",
    "8. How do \"pretty print\" dictionary values using which module and function?\n",
    "\n",
    "Ans.The pprint module in Python includes the print() function which is used to pretty print dictionary values. \n",
    "\n",
    "To use it, import the pprint module and then call the print() function on the dictionary you wish to pretty print."
   ]
  },
  {
   "cell_type": "code",
   "execution_count": 16,
   "id": "2031802f",
   "metadata": {},
   "outputs": [
    {
     "name": "stdout",
     "output_type": "stream",
     "text": [
      "{'car': 'Benz', 'color': 'black'}\n"
     ]
    }
   ],
   "source": [
    "import pprint \n",
    "pprint.pprint(spam)\n",
    "\n",
    "#Gives dictionary in proper order ascending order of keys"
   ]
  },
  {
   "cell_type": "code",
   "execution_count": null,
   "id": "e3c51fa5",
   "metadata": {},
   "outputs": [],
   "source": []
  },
  {
   "cell_type": "code",
   "execution_count": null,
   "id": "a14c6560",
   "metadata": {},
   "outputs": [],
   "source": []
  },
  {
   "cell_type": "code",
   "execution_count": null,
   "id": "8502cadc",
   "metadata": {},
   "outputs": [],
   "source": []
  },
  {
   "cell_type": "code",
   "execution_count": null,
   "id": "7c68cafa",
   "metadata": {},
   "outputs": [],
   "source": []
  },
  {
   "cell_type": "code",
   "execution_count": null,
   "id": "8c26363a",
   "metadata": {},
   "outputs": [],
   "source": []
  },
  {
   "cell_type": "code",
   "execution_count": null,
   "id": "653e7a3c",
   "metadata": {},
   "outputs": [],
   "source": []
  }
 ],
 "metadata": {
  "kernelspec": {
   "display_name": "Python 3",
   "language": "python",
   "name": "python3"
  },
  "language_info": {
   "codemirror_mode": {
    "name": "ipython",
    "version": 3
   },
   "file_extension": ".py",
   "mimetype": "text/x-python",
   "name": "python",
   "nbconvert_exporter": "python",
   "pygments_lexer": "ipython3",
   "version": "3.8.8"
  }
 },
 "nbformat": 4,
 "nbformat_minor": 5
}
