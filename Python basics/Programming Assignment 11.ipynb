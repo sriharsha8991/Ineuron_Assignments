{
 "cells": [
  {
   "cell_type": "markdown",
   "id": "e22b985f",
   "metadata": {},
   "source": [
    "# Programming Assignment 11\n",
    "**By Sriharsha velicheti**\n"
   ]
  },
  {
   "cell_type": "markdown",
   "id": "ec0b20a6",
   "metadata": {},
   "source": [
    "1. Write a Python program to find words which are greater than given length k?\n",
    "2. Write a Python program for removing i-th character from a string?\n",
    "3. Write a Python program to split and join a string?\n",
    "4. Write a Python to check if a given string is binary string or not?\n",
    "5. Write a Python program to find uncommon words from two Strings?\n",
    "6. Write a Python to find all duplicate characters in string?\n",
    "7. Write a Python Program to check if a string contains any special character?"
   ]
  },
  {
   "cell_type": "code",
   "execution_count": 3,
   "id": "bcdc4c89",
   "metadata": {},
   "outputs": [
    {
     "data": {
      "text/plain": [
       "['DataScience', 'program', 'Assignment']"
      ]
     },
     "execution_count": 3,
     "metadata": {},
     "output_type": "execute_result"
    }
   ],
   "source": [
    "#1.Write a Python program to find words which are greater than given length k?\n",
    "#Sample inputs\n",
    "words = [\"Sri\",\"harsha\",\"Python\",\"DataScience\",\"program\",\"Assignment\"]\n",
    "length = 6\n",
    "#Words that are greater than length 6\n",
    "def k_length(words):\n",
    "    op = []\n",
    "    for i in words:\n",
    "        if len(i)>6:\n",
    "            op.append(i)\n",
    "    return op\n",
    "k_length(words)"
   ]
  },
  {
   "cell_type": "code",
   "execution_count": 14,
   "id": "23b8a47a",
   "metadata": {},
   "outputs": [],
   "source": [
    "#2.Write a Python program for removing i-th character from a string?\n",
    "#sample input\n",
    "st = \"PythonDataScience\"\n",
    "def remove_ith_char(word,char_index):\n",
    "        if char_index>len(word):\n",
    "            raise Exception(f\"Index out of range enter index below {len(word)}\")\n",
    "        return word[:char_index]+word[char_index+1:]"
   ]
  },
  {
   "cell_type": "code",
   "execution_count": 17,
   "id": "286e0c2e",
   "metadata": {},
   "outputs": [
    {
     "data": {
      "text/plain": [
       "'PythonDataSciene'"
      ]
     },
     "execution_count": 17,
     "metadata": {},
     "output_type": "execute_result"
    }
   ],
   "source": [
    "remove_ith_char(st,15)"
   ]
  },
  {
   "cell_type": "code",
   "execution_count": 28,
   "id": "2cfb7eca",
   "metadata": {},
   "outputs": [
    {
     "data": {
      "text/plain": [
       "(['Sriharsha', 'earns', 'high', 'amount'], 'Sriharsha earns high amount')"
      ]
     },
     "execution_count": 28,
     "metadata": {},
     "output_type": "execute_result"
    }
   ],
   "source": [
    "#3.Write a Python program to split and join a string?\n",
    "def split_and_join(text):\n",
    "    return text.split(\" \"),\"\".join(text)\n",
    "split_and_join(\"Sriharsha earns high amount\")   "
   ]
  },
  {
   "cell_type": "code",
   "execution_count": 29,
   "id": "cb6353fe",
   "metadata": {},
   "outputs": [
    {
     "name": "stdout",
     "output_type": "stream",
     "text": [
      "True\n",
      "False\n",
      "True\n"
     ]
    }
   ],
   "source": [
    "#4.Write a Python to check if a given string is binary string or not?\n",
    "\n",
    "def is_binary_string(string):\n",
    "    for char in string:\n",
    "        if char != '0' and char != '1':\n",
    "            return False\n",
    "    return True\n",
    "\n",
    "# Test cases\n",
    "print(is_binary_string(\"101010\")) \n",
    "print(is_binary_string(\"101201\")) \n",
    "print(is_binary_string(\"110011\")) "
   ]
  },
  {
   "cell_type": "code",
   "execution_count": 31,
   "id": "f70c3fb6",
   "metadata": {},
   "outputs": [
    {
     "name": "stdout",
     "output_type": "stream",
     "text": [
      "['fine,', 'thank', '?', 'I', 'world!', '.', 'are', 'How', 'Hello', 'am']\n"
     ]
    }
   ],
   "source": [
    "#5.Write a Python program to find uncommon words from two Strings?\n",
    "def find_uncommon_words(str1, str2):\n",
    "    words1 = set(str1.split())\n",
    "    words2 = set(str2.split())\n",
    "    uncommon_words = list(words1.symmetric_difference(words2))\n",
    "    return uncommon_words\n",
    "\n",
    "# Example usage\n",
    "string1 = \"Hello world! How are you ?\"\n",
    "string2 = \"I am fine, thank you .\"\n",
    "uncommon = find_uncommon_words(string1, string2)\n",
    "print(uncommon)\n"
   ]
  },
  {
   "cell_type": "code",
   "execution_count": 44,
   "id": "adb0c80e",
   "metadata": {},
   "outputs": [
    {
     "data": {
      "text/plain": [
       "{'a', 'c', 'e', 'r', 't'}"
      ]
     },
     "execution_count": 44,
     "metadata": {},
     "output_type": "execute_result"
    }
   ],
   "source": [
    "#6.Write a Python to find all duplicate characters in string?\n",
    "def duplicates(st):\n",
    "    l = []\n",
    "    for char in st:\n",
    "        if st.count(char)>1:\n",
    "            l.append(char)\n",
    "    return set(l)\n",
    "\n",
    "#Samples\n",
    "example = \"duplicatecharacters\"\n",
    "duplicates(example)"
   ]
  },
  {
   "cell_type": "code",
   "execution_count": 43,
   "id": "a2af7f90",
   "metadata": {},
   "outputs": [
    {
     "name": "stdout",
     "output_type": "stream",
     "text": [
      "Duplicate:  ('c', 3)\n",
      "Duplicate:  ('a', 3)\n",
      "Duplicate:  ('t', 2)\n",
      "Duplicate:  ('e', 2)\n",
      "Duplicate:  ('r', 2)\n"
     ]
    }
   ],
   "source": [
    "from collections import Counter\n",
    "kk = Counter(example)\n",
    "for values in kk.most_common():\n",
    "    if values[1]>1:\n",
    "        print(\"Duplicate: \",values)"
   ]
  },
  {
   "cell_type": "code",
   "execution_count": 50,
   "id": "e5d23236",
   "metadata": {},
   "outputs": [
    {
     "name": "stdout",
     "output_type": "stream",
     "text": [
      "True\n",
      "False\n"
     ]
    }
   ],
   "source": [
    "#7.Write a Python Program to check if a string contains any special character?\n",
    "import string \n",
    "punct = string.punctuation\n",
    "def check_specials(str1):\n",
    "    for i in str1:\n",
    "        if i in punct:\n",
    "            return True\n",
    "    return False\n",
    "print(check_specials(\"kduytdyjgfkhfytdk><:?\"))\n",
    "print(check_specials(\"bahvkjhabeozbh\"))"
   ]
  },
  {
   "cell_type": "code",
   "execution_count": null,
   "id": "b19d73e2",
   "metadata": {},
   "outputs": [],
   "source": []
  }
 ],
 "metadata": {
  "kernelspec": {
   "display_name": "Python 3",
   "language": "python",
   "name": "python3"
  },
  "language_info": {
   "codemirror_mode": {
    "name": "ipython",
    "version": 3
   },
   "file_extension": ".py",
   "mimetype": "text/x-python",
   "name": "python",
   "nbconvert_exporter": "python",
   "pygments_lexer": "ipython3",
   "version": "3.8.8"
  }
 },
 "nbformat": 4,
 "nbformat_minor": 5
}
