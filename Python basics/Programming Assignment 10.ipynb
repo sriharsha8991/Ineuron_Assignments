{
 "cells": [
  {
   "cell_type": "markdown",
   "id": "4381db65",
   "metadata": {},
   "source": [
    "# Programming Assignment 10\n",
    "**By Sriharsha velicheti**"
   ]
  },
  {
   "cell_type": "markdown",
   "id": "567c2871",
   "metadata": {},
   "source": [
    "1. Write a Python program to find sum of elements in list?\n",
    "2. Write a Python program to Multiply all numbers in the list?\n",
    "3. Write a Python program to find smallest number in a list?\n",
    "4. Write a Python program to find largest number in a list?\n",
    "5. Write a Python program to find second largest number in a list?\n",
    "6. Write a Python program to find N largest elements from a list?\n",
    "7. Write a Python program to print even numbers in a list?\n",
    "8. Write a Python program to print odd numbers in a List?\n",
    "9. Write a Python program to Remove empty List from List?\n",
    "10. Write a Python program to Cloning or Copying a list?\n",
    "11. Write a Python program to Count occurrences of an element in a list?"
   ]
  },
  {
   "cell_type": "code",
   "execution_count": 1,
   "id": "be6872cc",
   "metadata": {},
   "outputs": [
    {
     "name": "stdout",
     "output_type": "stream",
     "text": [
      "45\n"
     ]
    }
   ],
   "source": [
    "nums = [1,2,3,4,5,6,7,8,9]\n",
    "#Write a Python program to find sum of elements in list?\n",
    "print(sum(nums))"
   ]
  },
  {
   "cell_type": "code",
   "execution_count": 4,
   "id": "5c376c57",
   "metadata": {},
   "outputs": [
    {
     "name": "stdout",
     "output_type": "stream",
     "text": [
      "362880\n"
     ]
    }
   ],
   "source": [
    "#Write a Python program to Multiply all numbers in the list?\n",
    "mul = 1\n",
    "for i in nums:\n",
    "    mul *= i\n",
    "print(mul)"
   ]
  },
  {
   "cell_type": "code",
   "execution_count": 5,
   "id": "718c3f33",
   "metadata": {},
   "outputs": [
    {
     "name": "stdout",
     "output_type": "stream",
     "text": [
      "1\n"
     ]
    }
   ],
   "source": [
    "#Write a Python program to find smallest number in a list?\n",
    "print(min(nums))\n"
   ]
  },
  {
   "cell_type": "code",
   "execution_count": 6,
   "id": "7014358c",
   "metadata": {},
   "outputs": [
    {
     "name": "stdout",
     "output_type": "stream",
     "text": [
      "9\n"
     ]
    }
   ],
   "source": [
    "#Write a Python program to find largest number in a list?\n",
    "print(max(nums))"
   ]
  },
  {
   "cell_type": "code",
   "execution_count": 9,
   "id": "a940f0c8",
   "metadata": {},
   "outputs": [
    {
     "name": "stdout",
     "output_type": "stream",
     "text": [
      "[8, 9]\n"
     ]
    }
   ],
   "source": [
    "#Write a Python program to find second largest number in a list?\n",
    "print(sorted(nums)[-2])"
   ]
  },
  {
   "cell_type": "code",
   "execution_count": 11,
   "id": "91d1cee0",
   "metadata": {},
   "outputs": [
    {
     "name": "stdout",
     "output_type": "stream",
     "text": [
      "No. of largest numbers: 4\n",
      "[6, 7, 8, 9]\n"
     ]
    }
   ],
   "source": [
    "#Write a Python program to find N largest elements from a list?\n",
    "N = int(input(\"No. of largest numbers: \"))\n",
    "print(sorted(nums)[-N:])"
   ]
  },
  {
   "cell_type": "code",
   "execution_count": 13,
   "id": "9705ac7d",
   "metadata": {},
   "outputs": [
    {
     "name": "stdout",
     "output_type": "stream",
     "text": [
      "[2, 4, 6, 8]\n"
     ]
    }
   ],
   "source": [
    "#Write a Python program to print even numbers in a list?\n",
    "print([i for i in nums if i%2==0])"
   ]
  },
  {
   "cell_type": "code",
   "execution_count": 18,
   "id": "2535a6d6",
   "metadata": {},
   "outputs": [
    {
     "name": "stdout",
     "output_type": "stream",
     "text": [
      "[1, 3, 5, 7, 9]\n"
     ]
    }
   ],
   "source": [
    "#Write a Python program to print odd numbers in a List?\n",
    "print([i for i in nums if i%2!=0])"
   ]
  },
  {
   "cell_type": "code",
   "execution_count": 19,
   "id": "7fc23a10",
   "metadata": {},
   "outputs": [
    {
     "name": "stdout",
     "output_type": "stream",
     "text": [
      "[1, 2, 3, [4, 5]]\n"
     ]
    }
   ],
   "source": [
    "# Write a Python program to Remove empty List from List?\n",
    "def remove_empty_lists(lst):\n",
    "    return [sublist for sublist in lst if sublist]\n",
    "\n",
    "# Example usage\n",
    "my_list = [1, [], 2, [], [], 3, [4, 5], []]\n",
    "result = remove_empty_lists(my_list)\n",
    "print(result)\n"
   ]
  },
  {
   "cell_type": "code",
   "execution_count": 20,
   "id": "aa9a8a72",
   "metadata": {},
   "outputs": [
    {
     "name": "stdout",
     "output_type": "stream",
     "text": [
      "[1, 2, 3, 4, 5]\n",
      "[1, 2, 3, 4, 5]\n",
      "[1, 2, 3, 4, 5]\n"
     ]
    }
   ],
   "source": [
    "# Write a Python program to Cloning or Copying a list?\n",
    "# Using slicing\n",
    "original_list = [1, 2, 3, 4, 5]\n",
    "cloned_list = original_list[:]\n",
    "print(cloned_list)\n",
    "\n",
    "# Using the list() function\n",
    "original_list = [1, 2, 3, 4, 5]\n",
    "cloned_list = list(original_list)\n",
    "print(cloned_list)\n",
    "\n",
    "# Using the copy() method (for mutable lists)\n",
    "import copy\n",
    "original_list = [1, 2, 3, 4, 5]\n",
    "cloned_list = copy.copy(original_list)\n",
    "print(cloned_list)\n"
   ]
  },
  {
   "cell_type": "code",
   "execution_count": 21,
   "id": "68183864",
   "metadata": {},
   "outputs": [
    {
     "name": "stdout",
     "output_type": "stream",
     "text": [
      "3\n"
     ]
    }
   ],
   "source": [
    "# Write a Python program to Count occurrences of an element in a list?\n",
    "def count_occurrences(lst, element):\n",
    "    return lst.count(element)\n",
    "\n",
    "# Example usage\n",
    "my_list = [1, 2, 3, 2, 4, 2, 5]\n",
    "count = count_occurrences(my_list, 2)\n",
    "print(count)\n"
   ]
  }
 ],
 "metadata": {
  "kernelspec": {
   "display_name": "Python 3",
   "language": "python",
   "name": "python3"
  },
  "language_info": {
   "codemirror_mode": {
    "name": "ipython",
    "version": 3
   },
   "file_extension": ".py",
   "mimetype": "text/x-python",
   "name": "python",
   "nbconvert_exporter": "python",
   "pygments_lexer": "ipython3",
   "version": "3.8.8"
  }
 },
 "nbformat": 4,
 "nbformat_minor": 5
}
