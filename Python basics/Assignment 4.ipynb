{
 "cells": [
  {
   "cell_type": "markdown",
   "id": "8f3c2203",
   "metadata": {},
   "source": [
    "# Q1\n",
    "1. What exactly is []?\n",
    "\n",
    "Ans.In python this [] represents an empty list."
   ]
  },
  {
   "cell_type": "markdown",
   "id": "936da404",
   "metadata": {},
   "source": [
    "# Q2\n",
    "2. In a list of values stored in a variable called spam, how would you assign the value 'hello' as the third value? (Assume [2, 4, 6, 8, 10] are in spam.)"
   ]
  },
  {
   "cell_type": "code",
   "execution_count": 1,
   "id": "06cc73f5",
   "metadata": {},
   "outputs": [
    {
     "data": {
      "text/plain": [
       "[2, 4, 'hello', 8, 10]"
      ]
     },
     "execution_count": 1,
     "metadata": {},
     "output_type": "execute_result"
    }
   ],
   "source": [
    "# one way of doing it is the following method\n",
    "spam = [2,4,6,8,10]\n",
    "spam[2] = 'hello'\n",
    "spam\n",
    "#here we are loosing the value which was initially in third place\n",
    "#6 replaced with hello"
   ]
  },
  {
   "cell_type": "code",
   "execution_count": 4,
   "id": "04fe95a3",
   "metadata": {},
   "outputs": [
    {
     "data": {
      "text/plain": [
       "[2, 4, 'hello', 6, 8, 10]"
      ]
     },
     "execution_count": 4,
     "metadata": {},
     "output_type": "execute_result"
    }
   ],
   "source": [
    "#The second way of doin this is by using insert method.\n",
    "spam = [2,4,6,8,10]\n",
    "spam.insert(2,'hello')\n",
    "spam\n",
    "#Now the value hello is inserted at 3rd position and there\n",
    "#is no loss of element it is shifted to next position."
   ]
  },
  {
   "cell_type": "markdown",
   "id": "68052c70",
   "metadata": {},
   "source": [
    "# Q 3 ,4 ,5\n",
    "Let&#39;s pretend the spam includes the list ['a','b','c','d'] for the next three queries.\n",
    "\n",
    "3. What is the value of spam[int(int('3' * 2) / 11)]?\n",
    "\n",
    "#### ans.\n",
    "spam[3] ----> 'd'\n",
    "int(int('3' * 2) / 11) = 3\n",
    "\n",
    "4. What is the value of spam[-1]?\n",
    "\n",
    "#### Ans.\n",
    "negetive indexing gives the values from backwards \n",
    "\n",
    "spam[-1] -----> 'd'\n",
    "\n",
    "5. What is the value of spam[:2]?\n",
    "\n",
    "#### Ans. \n",
    "spam[:2] --->['a','b'] (index 2 not included)"
   ]
  },
  {
   "cell_type": "markdown",
   "id": "469b1372",
   "metadata": {},
   "source": [
    "# Q 6 7 8"
   ]
  },
  {
   "cell_type": "markdown",
   "id": "2d55789f",
   "metadata": {},
   "source": [
    "Let's pretend bacon has the list [3.14, 'cat',11, 'cat',True] for the next three questions.\n",
    "\n",
    "6. What is the value of bacon.index('cat')?\n",
    "\n",
    "7. How does bacon.append(99) change the look of the list value in bacon?\n",
    "\n",
    "8. How does bacon.remove('cat') change the look of the list in bacon?"
   ]
  },
  {
   "cell_type": "code",
   "execution_count": 9,
   "id": "06389597",
   "metadata": {},
   "outputs": [
    {
     "name": "stdout",
     "output_type": "stream",
     "text": [
      "Q6 answer is :  1\n",
      "Q7 answer bacon list: \n",
      "[3.14, 'cat', 11, 'cat', True, 99]\n",
      "Q8 answer bacon list: \n",
      "[3.14, 11, 'cat', True, 99]\n"
     ]
    }
   ],
   "source": [
    "#Q6\n",
    "bacon =  [3.14, 'cat',11, 'cat',True] \n",
    "q6 = bacon.index('cat')\n",
    "print(\"Q6 answer is : \",q6)\n",
    "\n",
    "#Q7\n",
    "bacon.append(99)\n",
    "print(\"Q7 answer bacon list: \")\n",
    "print(bacon)\n",
    "#element 99 added at the end of list.\n",
    "\n",
    "#Q8\n",
    "bacon.remove('cat')\n",
    "print(\"Q8 answer bacon list: \")\n",
    "print(bacon)\n",
    "#the first occurence of 'cat' is removed i.e at index 1"
   ]
  },
  {
   "cell_type": "markdown",
   "id": "e55016d6",
   "metadata": {},
   "source": [
    "# Q9\n",
    "9. What are the operators for list concatenation and list replication?\n",
    "\n",
    "Ans. The operator for list concatenation is +, while the operator for replication is *."
   ]
  },
  {
   "cell_type": "markdown",
   "id": "d427d080",
   "metadata": {},
   "source": [
    "# Q10\n",
    "10. What is difference between the list methods append() and insert()?\n",
    "\n",
    "Ans.\n",
    "append() ---> adds the given element at the end and takes single argument\n",
    "\n",
    "insert() ---> adds the given element at the given position and takes 2 arguments"
   ]
  },
  {
   "cell_type": "markdown",
   "id": "7d28f42a",
   "metadata": {},
   "source": [
    "# Q11\n",
    "11. What are the two methods for removing items from a list?\n",
    "\n",
    "Ans. The 2 methods are \n",
    "1. remove() --->Remove first occurrence of value.\n",
    "Raises ValueError if the value is not present.\n",
    "\n",
    "2. pop() --->Remove and return item at index (default last).\n",
    "Raises IndexError if list is empty or index is out of range."
   ]
  },
  {
   "cell_type": "markdown",
   "id": "9c8d5bf3",
   "metadata": {},
   "source": [
    "# Q12\n",
    "12. Describe how list values and string values are identical.\n",
    "\n",
    "Ans.In Python, both list values and string values are treated as objects. \n",
    "\n",
    "Both have similar behaviors and methods, such as the len() function which returns the number of items in a list or characters in a string. \n",
    "\n",
    "In addition, list values and string values can be indexed, sliced, and concatenated together."
   ]
  },
  {
   "cell_type": "markdown",
   "id": "df16d620",
   "metadata": {},
   "source": [
    "# Q13\n",
    "13. What is the difference between tuples and lists?\n",
    "\n",
    "Ans.\n",
    "tuples ----> enclosed with parenthesis() and are immutable\n",
    "\n",
    "lists---> enclosed with[] and are mutable, offers many methods since it is changable"
   ]
  },
  {
   "cell_type": "markdown",
   "id": "63ef22b8",
   "metadata": {},
   "source": [
    "# Q14"
   ]
  },
  {
   "cell_type": "code",
   "execution_count": 15,
   "id": "6ed71fab",
   "metadata": {},
   "outputs": [
    {
     "name": "stdout",
     "output_type": "stream",
     "text": [
      "<class 'tuple'>\n"
     ]
    }
   ],
   "source": [
    "#14. How do you type a tuple value \n",
    "#that only contains the integer 42?\n",
    "\n",
    "# we can use the list to make iterable and then tuple for type casting\n",
    "tup = tuple([42])\n",
    "print(type(tup))"
   ]
  },
  {
   "cell_type": "markdown",
   "id": "37d9cd5f",
   "metadata": {},
   "source": [
    "# Q15\n",
    "15. How do you get a list value's tuple form? How do you get a tuple value's list form?\n",
    "\n",
    "Ans. Its the concept of type casting we can easily understand it with the help of following code."
   ]
  },
  {
   "cell_type": "code",
   "execution_count": 23,
   "id": "02c383e6",
   "metadata": {},
   "outputs": [
    {
     "name": "stdout",
     "output_type": "stream",
     "text": [
      "1.Initially tuple: \n",
      " <class 'tuple'> (14, 25, 36, 58)\n",
      "2.Type casted into list: \n",
      " <class 'list'> [14, 25, 36, 58]\n",
      "3.Again converted back into tuple: \n",
      " <class 'tuple'> (14, 25, 36, 58)\n"
     ]
    }
   ],
   "source": [
    "#Q15\n",
    "\n",
    "tup = (14,25,36,58)\n",
    "print(\"1.Initially tuple: \\n\",type(tup),tup)\n",
    "tup = list(tup)\n",
    "print(\"2.Type casted into list: \\n\",type(tup),tup)\n",
    "tup = tuple(tup)\n",
    "print(\"3.Again converted back into tuple: \\n\",type(tup),tup)"
   ]
  },
  {
   "cell_type": "markdown",
   "id": "26dbd3d4",
   "metadata": {},
   "source": [
    "# Q16\n",
    "\n",
    "16. Variables that &quot;contain&quot; list values are not necessarily lists themselves. Instead, what do they contain?\n",
    "\n",
    "Ans.\n",
    "In Python, variables that contain list values contain references to the list objects."
   ]
  },
  {
   "cell_type": "markdown",
   "id": "42eae97f",
   "metadata": {},
   "source": [
    "# Q17\n",
    "17. How do you distinguish between copy.copy() and copy.deepcopy() in python?\n",
    "\n",
    "Ans.\n",
    "\n",
    "The main difference between copy.copy() and copy.deepcopy() in Python is that copy.copy() creates a shallow copy of the original object, while copy.deepcopy() creates a deep copy of the original object.\n",
    "\n",
    "A shallow copy will create a new object that contains the same data as the original object, but the new object will not contain any references to the original object.\n",
    "\n",
    "A deep copy, on the other hand, will create a new object that contains the same data as the original object, including any references to the original object.\n"
   ]
  },
  {
   "cell_type": "code",
   "execution_count": 42,
   "id": "ee700556",
   "metadata": {},
   "outputs": [
    {
     "name": "stdout",
     "output_type": "stream",
     "text": [
      "Exp [100015, 2, 3, 4, 56, 999]\n",
      "Exp [100015, 500, 3, 4, 56, 999, 10254]\n",
      "c1 [95, 2, 100, 4, 56, 8]\n",
      "c2 [100015, 2, 3, 4, 56, 999, 6584]\n",
      "exp [100015, 500, 3, 4, 56, 999, 10254, 100001]\n"
     ]
    }
   ],
   "source": [
    "import copy as cp\n",
    "exp = [1,2,3,4,56,8]\n",
    "c1 = exp.copy()\n",
    "exp[-1] = 999\n",
    "exp[0] = 100015\n",
    "c2 = cp.deepcopy(exp)\n",
    "print(\"Exp\",exp)\n",
    "c1[0] = 95\n",
    "exp.append(10254)\n",
    "exp[1] = 500\n",
    "\n",
    "print(\"Exp\",exp)\n",
    "c1[2] = 100\n",
    "print(\"c1\",c1)\n",
    "\n",
    "\n",
    "c2.append(6584)\n",
    "exp.append(100001)\n",
    "print(\"c2\",c2)\n",
    "print(\"exp\",exp)"
   ]
  },
  {
   "cell_type": "markdown",
   "id": "d3f5ca5a",
   "metadata": {},
   "source": [
    "Observations:\n",
    "1. Changes made to orginal list are reflecting in deep copy but not in shallow copy"
   ]
  },
  {
   "cell_type": "code",
   "execution_count": null,
   "id": "1af5f090",
   "metadata": {},
   "outputs": [],
   "source": []
  },
  {
   "cell_type": "code",
   "execution_count": null,
   "id": "f933cda2",
   "metadata": {},
   "outputs": [],
   "source": []
  },
  {
   "cell_type": "code",
   "execution_count": null,
   "id": "84026a1e",
   "metadata": {},
   "outputs": [],
   "source": []
  },
  {
   "cell_type": "code",
   "execution_count": null,
   "id": "901f34c5",
   "metadata": {},
   "outputs": [],
   "source": []
  },
  {
   "cell_type": "code",
   "execution_count": null,
   "id": "ebb6ebc6",
   "metadata": {},
   "outputs": [],
   "source": []
  },
  {
   "cell_type": "code",
   "execution_count": null,
   "id": "9c170310",
   "metadata": {},
   "outputs": [],
   "source": []
  },
  {
   "cell_type": "code",
   "execution_count": null,
   "id": "8bcd0eaf",
   "metadata": {},
   "outputs": [],
   "source": []
  },
  {
   "cell_type": "code",
   "execution_count": null,
   "id": "ab0c8f3c",
   "metadata": {},
   "outputs": [],
   "source": []
  },
  {
   "cell_type": "code",
   "execution_count": null,
   "id": "cb6cac2c",
   "metadata": {},
   "outputs": [],
   "source": []
  },
  {
   "cell_type": "code",
   "execution_count": null,
   "id": "de0c6e55",
   "metadata": {},
   "outputs": [],
   "source": []
  },
  {
   "cell_type": "code",
   "execution_count": null,
   "id": "82f176db",
   "metadata": {},
   "outputs": [],
   "source": []
  },
  {
   "cell_type": "code",
   "execution_count": null,
   "id": "a770566f",
   "metadata": {},
   "outputs": [],
   "source": []
  }
 ],
 "metadata": {
  "kernelspec": {
   "display_name": "Python 3",
   "language": "python",
   "name": "python3"
  },
  "language_info": {
   "codemirror_mode": {
    "name": "ipython",
    "version": 3
   },
   "file_extension": ".py",
   "mimetype": "text/x-python",
   "name": "python",
   "nbconvert_exporter": "python",
   "pygments_lexer": "ipython3",
   "version": "3.8.8"
  }
 },
 "nbformat": 4,
 "nbformat_minor": 5
}
