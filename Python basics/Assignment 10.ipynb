{
 "cells": [
  {
   "cell_type": "markdown",
   "id": "769fa55d",
   "metadata": {},
   "source": [
    "## Assignment 10 \n",
    "**By Sriharsha Velicheti**"
   ]
  },
  {
   "cell_type": "markdown",
   "id": "216aa036",
   "metadata": {},
   "source": [
    "1. How do you distinguish between shutil.copy() and shutil.copytree()?\n",
    "2. What function is used to rename files??\n",
    "3. What is the difference between the delete functions in the send2trash and shutil modules?\n",
    "4. ZipFile objects have a close() method just like File objects’ close() method. What ZipFile method is equivalent to File objects’ open() method?\n",
    "5. Create a programme that searches a folder tree for files with a certain file extension (such as .pdfor .jpg). Copy these files from whatever location they are in to a new folder."
   ]
  },
  {
   "cell_type": "markdown",
   "id": "ad04119d",
   "metadata": {},
   "source": [
    "**Q1:** How do you distinguish between shutil.copy() and shutil.copytree()?\n",
    "\n",
    "**A:** The shutil.copy() function is used to copy a single file from a source location to a destination location, while shutil.copytree() is used to recursively copy an entire directory tree from a source location to a destination location.\n",
    "\n",
    "**Q2:** What function is used to rename files?\n",
    "\n",
    "**A:** The function used to rename files is os.rename(src, dst).\n",
    "\n",
    "**Q3:** What is the difference between the delete functions in the send2trash and shutil modules?\n",
    "\n",
    "**A:** The send2trash module provides a send2trash() function that moves files or directories to the system's trash or recycle bin instead of permanently deleting them. On the other hand, the shutil module provides functions like shutil.rmtree() to delete an entire directory tree permanently and os.remove() to delete a single file.\n",
    "\n",
    "**Q4:** ZipFile objects have a close() method just like File objects’ close() method. What ZipFile method is equivalent to File objects’ open() method?\n",
    "\n",
    "**A:** The ZipFile() method is equivalent to File objects' open() method. It is used to create a ZipFile object representing a Zip file and provides various methods and properties to work with its contents."
   ]
  },
  {
   "cell_type": "markdown",
   "id": "02eab76a",
   "metadata": {},
   "source": [
    "**Q5:** Can you provide a program that searches a folder tree for files with a certain file extension and copies them to a new folder?"
   ]
  },
  {
   "cell_type": "code",
   "execution_count": 5,
   "id": "02d60c40",
   "metadata": {},
   "outputs": [
    {
     "name": "stdout",
     "output_type": "stream",
     "text": [
      "C:/Users/sriharsha/Desktop/6th sem/miniproject\\Assignment 10.pdf\n"
     ]
    }
   ],
   "source": [
    "import os\n",
    "import shutil\n",
    "\n",
    "def copy_files_by_extension(source_folder, destination_folder, extension):\n",
    "    \"\"\"\n",
    "    **This program searches the source_folder and its subdirectories for files with the specified extension,\n",
    "    and then copies those files to the destination_folder.**\n",
    "    \n",
    "    \"\"\"\n",
    "    for root, dirs, files in os.walk(source_folder):\n",
    "        for file in files:\n",
    "            if file.endswith(extension):\n",
    "                source_path = os.path.join(root, file)\n",
    "                destination_path = os.path.join(destination_folder, file)\n",
    "                shutil.copy(source_path, destination_path)\n",
    "                print(destination_path) #File Transfer confirmation\n",
    "\n",
    "#Example:\n",
    "source_folder =\"C:/Users/sriharsha/Desktop/6th sem/AML\" #\n",
    "destination_folder = \"C:/Users/sriharsha/Desktop/6th sem/miniproject\"\n",
    "extension = '.pdf'  \n",
    "\n",
    "copy_files_by_extension(source_folder, destination_folder, extension)\n"
   ]
  }
 ],
 "metadata": {
  "kernelspec": {
   "display_name": "Python 3",
   "language": "python",
   "name": "python3"
  },
  "language_info": {
   "codemirror_mode": {
    "name": "ipython",
    "version": 3
   },
   "file_extension": ".py",
   "mimetype": "text/x-python",
   "name": "python",
   "nbconvert_exporter": "python",
   "pygments_lexer": "ipython3",
   "version": "3.8.8"
  }
 },
 "nbformat": 4,
 "nbformat_minor": 5
}
