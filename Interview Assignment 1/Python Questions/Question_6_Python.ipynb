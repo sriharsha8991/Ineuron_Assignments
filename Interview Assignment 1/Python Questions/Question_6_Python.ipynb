{
 "cells": [
  {
   "cell_type": "markdown",
   "id": "50fba271",
   "metadata": {},
   "source": [
    "## Q6_python_Interview assignment Question\n",
    "\n",
    "**By Sriharsha velicheti**\n",
    "\n",
    "**Pokemon notebook**\n"
   ]
  },
  {
   "cell_type": "markdown",
   "id": "457d71db",
   "metadata": {},
   "source": [
    "Using the data from Question 3, write code to analyze the data and answer the following questions \n",
    "\n",
    "Note 1.\n",
    "Draw plots to demonstrate the analysis for the following questions for better visualizations.\n",
    "\n",
    "2. Write code comments wherever required for code understanding\n",
    "\n",
    "Insights to be drawn -\n",
    "● Get all Pokemons whose spawn rate is less than 5%\n",
    "\n",
    "● Get all Pokemons that have less than 4 weaknesses\n",
    "\n",
    "● Get all Pokemons that have no multipliers at all\n",
    "\n",
    "● Get all Pokemons that do not have more than 2 evolutions\n",
    "\n",
    "● Get all Pokemons whose spawn time is less than 300 seconds.\n",
    "\n",
    "**Note - spawn time format is \"05:32”, so assume “minute: second” format and perform the analysis.**\n",
    "\n",
    "● Get all Pokemon who have more than two types of capabilities"
   ]
  },
  {
   "cell_type": "code",
   "execution_count": 90,
   "id": "cf2b06cb",
   "metadata": {},
   "outputs": [],
   "source": [
    "import pandas as pd\n",
    "import numpy as np\n",
    "import seaborn as sns "
   ]
  },
  {
   "cell_type": "code",
   "execution_count": 47,
   "id": "a1b712df",
   "metadata": {},
   "outputs": [
    {
     "data": {
      "application/javascript": [
       "\n",
       "        if (window._pyforest_update_imports_cell) { window._pyforest_update_imports_cell('import pandas as pd'); }\n",
       "    "
      ],
      "text/plain": [
       "<IPython.core.display.Javascript object>"
      ]
     },
     "metadata": {},
     "output_type": "display_data"
    }
   ],
   "source": [
    "#Data From Question 3\n",
    "df = pd.read_excel(r\"C:\\Users\\sriharsha\\Desktop\\INueron\\Interview Assignment 1\\Python Questions\\Question3_python\\pokemon_data.xlsx\",index_col = 0)"
   ]
  },
  {
   "cell_type": "code",
   "execution_count": 48,
   "id": "c88140cb",
   "metadata": {},
   "outputs": [
    {
     "data": {
      "text/html": [
       "<div>\n",
       "<style scoped>\n",
       "    .dataframe tbody tr th:only-of-type {\n",
       "        vertical-align: middle;\n",
       "    }\n",
       "\n",
       "    .dataframe tbody tr th {\n",
       "        vertical-align: top;\n",
       "    }\n",
       "\n",
       "    .dataframe thead th {\n",
       "        text-align: right;\n",
       "    }\n",
       "</style>\n",
       "<table border=\"1\" class=\"dataframe\">\n",
       "  <thead>\n",
       "    <tr style=\"text-align: right;\">\n",
       "      <th></th>\n",
       "      <th>id</th>\n",
       "      <th>num</th>\n",
       "      <th>name</th>\n",
       "      <th>img</th>\n",
       "      <th>type</th>\n",
       "      <th>height</th>\n",
       "      <th>weight</th>\n",
       "      <th>candy</th>\n",
       "      <th>candy_count</th>\n",
       "      <th>egg</th>\n",
       "      <th>spawn_chance</th>\n",
       "      <th>avg_spawns</th>\n",
       "      <th>spawn_time</th>\n",
       "      <th>multipliers</th>\n",
       "      <th>weaknesses</th>\n",
       "      <th>next_evolution</th>\n",
       "      <th>prev_evolution</th>\n",
       "    </tr>\n",
       "  </thead>\n",
       "  <tbody>\n",
       "    <tr>\n",
       "      <th>0</th>\n",
       "      <td>1</td>\n",
       "      <td>1</td>\n",
       "      <td>Bulbasaur</td>\n",
       "      <td>http://www.serebii.net/pokemongo/pokemon/001.png</td>\n",
       "      <td>['Grass', 'Poison']</td>\n",
       "      <td>0.71 m</td>\n",
       "      <td>6.9 kg</td>\n",
       "      <td>Bulbasaur Candy</td>\n",
       "      <td>25.0</td>\n",
       "      <td>2 km</td>\n",
       "      <td>0.6900</td>\n",
       "      <td>69.00</td>\n",
       "      <td>20:00</td>\n",
       "      <td>[1.58]</td>\n",
       "      <td>['Fire', 'Ice', 'Flying', 'Psychic']</td>\n",
       "      <td>[{'num': '002', 'name': 'Ivysaur'}, {'num': '0...</td>\n",
       "      <td>NaN</td>\n",
       "    </tr>\n",
       "    <tr>\n",
       "      <th>1</th>\n",
       "      <td>2</td>\n",
       "      <td>2</td>\n",
       "      <td>Ivysaur</td>\n",
       "      <td>http://www.serebii.net/pokemongo/pokemon/002.png</td>\n",
       "      <td>['Grass', 'Poison']</td>\n",
       "      <td>0.99 m</td>\n",
       "      <td>13.0 kg</td>\n",
       "      <td>Bulbasaur Candy</td>\n",
       "      <td>100.0</td>\n",
       "      <td>Not in Eggs</td>\n",
       "      <td>0.0420</td>\n",
       "      <td>4.20</td>\n",
       "      <td>07:00</td>\n",
       "      <td>[1.2, 1.6]</td>\n",
       "      <td>['Fire', 'Ice', 'Flying', 'Psychic']</td>\n",
       "      <td>[{'num': '003', 'name': 'Venusaur'}]</td>\n",
       "      <td>[{'num': '001', 'name': 'Bulbasaur'}]</td>\n",
       "    </tr>\n",
       "    <tr>\n",
       "      <th>2</th>\n",
       "      <td>3</td>\n",
       "      <td>3</td>\n",
       "      <td>Venusaur</td>\n",
       "      <td>http://www.serebii.net/pokemongo/pokemon/003.png</td>\n",
       "      <td>['Grass', 'Poison']</td>\n",
       "      <td>2.01 m</td>\n",
       "      <td>100.0 kg</td>\n",
       "      <td>Bulbasaur Candy</td>\n",
       "      <td>NaN</td>\n",
       "      <td>Not in Eggs</td>\n",
       "      <td>0.0170</td>\n",
       "      <td>1.70</td>\n",
       "      <td>11:30</td>\n",
       "      <td>NaN</td>\n",
       "      <td>['Fire', 'Ice', 'Flying', 'Psychic']</td>\n",
       "      <td>NaN</td>\n",
       "      <td>[{'num': '001', 'name': 'Bulbasaur'}, {'num': ...</td>\n",
       "    </tr>\n",
       "    <tr>\n",
       "      <th>3</th>\n",
       "      <td>4</td>\n",
       "      <td>4</td>\n",
       "      <td>Charmander</td>\n",
       "      <td>http://www.serebii.net/pokemongo/pokemon/004.png</td>\n",
       "      <td>['Fire']</td>\n",
       "      <td>0.61 m</td>\n",
       "      <td>8.5 kg</td>\n",
       "      <td>Charmander Candy</td>\n",
       "      <td>25.0</td>\n",
       "      <td>2 km</td>\n",
       "      <td>0.2530</td>\n",
       "      <td>25.30</td>\n",
       "      <td>08:45</td>\n",
       "      <td>[1.65]</td>\n",
       "      <td>['Water', 'Ground', 'Rock']</td>\n",
       "      <td>[{'num': '005', 'name': 'Charmeleon'}, {'num':...</td>\n",
       "      <td>NaN</td>\n",
       "    </tr>\n",
       "    <tr>\n",
       "      <th>4</th>\n",
       "      <td>5</td>\n",
       "      <td>5</td>\n",
       "      <td>Charmeleon</td>\n",
       "      <td>http://www.serebii.net/pokemongo/pokemon/005.png</td>\n",
       "      <td>['Fire']</td>\n",
       "      <td>1.09 m</td>\n",
       "      <td>19.0 kg</td>\n",
       "      <td>Charmander Candy</td>\n",
       "      <td>100.0</td>\n",
       "      <td>Not in Eggs</td>\n",
       "      <td>0.0120</td>\n",
       "      <td>1.20</td>\n",
       "      <td>19:00</td>\n",
       "      <td>[1.79]</td>\n",
       "      <td>['Water', 'Ground', 'Rock']</td>\n",
       "      <td>[{'num': '006', 'name': 'Charizard'}]</td>\n",
       "      <td>[{'num': '004', 'name': 'Charmander'}]</td>\n",
       "    </tr>\n",
       "    <tr>\n",
       "      <th>...</th>\n",
       "      <td>...</td>\n",
       "      <td>...</td>\n",
       "      <td>...</td>\n",
       "      <td>...</td>\n",
       "      <td>...</td>\n",
       "      <td>...</td>\n",
       "      <td>...</td>\n",
       "      <td>...</td>\n",
       "      <td>...</td>\n",
       "      <td>...</td>\n",
       "      <td>...</td>\n",
       "      <td>...</td>\n",
       "      <td>...</td>\n",
       "      <td>...</td>\n",
       "      <td>...</td>\n",
       "      <td>...</td>\n",
       "      <td>...</td>\n",
       "    </tr>\n",
       "    <tr>\n",
       "      <th>146</th>\n",
       "      <td>147</td>\n",
       "      <td>147</td>\n",
       "      <td>Dratini</td>\n",
       "      <td>http://www.serebii.net/pokemongo/pokemon/147.png</td>\n",
       "      <td>['Dragon']</td>\n",
       "      <td>1.80 m</td>\n",
       "      <td>3.3 kg</td>\n",
       "      <td>Dratini Candy</td>\n",
       "      <td>25.0</td>\n",
       "      <td>10 km</td>\n",
       "      <td>0.3000</td>\n",
       "      <td>30.00</td>\n",
       "      <td>06:41</td>\n",
       "      <td>[1.83, 1.84]</td>\n",
       "      <td>['Ice', 'Dragon', 'Fairy']</td>\n",
       "      <td>[{'num': '148', 'name': 'Dragonair'}, {'num': ...</td>\n",
       "      <td>NaN</td>\n",
       "    </tr>\n",
       "    <tr>\n",
       "      <th>147</th>\n",
       "      <td>148</td>\n",
       "      <td>148</td>\n",
       "      <td>Dragonair</td>\n",
       "      <td>http://www.serebii.net/pokemongo/pokemon/148.png</td>\n",
       "      <td>['Dragon']</td>\n",
       "      <td>3.99 m</td>\n",
       "      <td>16.5 kg</td>\n",
       "      <td>Dratini Candy</td>\n",
       "      <td>100.0</td>\n",
       "      <td>Not in Eggs</td>\n",
       "      <td>0.0200</td>\n",
       "      <td>2.00</td>\n",
       "      <td>11:57</td>\n",
       "      <td>[2.05]</td>\n",
       "      <td>['Ice', 'Dragon', 'Fairy']</td>\n",
       "      <td>[{'num': '149', 'name': 'Dragonite'}]</td>\n",
       "      <td>[{'num': '147', 'name': 'Dratini'}]</td>\n",
       "    </tr>\n",
       "    <tr>\n",
       "      <th>148</th>\n",
       "      <td>149</td>\n",
       "      <td>149</td>\n",
       "      <td>Dragonite</td>\n",
       "      <td>http://www.serebii.net/pokemongo/pokemon/149.png</td>\n",
       "      <td>['Dragon', 'Flying']</td>\n",
       "      <td>2.21 m</td>\n",
       "      <td>210.0 kg</td>\n",
       "      <td>Dratini Candy</td>\n",
       "      <td>NaN</td>\n",
       "      <td>Not in Eggs</td>\n",
       "      <td>0.0011</td>\n",
       "      <td>0.11</td>\n",
       "      <td>23:38</td>\n",
       "      <td>NaN</td>\n",
       "      <td>['Ice', 'Rock', 'Dragon', 'Fairy']</td>\n",
       "      <td>NaN</td>\n",
       "      <td>[{'num': '147', 'name': 'Dratini'}, {'num': '1...</td>\n",
       "    </tr>\n",
       "    <tr>\n",
       "      <th>149</th>\n",
       "      <td>150</td>\n",
       "      <td>150</td>\n",
       "      <td>Mewtwo</td>\n",
       "      <td>http://www.serebii.net/pokemongo/pokemon/150.png</td>\n",
       "      <td>['Psychic']</td>\n",
       "      <td>2.01 m</td>\n",
       "      <td>122.0 kg</td>\n",
       "      <td>None</td>\n",
       "      <td>NaN</td>\n",
       "      <td>Not in Eggs</td>\n",
       "      <td>0.0000</td>\n",
       "      <td>0.00</td>\n",
       "      <td>NaN</td>\n",
       "      <td>NaN</td>\n",
       "      <td>['Bug', 'Ghost', 'Dark']</td>\n",
       "      <td>NaN</td>\n",
       "      <td>NaN</td>\n",
       "    </tr>\n",
       "    <tr>\n",
       "      <th>150</th>\n",
       "      <td>151</td>\n",
       "      <td>151</td>\n",
       "      <td>Mew</td>\n",
       "      <td>http://www.serebii.net/pokemongo/pokemon/151.png</td>\n",
       "      <td>['Psychic']</td>\n",
       "      <td>0.41 m</td>\n",
       "      <td>4.0 kg</td>\n",
       "      <td>None</td>\n",
       "      <td>NaN</td>\n",
       "      <td>Not in Eggs</td>\n",
       "      <td>0.0000</td>\n",
       "      <td>0.00</td>\n",
       "      <td>NaN</td>\n",
       "      <td>NaN</td>\n",
       "      <td>['Bug', 'Ghost', 'Dark']</td>\n",
       "      <td>NaN</td>\n",
       "      <td>NaN</td>\n",
       "    </tr>\n",
       "  </tbody>\n",
       "</table>\n",
       "<p>151 rows × 17 columns</p>\n",
       "</div>"
      ],
      "text/plain": [
       "      id  num        name                                               img  \\\n",
       "0      1    1   Bulbasaur  http://www.serebii.net/pokemongo/pokemon/001.png   \n",
       "1      2    2     Ivysaur  http://www.serebii.net/pokemongo/pokemon/002.png   \n",
       "2      3    3    Venusaur  http://www.serebii.net/pokemongo/pokemon/003.png   \n",
       "3      4    4  Charmander  http://www.serebii.net/pokemongo/pokemon/004.png   \n",
       "4      5    5  Charmeleon  http://www.serebii.net/pokemongo/pokemon/005.png   \n",
       "..   ...  ...         ...                                               ...   \n",
       "146  147  147     Dratini  http://www.serebii.net/pokemongo/pokemon/147.png   \n",
       "147  148  148   Dragonair  http://www.serebii.net/pokemongo/pokemon/148.png   \n",
       "148  149  149   Dragonite  http://www.serebii.net/pokemongo/pokemon/149.png   \n",
       "149  150  150      Mewtwo  http://www.serebii.net/pokemongo/pokemon/150.png   \n",
       "150  151  151         Mew  http://www.serebii.net/pokemongo/pokemon/151.png   \n",
       "\n",
       "                     type  height    weight             candy  candy_count  \\\n",
       "0     ['Grass', 'Poison']  0.71 m    6.9 kg   Bulbasaur Candy         25.0   \n",
       "1     ['Grass', 'Poison']  0.99 m   13.0 kg   Bulbasaur Candy        100.0   \n",
       "2     ['Grass', 'Poison']  2.01 m  100.0 kg   Bulbasaur Candy          NaN   \n",
       "3                ['Fire']  0.61 m    8.5 kg  Charmander Candy         25.0   \n",
       "4                ['Fire']  1.09 m   19.0 kg  Charmander Candy        100.0   \n",
       "..                    ...     ...       ...               ...          ...   \n",
       "146            ['Dragon']  1.80 m    3.3 kg     Dratini Candy         25.0   \n",
       "147            ['Dragon']  3.99 m   16.5 kg     Dratini Candy        100.0   \n",
       "148  ['Dragon', 'Flying']  2.21 m  210.0 kg     Dratini Candy          NaN   \n",
       "149           ['Psychic']  2.01 m  122.0 kg              None          NaN   \n",
       "150           ['Psychic']  0.41 m    4.0 kg              None          NaN   \n",
       "\n",
       "             egg  spawn_chance  avg_spawns spawn_time   multipliers  \\\n",
       "0           2 km        0.6900       69.00      20:00        [1.58]   \n",
       "1    Not in Eggs        0.0420        4.20      07:00    [1.2, 1.6]   \n",
       "2    Not in Eggs        0.0170        1.70      11:30           NaN   \n",
       "3           2 km        0.2530       25.30      08:45        [1.65]   \n",
       "4    Not in Eggs        0.0120        1.20      19:00        [1.79]   \n",
       "..           ...           ...         ...        ...           ...   \n",
       "146        10 km        0.3000       30.00      06:41  [1.83, 1.84]   \n",
       "147  Not in Eggs        0.0200        2.00      11:57        [2.05]   \n",
       "148  Not in Eggs        0.0011        0.11      23:38           NaN   \n",
       "149  Not in Eggs        0.0000        0.00        NaN           NaN   \n",
       "150  Not in Eggs        0.0000        0.00        NaN           NaN   \n",
       "\n",
       "                               weaknesses  \\\n",
       "0    ['Fire', 'Ice', 'Flying', 'Psychic']   \n",
       "1    ['Fire', 'Ice', 'Flying', 'Psychic']   \n",
       "2    ['Fire', 'Ice', 'Flying', 'Psychic']   \n",
       "3             ['Water', 'Ground', 'Rock']   \n",
       "4             ['Water', 'Ground', 'Rock']   \n",
       "..                                    ...   \n",
       "146            ['Ice', 'Dragon', 'Fairy']   \n",
       "147            ['Ice', 'Dragon', 'Fairy']   \n",
       "148    ['Ice', 'Rock', 'Dragon', 'Fairy']   \n",
       "149              ['Bug', 'Ghost', 'Dark']   \n",
       "150              ['Bug', 'Ghost', 'Dark']   \n",
       "\n",
       "                                        next_evolution  \\\n",
       "0    [{'num': '002', 'name': 'Ivysaur'}, {'num': '0...   \n",
       "1                 [{'num': '003', 'name': 'Venusaur'}]   \n",
       "2                                                  NaN   \n",
       "3    [{'num': '005', 'name': 'Charmeleon'}, {'num':...   \n",
       "4                [{'num': '006', 'name': 'Charizard'}]   \n",
       "..                                                 ...   \n",
       "146  [{'num': '148', 'name': 'Dragonair'}, {'num': ...   \n",
       "147              [{'num': '149', 'name': 'Dragonite'}]   \n",
       "148                                                NaN   \n",
       "149                                                NaN   \n",
       "150                                                NaN   \n",
       "\n",
       "                                        prev_evolution  \n",
       "0                                                  NaN  \n",
       "1                [{'num': '001', 'name': 'Bulbasaur'}]  \n",
       "2    [{'num': '001', 'name': 'Bulbasaur'}, {'num': ...  \n",
       "3                                                  NaN  \n",
       "4               [{'num': '004', 'name': 'Charmander'}]  \n",
       "..                                                 ...  \n",
       "146                                                NaN  \n",
       "147                [{'num': '147', 'name': 'Dratini'}]  \n",
       "148  [{'num': '147', 'name': 'Dratini'}, {'num': '1...  \n",
       "149                                                NaN  \n",
       "150                                                NaN  \n",
       "\n",
       "[151 rows x 17 columns]"
      ]
     },
     "execution_count": 48,
     "metadata": {},
     "output_type": "execute_result"
    }
   ],
   "source": [
    "df"
   ]
  },
  {
   "cell_type": "code",
   "execution_count": 49,
   "id": "4c2bab35",
   "metadata": {},
   "outputs": [],
   "source": [
    "df.drop(['num','id'],axis=1,inplace=True)"
   ]
  },
  {
   "cell_type": "code",
   "execution_count": 50,
   "id": "274366c1",
   "metadata": {
    "scrolled": true
   },
   "outputs": [
    {
     "name": "stdout",
     "output_type": "stream",
     "text": [
      "<class 'pandas.core.frame.DataFrame'>\n",
      "Int64Index: 151 entries, 0 to 150\n",
      "Data columns (total 15 columns):\n",
      " #   Column          Non-Null Count  Dtype  \n",
      "---  ------          --------------  -----  \n",
      " 0   name            151 non-null    object \n",
      " 1   img             151 non-null    object \n",
      " 2   type            151 non-null    object \n",
      " 3   height          151 non-null    object \n",
      " 4   weight          151 non-null    object \n",
      " 5   candy           151 non-null    object \n",
      " 6   candy_count     70 non-null     float64\n",
      " 7   egg             151 non-null    object \n",
      " 8   spawn_chance    151 non-null    float64\n",
      " 9   avg_spawns      151 non-null    float64\n",
      " 10  spawn_time      145 non-null    object \n",
      " 11  multipliers     70 non-null     object \n",
      " 12  weaknesses      151 non-null    object \n",
      " 13  next_evolution  70 non-null     object \n",
      " 14  prev_evolution  72 non-null     object \n",
      "dtypes: float64(3), object(12)\n",
      "memory usage: 18.9+ KB\n"
     ]
    }
   ],
   "source": [
    "df.info()"
   ]
  },
  {
   "cell_type": "markdown",
   "id": "b8e4ec22",
   "metadata": {},
   "source": [
    "#### Get all Pokemons whose spawn rate is less than 5%"
   ]
  },
  {
   "cell_type": "code",
   "execution_count": 51,
   "id": "bb106fc7",
   "metadata": {},
   "outputs": [],
   "source": [
    "#Change spawn time completely into seconds\n",
    "df['spawn_time'].fillna('00:00',inplace=True)"
   ]
  },
  {
   "cell_type": "code",
   "execution_count": 52,
   "id": "50c392de",
   "metadata": {},
   "outputs": [],
   "source": [
    "l=[]\n",
    "for i in df['spawn_time']:\n",
    "    l.append((int(str(i)[:2])*60)+int(str(i)[3:]))"
   ]
  },
  {
   "cell_type": "code",
   "execution_count": 57,
   "id": "398940ed",
   "metadata": {},
   "outputs": [],
   "source": [
    "df['spawn_time_sec'] = l"
   ]
  },
  {
   "cell_type": "code",
   "execution_count": 61,
   "id": "5a233e84",
   "metadata": {},
   "outputs": [],
   "source": [
    "df['spawn_rate'] =( df['avg_spawns']/df['spawn_time_sec'])*100"
   ]
  },
  {
   "cell_type": "code",
   "execution_count": 64,
   "id": "7c6ae235",
   "metadata": {},
   "outputs": [],
   "source": [
    "names_with_spawn_lessthan_5 = df[df['spawn_rate']<=5].name"
   ]
  },
  {
   "cell_type": "markdown",
   "id": "6aed5cfa",
   "metadata": {},
   "source": [
    "# Word Cloud"
   ]
  },
  {
   "cell_type": "code",
   "execution_count": 126,
   "id": "88f56ae4",
   "metadata": {},
   "outputs": [],
   "source": [
    "text = ''\n",
    "for i in df[\"weaknesses\"]:\n",
    "    for j in i.split(\",\"):\n",
    "            text+= j[1:-1]\n",
    "       "
   ]
  },
  {
   "cell_type": "code",
   "execution_count": null,
   "id": "edc535bb",
   "metadata": {},
   "outputs": [],
   "source": []
  },
  {
   "cell_type": "code",
   "execution_count": 137,
   "id": "6b6e4aa2",
   "metadata": {},
   "outputs": [],
   "source": [
    "# from wordcloud import WordCloud,STOPWORDS\n",
    "\n",
    "# wc = WordCloud(width = 80, height = 80,background_color ='grey',min_font_size=10).generate_from_text(text)"
   ]
  },
  {
   "cell_type": "code",
   "execution_count": 139,
   "id": "b3e24335",
   "metadata": {},
   "outputs": [
    {
     "data": {
      "application/javascript": [
       "\n",
       "        if (window._pyforest_update_imports_cell) { window._pyforest_update_imports_cell('import pandas as pd\\nimport matplotlib.pyplot as plt'); }\n",
       "    "
      ],
      "text/plain": [
       "<IPython.core.display.Javascript object>"
      ]
     },
     "metadata": {},
     "output_type": "display_data"
    },
    {
     "data": {
      "application/javascript": [
       "\n",
       "        if (window._pyforest_update_imports_cell) { window._pyforest_update_imports_cell('import pandas as pd\\nimport matplotlib.pyplot as plt'); }\n",
       "    "
      ],
      "text/plain": [
       "<IPython.core.display.Javascript object>"
      ]
     },
     "metadata": {},
     "output_type": "display_data"
    },
    {
     "data": {
      "application/javascript": [
       "\n",
       "        if (window._pyforest_update_imports_cell) { window._pyforest_update_imports_cell('import pandas as pd\\nimport matplotlib.pyplot as plt'); }\n",
       "    "
      ],
      "text/plain": [
       "<IPython.core.display.Javascript object>"
      ]
     },
     "metadata": {},
     "output_type": "display_data"
    },
    {
     "data": {
      "application/javascript": [
       "\n",
       "        if (window._pyforest_update_imports_cell) { window._pyforest_update_imports_cell('import pandas as pd\\nimport matplotlib.pyplot as plt'); }\n",
       "    "
      ],
      "text/plain": [
       "<IPython.core.display.Javascript object>"
      ]
     },
     "metadata": {},
     "output_type": "display_data"
    },
    {
     "data": {
      "text/plain": [
       "(-0.5, 79.5, 79.5, -0.5)"
      ]
     },
     "execution_count": 139,
     "metadata": {},
     "output_type": "execute_result"
    },
    {
     "data": {
      "image/png": "[encoded data removed]",
      "text/plain": [
       "<Figure size 576x576 with 1 Axes>"
      ]
     },
     "metadata": {
      "needs_background": "light"
     },
     "output_type": "display_data"
    }
   ],
   "source": [
    "# plt.figure(figsize = (8, 8), facecolor = None) \n",
    "# plt.imshow(wc) \n",
    "# plt.rcParams.update({'font.size': 120})\n",
    "# plt.axis(\"off\") "
   ]
  },
  {
   "cell_type": "code",
   "execution_count": 105,
   "id": "8e54ef31",
   "metadata": {},
   "outputs": [
    {
     "data": {
      "application/javascript": [
       "\n",
       "        if (window._pyforest_update_imports_cell) { window._pyforest_update_imports_cell('import pandas as pd\\nimport matplotlib.pyplot as plt'); }\n",
       "    "
      ],
      "text/plain": [
       "<IPython.core.display.Javascript object>"
      ]
     },
     "metadata": {},
     "output_type": "display_data"
    },
    {
     "name": "stderr",
     "output_type": "stream",
     "text": [
      "C:\\Users\\sriharsha\\anaconda3\\lib\\site-packages\\seaborn\\_decorators.py:36: FutureWarning: Pass the following variables as keyword args: x, y. From version 0.12, the only valid positional argument will be `data`, and passing other arguments without an explicit keyword will result in an error or misinterpretation.\n",
      "  warnings.warn(\n"
     ]
    },
    {
     "data": {
      "text/plain": [
       "<AxesSubplot:xlabel='spawn_rate', ylabel='avg_spawns'>"
      ]
     },
     "execution_count": 105,
     "metadata": {},
     "output_type": "execute_result"
    },
    {
     "data": {
      "image/png": "[encoded data removed]",
      "text/plain": [
       "<Figure size 1008x720 with 1 Axes>"
      ]
     },
     "metadata": {
      "needs_background": "light"
     },
     "output_type": "display_data"
    }
   ],
   "source": [
    "plt.figure(figsize=(14,10))\n",
    "sns.regplot(df['spawn_rate'],df['avg_spawns'],color='green')"
   ]
  },
  {
   "cell_type": "markdown",
   "id": "b4ae7485",
   "metadata": {},
   "source": [
    "#### **Get all Pokemons that have less than 4 weaknesses**"
   ]
  },
  {
   "cell_type": "code",
   "execution_count": 83,
   "id": "39f49105",
   "metadata": {},
   "outputs": [],
   "source": [
    "lessthan4_weakness = []\n",
    "for i in df[\"weaknesses\"]:\n",
    "    if len(i.split(\",\"))<4:\n",
    "        lessthan4_weakness.append(1)\n",
    "    else:lessthan4_weakness.append(0)"
   ]
  },
  {
   "cell_type": "code",
   "execution_count": 84,
   "id": "dad39b1c",
   "metadata": {},
   "outputs": [],
   "source": [
    "df[\"lessthan4_weakness\"] = lessthan4_weakness"
   ]
  },
  {
   "cell_type": "code",
   "execution_count": 85,
   "id": "46abdb0b",
   "metadata": {},
   "outputs": [
    {
     "data": {
      "text/plain": [
       "3      Charmander\n",
       "4      Charmeleon\n",
       "5       Charizard\n",
       "6        Squirtle\n",
       "7       Wartortle\n",
       "          ...    \n",
       "145       Moltres\n",
       "146       Dratini\n",
       "147     Dragonair\n",
       "149        Mewtwo\n",
       "150           Mew\n",
       "Name: name, Length: 102, dtype: object"
      ]
     },
     "execution_count": 85,
     "metadata": {},
     "output_type": "execute_result"
    }
   ],
   "source": [
    "#to get the names of all pokemons with less than four weaknesses\n",
    "df[df[\"lessthan4_weakness\"]==1].name"
   ]
  },
  {
   "cell_type": "markdown",
   "id": "4bc905fb",
   "metadata": {},
   "source": [
    "#### Get all Pokemons that have no multipliers at all"
   ]
  },
  {
   "cell_type": "code",
   "execution_count": 87,
   "id": "f59c2f72",
   "metadata": {
    "scrolled": true
   },
   "outputs": [
    {
     "data": {
      "text/plain": [
       "2        Venusaur\n",
       "5       Charizard\n",
       "8       Blastoise\n",
       "11     Butterfree\n",
       "14       Beedrill\n",
       "          ...    \n",
       "144        Zapdos\n",
       "145       Moltres\n",
       "148     Dragonite\n",
       "149        Mewtwo\n",
       "150           Mew\n",
       "Name: name, Length: 81, dtype: object"
      ]
     },
     "execution_count": 87,
     "metadata": {},
     "output_type": "execute_result"
    }
   ],
   "source": [
    "df[df[\"multipliers\"].isnull()].name"
   ]
  },
  {
   "cell_type": "code",
   "execution_count": null,
   "id": "e7b39477",
   "metadata": {},
   "outputs": [],
   "source": []
  },
  {
   "cell_type": "code",
   "execution_count": 101,
   "id": "42e5acfb",
   "metadata": {},
   "outputs": [],
   "source": [
    "# sns.histplot([len(str(i)) for i in df[\"multipliers\"] ])"
   ]
  },
  {
   "cell_type": "markdown",
   "id": "006d0fde",
   "metadata": {},
   "source": [
    "#### Get all Pokemons that do not have more than 2 evolutions"
   ]
  },
  {
   "cell_type": "markdown",
   "id": "f906adad",
   "metadata": {},
   "source": [
    "#### Get all Pokemons whose spawn time is less than 300 seconds."
   ]
  },
  {
   "cell_type": "code",
   "execution_count": 88,
   "id": "e838abee",
   "metadata": {},
   "outputs": [
    {
     "data": {
      "text/plain": [
       "6       Squirtle\n",
       "8      Blastoise\n",
       "10       Metapod\n",
       "12        Weedle\n",
       "13        Kakuna\n",
       "         ...    \n",
       "143     Articuno\n",
       "144       Zapdos\n",
       "145      Moltres\n",
       "149       Mewtwo\n",
       "150          Mew\n",
       "Name: name, Length: 81, dtype: object"
      ]
     },
     "execution_count": 88,
     "metadata": {},
     "output_type": "execute_result"
    }
   ],
   "source": [
    "df[df[\"spawn_time_sec\"]<300].name"
   ]
  },
  {
   "cell_type": "code",
   "execution_count": 89,
   "id": "2cea75fe",
   "metadata": {},
   "outputs": [
    {
     "data": {
      "text/plain": [
       "<AxesSubplot:xlabel='spawn_time_sec', ylabel='Count'>"
      ]
     },
     "execution_count": 89,
     "metadata": {},
     "output_type": "execute_result"
    },
    {
     "data": {
      "image/png": "[encoded data removed]",
      "text/plain": [
       "<Figure size 432x288 with 1 Axes>"
      ]
     },
     "metadata": {
      "needs_background": "light"
     },
     "output_type": "display_data"
    }
   ],
   "source": [
    "sns.histplot(df[\"spawn_time_sec\"])"
   ]
  },
  {
   "cell_type": "markdown",
   "id": "f77b1bbe",
   "metadata": {},
   "source": [
    "```There are around 80 pokemons whose spam time is less than 300 seconds```"
   ]
  },
  {
   "cell_type": "markdown",
   "id": "86d1dea1",
   "metadata": {},
   "source": [
    "#### Get all Pokemon who have more than two types of capabilities"
   ]
  },
  {
   "cell_type": "code",
   "execution_count": 146,
   "id": "62e363e7",
   "metadata": {},
   "outputs": [],
   "source": [
    "for i in df.type:\n",
    "    if len(i.split(\",\"))>2:\n",
    "        print(df[df[\"type\"]==i].name)\n"
   ]
  },
  {
   "cell_type": "code",
   "execution_count": 150,
   "id": "a2d0b6c5",
   "metadata": {},
   "outputs": [
    {
     "data": {
      "text/plain": [
       "<AxesSubplot:ylabel='Count'>"
      ]
     },
     "execution_count": 150,
     "metadata": {},
     "output_type": "execute_result"
    },
    {
     "data": {
      "image/png": "[encoded data removed]",
      "text/plain": [
       "<Figure size 432x288 with 1 Axes>"
      ]
     },
     "metadata": {
      "needs_background": "light"
     },
     "output_type": "display_data"
    }
   ],
   "source": [
    "x = [ len(i.split(\",\")) for i in df.type]\n",
    "sns.histplot(x)"
   ]
  },
  {
   "cell_type": "markdown",
   "id": "f7ab9fe1",
   "metadata": {},
   "source": [
    "#### There are no pokemons that are having more than 2 capabilities"
   ]
  },
  {
   "cell_type": "code",
   "execution_count": null,
   "id": "5b3968cd",
   "metadata": {},
   "outputs": [],
   "source": []
  }
 ],
 "metadata": {
  "kernelspec": {
   "display_name": "Python 3",
   "language": "python",
   "name": "python3"
  },
  "language_info": {
   "codemirror_mode": {
    "name": "ipython",
    "version": 3
   },
   "file_extension": ".py",
   "mimetype": "text/x-python",
   "name": "python",
   "nbconvert_exporter": "python",
   "pygments_lexer": "ipython3",
   "version": "3.8.8"
  }
 },
 "nbformat": 4,
 "nbformat_minor": 5
}
