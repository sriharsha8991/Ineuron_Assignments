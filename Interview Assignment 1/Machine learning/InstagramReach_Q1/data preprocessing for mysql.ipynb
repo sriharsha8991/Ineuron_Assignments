{
 "cells": [
  {
   "cell_type": "code",
   "execution_count": 6,
   "id": "516daf1f",
   "metadata": {},
   "outputs": [
    {
     "data": {
      "application/javascript": [
       "\n",
       "        if (window._pyforest_update_imports_cell) { window._pyforest_update_imports_cell('import pandas as pd'); }\n",
       "    "
      ],
      "text/plain": [
       "<IPython.core.display.Javascript object>"
      ]
     },
     "metadata": {},
     "output_type": "display_data"
    }
   ],
   "source": [
    "df = pd.read_csv(r\"C:\\Users\\sriharsha\\Downloads\\DS_JOB (1).csv\")"
   ]
  },
  {
   "cell_type": "code",
   "execution_count": 7,
   "id": "0d285c97",
   "metadata": {},
   "outputs": [
    {
     "data": {
      "text/html": [
       "<div>\n",
       "<style scoped>\n",
       "    .dataframe tbody tr th:only-of-type {\n",
       "        vertical-align: middle;\n",
       "    }\n",
       "\n",
       "    .dataframe tbody tr th {\n",
       "        vertical-align: top;\n",
       "    }\n",
       "\n",
       "    .dataframe thead th {\n",
       "        text-align: right;\n",
       "    }\n",
       "</style>\n",
       "<table border=\"1\" class=\"dataframe\">\n",
       "  <thead>\n",
       "    <tr style=\"text-align: right;\">\n",
       "      <th></th>\n",
       "      <th>Job_Role</th>\n",
       "      <th>Company</th>\n",
       "      <th>Location</th>\n",
       "      <th>Job Experience</th>\n",
       "      <th>Skills/Description</th>\n",
       "    </tr>\n",
       "  </thead>\n",
       "  <tbody>\n",
       "    <tr>\n",
       "      <th>0</th>\n",
       "      <td>Senior Data Scientist</td>\n",
       "      <td>UPL</td>\n",
       "      <td>Bangalore/Bengaluru, Mumbai (All Areas)</td>\n",
       "      <td>3-6</td>\n",
       "      <td>python, MLT, statistical modeling, machine lea...</td>\n",
       "    </tr>\n",
       "    <tr>\n",
       "      <th>1</th>\n",
       "      <td>Senior Data Scientist</td>\n",
       "      <td>Walmart</td>\n",
       "      <td>Bangalore/Bengaluru</td>\n",
       "      <td>5-9</td>\n",
       "      <td>Data Science, Machine learning, Python, Azure,...</td>\n",
       "    </tr>\n",
       "    <tr>\n",
       "      <th>2</th>\n",
       "      <td>Applied Data Scientist / ML Senior Engineer (P...</td>\n",
       "      <td>SAP India Pvt.Ltd</td>\n",
       "      <td>Bangalore/Bengaluru</td>\n",
       "      <td>5-10</td>\n",
       "      <td>Python, IT Skills, Testing, Cloud, Product Man...</td>\n",
       "    </tr>\n",
       "    <tr>\n",
       "      <th>3</th>\n",
       "      <td>Data Scientist</td>\n",
       "      <td>UPL</td>\n",
       "      <td>Bangalore/Bengaluru, Mumbai (All Areas)</td>\n",
       "      <td>1-4</td>\n",
       "      <td>python, machine learning, Data Science, data a...</td>\n",
       "    </tr>\n",
       "    <tr>\n",
       "      <th>4</th>\n",
       "      <td>Data Scientist</td>\n",
       "      <td>Walmart</td>\n",
       "      <td>Bangalore/Bengaluru</td>\n",
       "      <td>4-8</td>\n",
       "      <td>IT Skills, Python, Data Science, Machine Learn...</td>\n",
       "    </tr>\n",
       "  </tbody>\n",
       "</table>\n",
       "</div>"
      ],
      "text/plain": [
       "                                            Job_Role            Company  \\\n",
       "0                              Senior Data Scientist                UPL   \n",
       "1                              Senior Data Scientist            Walmart   \n",
       "2  Applied Data Scientist / ML Senior Engineer (P...  SAP India Pvt.Ltd   \n",
       "3                                     Data Scientist                UPL   \n",
       "4                                     Data Scientist            Walmart   \n",
       "\n",
       "                                  Location Job Experience  \\\n",
       "0  Bangalore/Bengaluru, Mumbai (All Areas)            3-6   \n",
       "1                      Bangalore/Bengaluru            5-9   \n",
       "2                      Bangalore/Bengaluru           5-10   \n",
       "3  Bangalore/Bengaluru, Mumbai (All Areas)            1-4   \n",
       "4                      Bangalore/Bengaluru            4-8   \n",
       "\n",
       "                                  Skills/Description  \n",
       "0  python, MLT, statistical modeling, machine lea...  \n",
       "1  Data Science, Machine learning, Python, Azure,...  \n",
       "2  Python, IT Skills, Testing, Cloud, Product Man...  \n",
       "3  python, machine learning, Data Science, data a...  \n",
       "4  IT Skills, Python, Data Science, Machine Learn...  "
      ]
     },
     "execution_count": 7,
     "metadata": {},
     "output_type": "execute_result"
    }
   ],
   "source": [
    "df.head()"
   ]
  },
  {
   "cell_type": "code",
   "execution_count": 8,
   "id": "c45d01b1",
   "metadata": {},
   "outputs": [],
   "source": [
    "df[\"job_exp\"] = df[\"Job Experience\"]"
   ]
  },
  {
   "cell_type": "code",
   "execution_count": 14,
   "id": "b34a4f31",
   "metadata": {},
   "outputs": [
    {
     "ename": "ValueError",
     "evalue": "invalid literal for int() with base 10: 'y'",
     "output_type": "error",
     "traceback": [
      "\u001b[1;31m---------------------------------------------------------------------------\u001b[0m",
      "\u001b[1;31mValueError\u001b[0m                                Traceback (most recent call last)",
      "\u001b[1;32m<ipython-input-14-cbe4bd842b07>\u001b[0m in \u001b[0;36m<module>\u001b[1;34m\u001b[0m\n\u001b[0;32m      1\u001b[0m \u001b[0ml\u001b[0m\u001b[1;33m=\u001b[0m\u001b[1;33m[\u001b[0m\u001b[1;33m]\u001b[0m\u001b[1;33m\u001b[0m\u001b[1;33m\u001b[0m\u001b[0m\n\u001b[0;32m      2\u001b[0m \u001b[1;32mfor\u001b[0m \u001b[0mi\u001b[0m \u001b[1;32min\u001b[0m \u001b[0mdf\u001b[0m\u001b[1;33m[\u001b[0m\u001b[1;34m\"job_exp\"\u001b[0m\u001b[1;33m]\u001b[0m\u001b[1;33m:\u001b[0m\u001b[1;33m\u001b[0m\u001b[1;33m\u001b[0m\u001b[0m\n\u001b[1;32m----> 3\u001b[1;33m     \u001b[0ml\u001b[0m\u001b[1;33m.\u001b[0m\u001b[0mappend\u001b[0m\u001b[1;33m(\u001b[0m\u001b[1;33m(\u001b[0m\u001b[0mint\u001b[0m\u001b[1;33m(\u001b[0m\u001b[0mi\u001b[0m\u001b[1;33m[\u001b[0m\u001b[1;36m0\u001b[0m\u001b[1;33m]\u001b[0m\u001b[1;33m)\u001b[0m\u001b[1;33m+\u001b[0m\u001b[0mint\u001b[0m\u001b[1;33m(\u001b[0m\u001b[0mi\u001b[0m\u001b[1;33m[\u001b[0m\u001b[1;33m-\u001b[0m\u001b[1;36m1\u001b[0m\u001b[1;33m]\u001b[0m\u001b[1;33m)\u001b[0m\u001b[1;33m)\u001b[0m\u001b[1;33m//\u001b[0m\u001b[1;36m2\u001b[0m\u001b[1;33m)\u001b[0m\u001b[1;33m\u001b[0m\u001b[1;33m\u001b[0m\u001b[0m\n\u001b[0m",
      "\u001b[1;31mValueError\u001b[0m: invalid literal for int() with base 10: 'y'"
     ]
    }
   ],
   "source": [
    "l=[]\n",
    "for i in df[\"job_exp\"]:\n",
    "    l.append((int(i[0])+int(i[-1]))//2)"
   ]
  },
  {
   "cell_type": "code",
   "execution_count": 26,
   "id": "4671680c",
   "metadata": {},
   "outputs": [],
   "source": [
    "l=[]\n",
    "for i in df[\"job_exp\"]:\n",
    "    if i[0].isnumeric():\n",
    "        l.append((int(i[0])))"
   ]
  },
  {
   "cell_type": "code",
   "execution_count": 28,
   "id": "e738ae12",
   "metadata": {},
   "outputs": [],
   "source": [
    "l.append(0)"
   ]
  },
  {
   "cell_type": "code",
   "execution_count": 29,
   "id": "45a5a960",
   "metadata": {},
   "outputs": [],
   "source": [
    "df[\"job_exp\"] = l"
   ]
  },
  {
   "cell_type": "code",
   "execution_count": 30,
   "id": "efa0fc46",
   "metadata": {},
   "outputs": [
    {
     "name": "stdout",
     "output_type": "stream",
     "text": [
      "<class 'pandas.core.frame.DataFrame'>\n",
      "RangeIndex: 12000 entries, 0 to 11999\n",
      "Data columns (total 6 columns):\n",
      " #   Column              Non-Null Count  Dtype \n",
      "---  ------              --------------  ----- \n",
      " 0   Job_Role            12000 non-null  object\n",
      " 1   Company             12000 non-null  object\n",
      " 2   Location            12000 non-null  object\n",
      " 3   Job Experience      12000 non-null  object\n",
      " 4   Skills/Description  12000 non-null  object\n",
      " 5   job_exp             12000 non-null  int64 \n",
      "dtypes: int64(1), object(5)\n",
      "memory usage: 562.6+ KB\n"
     ]
    }
   ],
   "source": [
    "df.info()"
   ]
  },
  {
   "cell_type": "code",
   "execution_count": 32,
   "id": "50f6d3ae",
   "metadata": {
    "scrolled": true
   },
   "outputs": [
    {
     "data": {
      "text/html": [
       "<div>\n",
       "<style scoped>\n",
       "    .dataframe tbody tr th:only-of-type {\n",
       "        vertical-align: middle;\n",
       "    }\n",
       "\n",
       "    .dataframe tbody tr th {\n",
       "        vertical-align: top;\n",
       "    }\n",
       "\n",
       "    .dataframe thead th {\n",
       "        text-align: right;\n",
       "    }\n",
       "</style>\n",
       "<table border=\"1\" class=\"dataframe\">\n",
       "  <thead>\n",
       "    <tr style=\"text-align: right;\">\n",
       "      <th></th>\n",
       "      <th>Job_Role</th>\n",
       "      <th>Company</th>\n",
       "      <th>Location</th>\n",
       "      <th>Job Experience</th>\n",
       "      <th>Skills/Description</th>\n",
       "      <th>job_exp</th>\n",
       "    </tr>\n",
       "  </thead>\n",
       "  <tbody>\n",
       "    <tr>\n",
       "      <th>0</th>\n",
       "      <td>Senior Data Scientist</td>\n",
       "      <td>UPL</td>\n",
       "      <td>Bangalore/Bengaluru, Mumbai (All Areas)</td>\n",
       "      <td>3-6</td>\n",
       "      <td>python, MLT, statistical modeling, machine lea...</td>\n",
       "      <td>3</td>\n",
       "    </tr>\n",
       "    <tr>\n",
       "      <th>1</th>\n",
       "      <td>Senior Data Scientist</td>\n",
       "      <td>Walmart</td>\n",
       "      <td>Bangalore/Bengaluru</td>\n",
       "      <td>5-9</td>\n",
       "      <td>Data Science, Machine learning, Python, Azure,...</td>\n",
       "      <td>5</td>\n",
       "    </tr>\n",
       "    <tr>\n",
       "      <th>2</th>\n",
       "      <td>Applied Data Scientist / ML Senior Engineer (P...</td>\n",
       "      <td>SAP India Pvt.Ltd</td>\n",
       "      <td>Bangalore/Bengaluru</td>\n",
       "      <td>5-10</td>\n",
       "      <td>Python, IT Skills, Testing, Cloud, Product Man...</td>\n",
       "      <td>5</td>\n",
       "    </tr>\n",
       "    <tr>\n",
       "      <th>3</th>\n",
       "      <td>Data Scientist</td>\n",
       "      <td>UPL</td>\n",
       "      <td>Bangalore/Bengaluru, Mumbai (All Areas)</td>\n",
       "      <td>1-4</td>\n",
       "      <td>python, machine learning, Data Science, data a...</td>\n",
       "      <td>1</td>\n",
       "    </tr>\n",
       "    <tr>\n",
       "      <th>4</th>\n",
       "      <td>Data Scientist</td>\n",
       "      <td>Walmart</td>\n",
       "      <td>Bangalore/Bengaluru</td>\n",
       "      <td>4-8</td>\n",
       "      <td>IT Skills, Python, Data Science, Machine Learn...</td>\n",
       "      <td>4</td>\n",
       "    </tr>\n",
       "  </tbody>\n",
       "</table>\n",
       "</div>"
      ],
      "text/plain": [
       "                                            Job_Role            Company  \\\n",
       "0                              Senior Data Scientist                UPL   \n",
       "1                              Senior Data Scientist            Walmart   \n",
       "2  Applied Data Scientist / ML Senior Engineer (P...  SAP India Pvt.Ltd   \n",
       "3                                     Data Scientist                UPL   \n",
       "4                                     Data Scientist            Walmart   \n",
       "\n",
       "                                  Location Job Experience  \\\n",
       "0  Bangalore/Bengaluru, Mumbai (All Areas)            3-6   \n",
       "1                      Bangalore/Bengaluru            5-9   \n",
       "2                      Bangalore/Bengaluru           5-10   \n",
       "3  Bangalore/Bengaluru, Mumbai (All Areas)            1-4   \n",
       "4                      Bangalore/Bengaluru            4-8   \n",
       "\n",
       "                                  Skills/Description  job_exp  \n",
       "0  python, MLT, statistical modeling, machine lea...        3  \n",
       "1  Data Science, Machine learning, Python, Azure,...        5  \n",
       "2  Python, IT Skills, Testing, Cloud, Product Man...        5  \n",
       "3  python, machine learning, Data Science, data a...        1  \n",
       "4  IT Skills, Python, Data Science, Machine Learn...        4  "
      ]
     },
     "execution_count": 32,
     "metadata": {},
     "output_type": "execute_result"
    }
   ],
   "source": [
    "df.head()"
   ]
  },
  {
   "cell_type": "code",
   "execution_count": 34,
   "id": "4bbfd44f",
   "metadata": {},
   "outputs": [
    {
     "data": {
      "text/plain": [
       "(12000, 6)"
      ]
     },
     "execution_count": 34,
     "metadata": {},
     "output_type": "execute_result"
    }
   ],
   "source": [
    "df.shape"
   ]
  },
  {
   "cell_type": "code",
   "execution_count": 31,
   "id": "a3379fd7",
   "metadata": {},
   "outputs": [],
   "source": [
    "df.to_csv(r\"C:\\Users\\sriharsha\\Downloads\\DS_jobs_new.csv\")"
   ]
  }
 ],
 "metadata": {
  "kernelspec": {
   "display_name": "Python 3",
   "language": "python",
   "name": "python3"
  },
  "language_info": {
   "codemirror_mode": {
    "name": "ipython",
    "version": 3
   },
   "file_extension": ".py",
   "mimetype": "text/x-python",
   "name": "python",
   "nbconvert_exporter": "python",
   "pygments_lexer": "ipython3",
   "version": "3.8.8"
  }
 },
 "nbformat": 4,
 "nbformat_minor": 5
}
