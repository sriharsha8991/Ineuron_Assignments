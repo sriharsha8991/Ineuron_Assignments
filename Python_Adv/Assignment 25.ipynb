{
 "cells": [
  {
   "cell_type": "markdown",
   "id": "e45d899a",
   "metadata": {},
   "source": [
    "#### Python Adv. Assignment 25\n",
    "#### Sriharsha Velicheti"
   ]
  },
  {
   "cell_type": "markdown",
   "id": "779a5f51",
   "metadata": {},
   "source": [
    "Q1. What is the distinction between a numpy array and a pandas data frame? Is there a way to\n",
    "convert between the two if there is?\n",
    "\n",
    "Q2. What can go wrong when an user enters in a stock-ticker symbol, and how do you handle it?\n",
    "\n",
    "Q3. Identify some of the plotting techniques that are used to produce a stock-market chart.\n",
    "\n",
    "Q4. Why is it essential to print a legend on a stock market chart?\n",
    "\n",
    "Q5. What is the best way to limit the length of a pandas data frame to less than a year?\n",
    "\n",
    "Q6. What is the definition of a 180-day moving average?\n",
    "\n",
    "Q7. Did the chapter&#39;s final example use &quot;indirect&quot; importing? If so, how exactly do you do it?"
   ]
  },
  {
   "cell_type": "markdown",
   "id": "6d9ff321",
   "metadata": {},
   "source": [
    "> **Q1. What is the distinction between a numpy array and a pandas data frame? Is there a way to convert between the two if there is?**\n",
    "\n",
    "* A numpy array is a multidimensional array used for numerical operations, whereas a pandas data frame is a two-dimensional tabular data structure that can store different data types. A numpy array is more efficient for numerical operations, while a pandas data frame offers more functionality for data analysis, manipulation, and cleaning.\n",
    "\n",
    "* Yes, it is possible to convert a numpy array to a pandas data frame using the pandas.DataFrame() function, and a pandas data frame to a numpy array using the .values attribute.\n",
    "\n",
    "> **Q2. What can go wrong when a user enters a stock-ticker symbol, and how do you handle it?**\n",
    "\n",
    "* There are several potential issues when a user enters a stock-ticker symbol, such as misspellings, incorrect ticker symbols, or outdated data. One way to handle this is to use an API or data source that can verify the symbol's correctness and retrieve the latest information. Additionally, you can use data validation techniques to ensure that the user inputs the correct format and avoid common errors, such as capitalization, spacing, and punctuation.\n",
    "\n",
    "> **Q3. Identify some of the plotting techniques that are used to produce a stock-market chart.**\n",
    "\n",
    "* Some of the plotting techniques used to produce a stock-market chart include line charts, candlestick charts, bar charts, and area charts. Line charts are commonly used to plot the closing price of a stock over time, while candlestick charts provide more information by showing the opening, high, low, and closing prices. Bar charts are useful for comparing the trading volume of different stocks, and area charts can be used to represent the cumulative returns over a period.\n",
    "\n",
    "> **Q4. Why is it essential to print a legend on a stock market chart?**\n",
    "\n",
    "* A legend is essential on a stock market chart because it provides information about the data plotted on the chart. It helps the reader understand the different lines or bars representing the stock prices, trading volumes, or other metrics. Without a legend, it would be difficult to interpret the chart accurately, especially if there are multiple data series plotted on it.\n",
    "\n",
    "> **Q5. What is the best way to limit the length of a pandas data frame to less than a year?**\n",
    "\n",
    "* One way to limit the length of a pandas data frame to less than a year is to use the .loc or .iloc attribute to slice the data frame based on a date range. For example, if the data frame has a 'Date' column, you can use df.loc[df['Date'] >= '2022-04-15'] to select only the rows with dates greater than or equal to April 15th, 2022. Another approach is to use the .query() method to filter the data frame based on a date range.\n",
    "\n",
    "> **Q6. What is the definition of a 180-day moving average?**\n",
    "\n",
    "* A 180-day moving average is a technical analysis tool used in stock market analysis to smooth out the fluctuations in stock prices over a period. It is calculated by taking the average of the closing prices of the stock for the last 180 days. The moving average is plotted on a chart, and traders use it to identify the long-term trend of the stock price and potential buy or sell signals.\n",
    "\n",
    "> **Q7. Did the chapter's final example use \"indirect\" importing? If so, how exactly do you do it?**\n",
    "\n",
    "* Yes, the chapter's final example used \"indirect\" importing by using the importlib module to import a module dynamically at runtime. \n",
    "* To do this, you need to use the importlib.import_module() function and provide the name of the module as a string. For example, if you have a module named my_module.py, you can use importlib.import_module('my_module') to\n",
    "\n",
    "\n",
    "\n",
    "\n",
    "\n"
   ]
  }
 ],
 "metadata": {
  "kernelspec": {
   "display_name": "Python 3",
   "language": "python",
   "name": "python3"
  },
  "language_info": {
   "codemirror_mode": {
    "name": "ipython",
    "version": 3
   },
   "file_extension": ".py",
   "mimetype": "text/x-python",
   "name": "python",
   "nbconvert_exporter": "python",
   "pygments_lexer": "ipython3",
   "version": "3.8.8"
  }
 },
 "nbformat": 4,
 "nbformat_minor": 5
}
