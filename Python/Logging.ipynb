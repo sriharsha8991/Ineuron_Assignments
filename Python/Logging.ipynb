{
 "cells": [
  {
   "cell_type": "markdown",
   "id": "5457be7d",
   "metadata": {},
   "source": [
    "What is Logging?\n",
    "\n",
    "Logging refers to the process of recording events or information about a computer system or application. This can include information about errors, system status, and user activity. Logs can be used for debugging, auditing, and performance analysis\n",
    "\n",
    "Logging is used to check whether certain program/process working properly or not.\n",
    "\n",
    "By logging useful data from the right places, you can not only debug errors easily but also use the data to analyze the performance of the application to plan for scaling or look at usage patterns to plan for marketing"
   ]
  },
  {
   "cell_type": "code",
   "execution_count": 2,
   "id": "2caffcbe",
   "metadata": {},
   "outputs": [],
   "source": [
    "import logging as lg"
   ]
  },
  {
   "cell_type": "markdown",
   "id": "6a96dffb",
   "metadata": {},
   "source": [
    "By default, there are 5 standard levels indicating the severity of events. Each has a corresponding method that can be used to log events at that level of severity.\n",
    "\n",
    "1. DEBUG\n",
    "2. INFO\n",
    "3. WARNING\n",
    "4. ERROR\n",
    "5. CRITICAL"
   ]
  },
  {
   "cell_type": "code",
   "execution_count": 3,
   "id": "9cca2d01",
   "metadata": {
    "scrolled": true
   },
   "outputs": [
    {
     "name": "stderr",
     "output_type": "stream",
     "text": [
      "WARNING:root:this is a warning msg\n",
      "ERROR:root:this is error msg\n",
      "CRITICAL:root:this is critical msg \n"
     ]
    }
   ],
   "source": [
    "lg.debug(\"this is a debug msg\")\n",
    "lg.info(\"this is an info msg\")\n",
    "lg.warning(\"this is a warning msg\")\n",
    "lg.error(\"this is error msg\")\n",
    "lg.critical(\"this is critical msg \")\n",
    "#root is the name that logging module gives to its default logger"
   ]
  },
  {
   "cell_type": "markdown",
   "id": "c3b90d08",
   "metadata": {},
   "source": [
    "### Basic Configrations"
   ]
  },
  {
   "cell_type": "code",
   "execution_count": 9,
   "id": "8b6ad6fd",
   "metadata": {},
   "outputs": [],
   "source": []
  },
  {
   "cell_type": "code",
   "execution_count": 13,
   "id": "949834a6",
   "metadata": {},
   "outputs": [
    {
     "name": "stderr",
     "output_type": "stream",
     "text": [
      "ERROR:root:Log Errors\n",
      "WARNING:root:log Warning Msg\n",
      "CRITICAL:root:log Warning msgs\n",
      "WARNING:root:log Warning Msg\n",
      "ERROR:root:Log Errors\n",
      "WARNING:root:log Warning Msg\n",
      "ERROR:root:Log Errors\n",
      "WARNING:root:log Warning Msg\n",
      "CRITICAL:root:log Warning msgs\n",
      "WARNING:root:log Warning Msg\n",
      "ERROR:root:Log Errors\n",
      "WARNING:root:log Warning Msg\n",
      "ERROR:root:Log Errors\n",
      "WARNING:root:log Warning Msg\n",
      "CRITICAL:root:log Warning msgs\n",
      "WARNING:root:log Warning Msg\n",
      "ERROR:root:Log Errors\n",
      "WARNING:root:log Warning Msg\n",
      "ERROR:root:Log Errors\n"
     ]
    }
   ],
   "source": [
    "lg.basicConfig(filename = \"loggingmsgs_file.log\",\n",
    "              filemode = \"a\",\n",
    "              format = '%(acstime)s  %(levelname)s  %(message)s',\n",
    "              datefmt = \"%Y-%m-%d %H:%M:%S\")\n",
    "\n",
    "for i in range(1,20):\n",
    "    if i%2 == 0:\n",
    "        lg.warning('log Warning Msg')\n",
    "    elif i%3 == 0:\n",
    "        lg.critical('log Warning msgs')\n",
    "    else:\n",
    "        lg.error('Log Errors')\n",
    "        \n",
    "        \n"
   ]
  },
  {
   "cell_type": "code",
   "execution_count": null,
   "id": "367fb881",
   "metadata": {},
   "outputs": [],
   "source": []
  },
  {
   "cell_type": "code",
   "execution_count": null,
   "id": "589d212e",
   "metadata": {},
   "outputs": [],
   "source": []
  },
  {
   "cell_type": "markdown",
   "id": "bc3de5e6",
   "metadata": {},
   "source": [
    "# Interview questions on logging"
   ]
  },
  {
   "cell_type": "markdown",
   "id": "53398b5f",
   "metadata": {},
   "source": [
    "What is the purpose of logging in an application?\n",
    "\n",
    "How do you configure logging in a Python script?\n",
    "\n",
    "What are the different levels of logging, and when should each be used?\n",
    "\n",
    "How do you output logs to different destinations, such as a file or a remote server?\n",
    "\n",
    "How do you handle sensitive information in logs, such as passwords or user data?\n",
    "\n",
    "How do you rotate logs to prevent them from becoming too large?\n",
    "\n",
    "How do you search and analyze logs for troubleshooting and performance analysis?\n",
    "\n",
    "How do you handle log data in a distributed system with multiple servers?\n",
    "\n",
    "How can you ensure that logging does not negatively impact application performance?\n",
    "\n",
    "How do you set up alerts and notifications based on log data?\n",
    "\n",
    "## Logging in Python\n",
    "\n",
    "How do you create custom loggers in Python using the logging module?\n",
    "\n",
    "How do you use the basicConfig() function to set up logging in a Python script?\n",
    "\n",
    "How do you use different log handlers, such as FileHandler and StreamHandler, to output logs to different destinations?\n",
    "\n",
    "How do you use filters to selectively include or exclude certain log messages?\n",
    "\n",
    "How do you use formatters to customize the appearance of log messages?\n",
    "\n",
    "How do you use the logging.getLogger() method to retrieve and configure existing loggers?\n",
    "\n",
    "How do you use the logging.debug(), logging.info(), logging.warning(), and logging.error() methods to log messages with different severity levels?\n",
    "\n",
    "How do you use the logging.exception() method to log and traceback exceptions?\n",
    "\n",
    "How do you use the logging.log() method to log messages at a specific level?\n",
    "\n",
    "How do you use the logging.basicConfig(filename='file.log', filemode='w') function to write log messages to a file?"
   ]
  },
  {
   "cell_type": "markdown",
   "id": "61a83d07",
   "metadata": {},
   "source": [
    "#### What are logs in simple terms?\n",
    "\n",
    "In simple terms, logs are records of events or information that are generated by a computer system or application.\n",
    "\n",
    "These records can include information about errors, system status, user activity, and other types of data that are relevant to the operation of the system or application. \n",
    "\n",
    "Logs are often stored in a file, database, or other type of storage system, and can be analyzed and used for troubleshooting, auditing, performance analysis, and other purposes. They are helpful in understanding how an application is behaving and in troubleshooting issues when they arise."
   ]
  },
  {
   "cell_type": "markdown",
   "id": "644dd657",
   "metadata": {},
   "source": [
    "#### What is the Purpose of logging in an application?\n",
    "\n",
    "The purpose of logging in an application is to record information about the state and behavior of the application. This information can be used for a variety of purposes, including:\n",
    "\n",
    "**Debugging:** Logs can be used to diagnose and fix errors or bugs in the application. They can provide valuable information about what went wrong and where the problem occurred, which can help developers quickly identify and fix the issue.\n",
    "\n",
    "**Auditing:** Logs can be used to track user activity and system events, which can be useful for compliance and security purposes. Logs can be used to monitor user actions and identify any suspicious or unauthorized activity.\n",
    "\n",
    "**Performance analysis:** Logs can be used to track the performance of the application and identify any bottlenecks or slowdowns. This can help developers optimize the application's performance and improve its responsiveness.\n",
    "\n",
    "**Monitoring:** Logs can be used to monitor the health and status of the application. They can be used to detect and diagnose issues, such as system failures or resource exhaustion, and can trigger alerts or notifications when problems are detected.\n",
    "\n",
    "**Business intelligence:** Logs can be used to gather data about how the application is being used, which can be useful for business analysis and decision making.\n",
    "\n",
    "In short, logging is an essential tool for understanding and improving the behavior of an application, and for identifying and addressing any issues that may arise."
   ]
  },
  {
   "cell_type": "markdown",
   "id": "d064ab39",
   "metadata": {},
   "source": [
    "#### How do you configure logging in a Python script?"
   ]
  },
  {
   "cell_type": "code",
   "execution_count": 11,
   "id": "5b37185c",
   "metadata": {},
   "outputs": [
    {
     "name": "stderr",
     "output_type": "stream",
     "text": [
      "WARNING:root:This is a warning message.\n",
      "ERROR:root:This is an error message.\n",
      "CRITICAL:root:This is a critical message.\n"
     ]
    }
   ],
   "source": [
    "import logging\n",
    "\n",
    "# create a logging configuration\n",
    "logging.basicConfig(filename='example.log', level=logging.DEBUG)\n",
    "\n",
    "# test the logging\n",
    "logging.debug('This is a debug message.')\n",
    "logging.info('This is an info message.')\n",
    "logging.warning('This is a warning message.')\n",
    "logging.error('This is an error message.')\n",
    "logging.critical('This is a critical message.')\n"
   ]
  },
  {
   "cell_type": "markdown",
   "id": "ff40bb6e",
   "metadata": {},
   "source": [
    "In this example, the basicConfig() function is used to set the filename of the log file to 'example.log' and the logging level to DEBUG. The different log levels are DEBUG, INFO, WARNING, ERROR, and CRITICAL, and messages at or above the specified level will be logged. You can also change the logging level to logging.INFO to log only the info level messages or above."
   ]
  },
  {
   "cell_type": "markdown",
   "id": "25f5a211",
   "metadata": {},
   "source": [
    "#### How do you use different log handlers, such as FileHandler and StreamHandler, to output logs to different destinations?"
   ]
  },
  {
   "cell_type": "markdown",
   "id": "25450fc9",
   "metadata": {},
   "source": [
    "The logging module in Python allows you to use different log handlers to output logs to different destinations. Two commonly used handlers are the **FileHandler and StreamHandler**.\n",
    "\n",
    "The FileHandler is used to output logs to a file, while the StreamHandler is used to output logs to a stream, such as the standard output (console).\n",
    "\n",
    "Here is an example of how to use both FileHandler and StreamHandler to output logs to a file and the console, respectively:\n",
    "\n"
   ]
  },
  {
   "cell_type": "code",
   "execution_count": 16,
   "id": "94c171f0",
   "metadata": {},
   "outputs": [
    {
     "name": "stderr",
     "output_type": "stream",
     "text": [
      "WARNING:root:This is a warning message.\n"
     ]
    },
    {
     "name": "stdout",
     "output_type": "stream",
     "text": [
      "2023-01-23 19:34:44,325 - root - WARNING - This is a warning message.\n"
     ]
    },
    {
     "name": "stderr",
     "output_type": "stream",
     "text": [
      "ERROR:root:This is an error message.\n"
     ]
    },
    {
     "name": "stdout",
     "output_type": "stream",
     "text": [
      "2023-01-23 19:34:44,327 - root - ERROR - This is an error message.\n"
     ]
    },
    {
     "name": "stderr",
     "output_type": "stream",
     "text": [
      "CRITICAL:root:This is a critical message.\n"
     ]
    },
    {
     "name": "stdout",
     "output_type": "stream",
     "text": [
      "2023-01-23 19:34:44,329 - root - CRITICAL - This is a critical message.\n"
     ]
    }
   ],
   "source": [
    "import logging\n",
    "import sys\n",
    "\n",
    "# create a logger\n",
    "logger = logging.getLogger()\n",
    "\n",
    "# create a file handler\n",
    "file_handler = logging.FileHandler('example.log')\n",
    "file_handler.setLevel(logging.DEBUG)\n",
    "\n",
    "# create a stream handler\n",
    "stream_handler = logging.StreamHandler(sys.stdout)\n",
    "stream_handler.setLevel(logging.INFO)\n",
    "\n",
    "# create a formatter\n",
    "formatter = logging.Formatter('%(asctime)s - %(name)s - %(levelname)s - %(message)s')\n",
    "\n",
    "# set the formatter to the handlers\n",
    "file_handler.setFormatter(formatter)\n",
    "stream_handler.setFormatter(formatter)\n",
    "\n",
    "# add the handlers to the logger\n",
    "logger.addHandler(file_handler)\n",
    "logger.addHandler(stream_handler)\n",
    "\n",
    "# test the logging\n",
    "logger.debug('This is a debug message.')\n",
    "logger.info('This is an info message.')\n",
    "logger.warning('This is a warning message.')\n",
    "logger.error('This is an error message.')\n",
    "logger.critical('This is a critical message.')\n"
   ]
  },
  {
   "cell_type": "markdown",
   "id": "48496279",
   "metadata": {},
   "source": [
    "In this example, the FileHandler is created and set to output logs at the DEBUG level or higher to the file named 'example.log', and the StreamHandler is created and set to output logs at the INFO level or higher to the standard output.\n",
    "\n",
    "The Formatter is used to format the log messages and set to the handlers, so the log messages will have the same format in both file and console.\n",
    "\n"
   ]
  }
 ],
 "metadata": {
  "kernelspec": {
   "display_name": "Python 3",
   "language": "python",
   "name": "python3"
  },
  "language_info": {
   "codemirror_mode": {
    "name": "ipython",
    "version": 3
   },
   "file_extension": ".py",
   "mimetype": "text/x-python",
   "name": "python",
   "nbconvert_exporter": "python",
   "pygments_lexer": "ipython3",
   "version": "3.8.8"
  }
 },
 "nbformat": 4,
 "nbformat_minor": 5
}
