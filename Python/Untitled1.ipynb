{
 "cells": [
  {
   "cell_type": "markdown",
   "id": "877b2a6b",
   "metadata": {},
   "source": [
    "3. Predict the output and justify your answer:\n",
    "i) -11%9\n",
    "\n",
    "ii) 7.7//7 \n",
    "\n",
    "iii) (200-70)*10/5 \n",
    "\n",
    "iv) not “False”\n",
    "\n",
    "v) 5*1**2 \n",
    "\n",
    "vi) 54//7\n",
    "\n",
    "\n",
    "vii) 16%5 \n",
    "\n",
    "ix) len(‘it\\’s’)\n",
    "\n",
    "\n",
    "xi) ‘Computer’+’Application’ \n",
    "\n",
    "\n",
    "xii) ‘H20’*3 xiii) max(2-3,min(4,7),-5)"
   ]
  },
  {
   "cell_type": "code",
   "execution_count": 82,
   "id": "d8904dee",
   "metadata": {},
   "outputs": [
    {
     "name": "stdout",
     "output_type": "stream",
     "text": [
      "Enter numbers: 1 2 3\n",
      "2.5\n"
     ]
    }
   ],
   "source": [
    "t1,t2,t3 = list(map(int,input(\"Enter numbers: \").split()))\n",
    "mini = min(t1,t2,t3)\n",
    "avg = (sum([t1,t2,t3]) - mini)/2\n",
    "print(avg)"
   ]
  },
  {
   "cell_type": "markdown",
   "id": "59627e05",
   "metadata": {},
   "source": []
  },
  {
   "cell_type": "code",
   "execution_count": 15,
   "id": "422b95bc",
   "metadata": {},
   "outputs": [
    {
     "name": "stdout",
     "output_type": "stream",
     "text": [
      "92\n"
     ]
    }
   ],
   "source": [
    "# 4. Give the syntax of a user-defined function in Python and explain the working with an \n",
    "# example.\n",
    "\n",
    "#Syntax\n",
    "def fun(param):\n",
    "    return param+2\n"
   ]
  },
  {
   "cell_type": "code",
   "execution_count": 25,
   "id": "65f2850f",
   "metadata": {},
   "outputs": [
    {
     "data": {
      "text/plain": [
       "2"
      ]
     },
     "execution_count": 25,
     "metadata": {},
     "output_type": "execute_result"
    }
   ],
   "source": [
    "x = \"tomato\"\n",
    "x.count('o')\n",
    "x.index('o')\n",
    "\"mAster\".is('s')\n",
    "#\"          MondAY\".strip()"
   ]
  },
  {
   "cell_type": "code",
   "execution_count": 34,
   "id": "daf22503",
   "metadata": {},
   "outputs": [
    {
     "data": {
      "text/plain": [
       "'grapes'"
      ]
     },
     "execution_count": 34,
     "metadata": {},
     "output_type": "execute_result"
    }
   ],
   "source": [
    "fruits  = ['banana','Apple',\"grapes\",\"mango\"]\n",
    "fruits[-2]"
   ]
  },
  {
   "cell_type": "code",
   "execution_count": null,
   "id": "1bf7eba9",
   "metadata": {},
   "outputs": [],
   "source": [
    "#  Write a python program to accept a sentence from the user and display the longest word of that \n",
    "# sentence along with its length."
   ]
  },
  {
   "cell_type": "code",
   "execution_count": 40,
   "id": "afe2eac2",
   "metadata": {},
   "outputs": [
    {
     "name": "stdout",
     "output_type": "stream",
     "text": [
      "Give the Sentence: dsrtdxtdrtsejedxdjdx\n",
      "dsrtdxtdrtsejedxdjdx 20\n"
     ]
    }
   ],
   "source": [
    "#step1 : take input sentence from user\n",
    "sent = input(\"Give the Sentence: \")\n",
    "#Step2: \n",
    "\n",
    "x = sent.split(\" \")\n",
    "maxi = 0\n",
    "op = \" \"\n",
    "for word in x:\n",
    "    if len(word)>maxi:\n",
    "        maxi = len(word)\n",
    "        op = word\n",
    "print(op,maxi)"
   ]
  },
  {
   "cell_type": "markdown",
   "id": "6adc896e",
   "metadata": {},
   "source": [
    ") Insert an element 9 at the beginning of the list.\n",
    "b) Insert an element 8 at the end of the list.\n",
    "c) Insert an element 10 at the index position 3 of the list.\n",
    "d) Delete an element at the beginning of the list.\n",
    "e) Delete an element at the end of the list.\n",
    "f) Delete an element at the index position 3.\n",
    "g) Print the list in reverse order.\n",
    "h) Delete all the elements of the list."
   ]
  },
  {
   "cell_type": "code",
   "execution_count": 52,
   "id": "334bb6e6",
   "metadata": {},
   "outputs": [],
   "source": [
    "ty=[5,4,7,3,6,2,1]"
   ]
  },
  {
   "cell_type": "code",
   "execution_count": 53,
   "id": "03124050",
   "metadata": {},
   "outputs": [
    {
     "data": {
      "text/plain": [
       "[9, 5, 4, 7, 3, 6, 2, 1]"
      ]
     },
     "execution_count": 53,
     "metadata": {},
     "output_type": "execute_result"
    }
   ],
   "source": [
    "ty.insert(0,9)\n",
    "ty"
   ]
  },
  {
   "cell_type": "code",
   "execution_count": 55,
   "id": "8532ed17",
   "metadata": {},
   "outputs": [
    {
     "data": {
      "text/plain": [
       "[9, 5, 4, 7, 3, 6, 2, 1, 8, 8]"
      ]
     },
     "execution_count": 55,
     "metadata": {},
     "output_type": "execute_result"
    }
   ],
   "source": [
    "ty.append(8)\n",
    "ty"
   ]
  },
  {
   "cell_type": "code",
   "execution_count": 56,
   "id": "78503c08",
   "metadata": {},
   "outputs": [
    {
     "data": {
      "text/plain": [
       "[8, 8, 1, 2, 6, 3, 7, 4, 5, 9]"
      ]
     },
     "execution_count": 56,
     "metadata": {},
     "output_type": "execute_result"
    }
   ],
   "source": [
    "ty[::-1]"
   ]
  },
  {
   "cell_type": "code",
   "execution_count": 57,
   "id": "e239881c",
   "metadata": {},
   "outputs": [],
   "source": [
    "del ty"
   ]
  },
  {
   "cell_type": "code",
   "execution_count": 58,
   "id": "d761a3a6",
   "metadata": {},
   "outputs": [
    {
     "ename": "NameError",
     "evalue": "name 'ty' is not defined",
     "output_type": "error",
     "traceback": [
      "\u001b[1;31m---------------------------------------------------------------------------\u001b[0m",
      "\u001b[1;31mNameError\u001b[0m                                 Traceback (most recent call last)",
      "\u001b[1;32m<ipython-input-58-3fc586447362>\u001b[0m in \u001b[0;36m<module>\u001b[1;34m\u001b[0m\n\u001b[1;32m----> 1\u001b[1;33m \u001b[0mty\u001b[0m\u001b[1;33m\u001b[0m\u001b[1;33m\u001b[0m\u001b[0m\n\u001b[0m",
      "\u001b[1;31mNameError\u001b[0m: name 'ty' is not defined"
     ]
    }
   ],
   "source": [
    "ty"
   ]
  },
  {
   "cell_type": "code",
   "execution_count": null,
   "id": "4deb6c6e",
   "metadata": {},
   "outputs": [],
   "source": []
  },
  {
   "cell_type": "code",
   "execution_count": 62,
   "id": "46fb064d",
   "metadata": {},
   "outputs": [
    {
     "data": {
      "text/plain": [
       "4"
      ]
     },
     "execution_count": 62,
     "metadata": {},
     "output_type": "execute_result"
    }
   ],
   "source": [
    "-26%30\n"
   ]
  },
  {
   "cell_type": "code",
   "execution_count": 63,
   "id": "35c9550b",
   "metadata": {},
   "outputs": [
    {
     "data": {
      "text/html": [
       "<div>\n",
       "<style scoped>\n",
       "    .dataframe tbody tr th:only-of-type {\n",
       "        vertical-align: middle;\n",
       "    }\n",
       "\n",
       "    .dataframe tbody tr th {\n",
       "        vertical-align: top;\n",
       "    }\n",
       "\n",
       "    .dataframe thead th {\n",
       "        text-align: right;\n",
       "    }\n",
       "</style>\n",
       "<table border=\"1\" class=\"dataframe\">\n",
       "  <thead>\n",
       "    <tr style=\"text-align: right;\">\n",
       "      <th></th>\n",
       "      <th>column_1</th>\n",
       "      <th>column_2</th>\n",
       "      <th>column_3</th>\n",
       "    </tr>\n",
       "  </thead>\n",
       "  <tbody>\n",
       "    <tr>\n",
       "      <th>0</th>\n",
       "      <td>1</td>\n",
       "      <td>4</td>\n",
       "      <td>7</td>\n",
       "    </tr>\n",
       "    <tr>\n",
       "      <th>1</th>\n",
       "      <td>2</td>\n",
       "      <td>5</td>\n",
       "      <td>8</td>\n",
       "    </tr>\n",
       "    <tr>\n",
       "      <th>2</th>\n",
       "      <td>3</td>\n",
       "      <td>6</td>\n",
       "      <td>9</td>\n",
       "    </tr>\n",
       "  </tbody>\n",
       "</table>\n",
       "</div>"
      ],
      "text/plain": [
       "   column_1  column_2  column_3\n",
       "0         1         4         7\n",
       "1         2         5         8\n",
       "2         3         6         9"
      ]
     },
     "execution_count": 63,
     "metadata": {},
     "output_type": "execute_result"
    }
   ],
   "source": [
    "import pandas as pd\n",
    "\n",
    "data = {\n",
    "    'column_1': [1, 2, 3],\n",
    "    'column_2': [4, 5, 6],\n",
    "    'column_3': [7, 8, 9]\n",
    "}\n",
    "\n",
    "df = pd.DataFrame(data)\n",
    "df"
   ]
  }
 ],
 "metadata": {
  "kernelspec": {
   "display_name": "Python 3",
   "language": "python",
   "name": "python3"
  },
  "language_info": {
   "codemirror_mode": {
    "name": "ipython",
    "version": 3
   },
   "file_extension": ".py",
   "mimetype": "text/x-python",
   "name": "python",
   "nbconvert_exporter": "python",
   "pygments_lexer": "ipython3",
   "version": "3.8.8"
  }
 },
 "nbformat": 4,
 "nbformat_minor": 5
}
