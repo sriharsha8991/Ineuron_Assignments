{
 "cells": [
  {
   "cell_type": "markdown",
   "id": "bda94918",
   "metadata": {},
   "source": [
    "# Q1,2,3,4,5\n",
    "1. What are escape characters, and how do you use them?\n",
    "\n",
    "#### Ans:\n",
    "Escape characters are characters used to indicate that a character should not be interpreted literally, but instead should be interpreted in another way. \n",
    "\n",
    "They are typically used to indicate a special character, such as a tab, line break, backspace, or quotation mark.\n",
    "\n",
    "To use an escape character, you would prefix the character with a backslash (\\). For example, to insert a tab into a string, you would use \"\\t\".\n",
    "\n",
    "\n",
    "2. What do the escape characters n and t stand for?\n",
    "\n",
    "#### Ans:\n",
    "The escape characters n and t stand for newline and tab, respectively. The n character is used to indicate a line break and the t character is used to indicate a tab.\n",
    "\n",
    "\n",
    "3. What is the way to include backslash characters in a string?\n",
    "\n",
    "#### Ans:\n",
    "To include a backslash character in a string, you need to use a special escape sequence. This sequence is \\\\. For example, to include a backslash character in a string, you would need to write \"\\\\\".\n",
    "\n",
    "\n",
    "4. The string \"Howl's Moving Castle\" is a correct value. Why isn't the single quote character in the word Howl's not escaped a problem?\n",
    "\n",
    "#### Ans:\n",
    "The single quote character in the word Howl's is not escaped because it is surrounded by other characters. In this case, the single quote character is simply part of the word and is not being interpreted as a special character, so there is no need to escape it.\n",
    "\n",
    "5.How do you write a string of newlines if you don't want to use the n character?\n",
    "\n",
    "#### Ans:\n",
    "We can use the doc strings ''' it will give a the lines as it was.\n"
   ]
  },
  {
   "cell_type": "code",
   "execution_count": 1,
   "id": "e6efb4e1",
   "metadata": {},
   "outputs": [
    {
     "name": "stdout",
     "output_type": "stream",
     "text": [
      " Sriharsha is a\n",
      "good python programmer and a \n",
      "data scienctist.\n"
     ]
    }
   ],
   "source": [
    "print(\"\"\" Sriharsha is a\n",
    "good python programmer and a \n",
    "data scienctist.\"\"\")"
   ]
  },
  {
   "cell_type": "markdown",
   "id": "46bf0a15",
   "metadata": {},
   "source": [
    "# Q6\n",
    "What are the values of the given expressions?\n",
    "\n",
    "\"Hello, world!\"[1] --->e\n",
    "\n",
    "\"Hello, world!\"[0:5]-----> Hello\n",
    "\n",
    "\"Hello, world!\"[:5]-----> Hello\n",
    "\n",
    "\"Hello, world!\"[3:]--- > lo, world!"
   ]
  },
  {
   "cell_type": "code",
   "execution_count": 3,
   "id": "dd6bf862",
   "metadata": {},
   "outputs": [
    {
     "name": "stdout",
     "output_type": "stream",
     "text": [
      "e\n",
      "Hello\n",
      "Hello\n",
      "lo, world!\n"
     ]
    }
   ],
   "source": [
    "#Q6. What are the values of the given expressions?\n",
    "var = \"Hello, world!\"\n",
    "print(var[1])\n",
    "print(var[0:5])\n",
    "print(var[:5])\n",
    "print(var[3:])"
   ]
  },
  {
   "cell_type": "markdown",
   "id": "48410961",
   "metadata": {},
   "source": [
    "# Q7\n",
    "7. What are the values of the following expressions?\n",
    "\n",
    "\"Hello\".upper() ---> 'HELLO'\n",
    "\n",
    "\"Hello\".upper().isupper() -------> True\n",
    "\n",
    "\"Hello\".upper().islower() -----> False\n"
   ]
  },
  {
   "cell_type": "markdown",
   "id": "fa66c4ef",
   "metadata": {},
   "source": [
    "\n",
    "# Q8\n",
    "8. What are the values of the following expressions?\n",
    "\n",
    "ans:\n",
    "'Remeber remember, the fifth of July.'.split() --->\n",
    "\n",
    "['Remeber', 'remember,', 'the', 'fifth', 'of', 'July.']\n",
    "\n",
    "\n",
    "'-'.join('There can only one.'.split())\n",
    "---> 'There-can-only-one.'"
   ]
  },
  {
   "cell_type": "markdown",
   "id": "05691251",
   "metadata": {},
   "source": [
    "# Q9\n",
    "9. What are the methods for right-justifying, left-justifying, and centering a string in python\n",
    "?\n",
    "\n",
    "Ans.\n",
    "\n",
    "Right-justifying a string:   \n",
    "str.rjust(width, fillchar)\n",
    "\n",
    "Left-justifying a string:   \n",
    "str.ljust(width, fillchar)\n",
    "\n",
    "Centering a string:   \n",
    "str.center(width, fillchar)"
   ]
  },
  {
   "cell_type": "markdown",
   "id": "17082569",
   "metadata": {},
   "source": [
    "# Q10\n",
    "\n",
    "10. What is the best way to remove whitespace characters from the start or end in python strings?\n",
    "\n",
    "Ans.\n",
    "The best way to remove whitespace characters from the start or end of a Python string is to use the strip() method. This method removes all leading and trailing whitespace characters from the string.\n",
    "\n",
    "We can also use lstrip() or rstrip() to remove left and right white spaces respectively."
   ]
  },
  {
   "cell_type": "code",
   "execution_count": null,
   "id": "358a2e8b",
   "metadata": {},
   "outputs": [],
   "source": []
  }
 ],
 "metadata": {
  "kernelspec": {
   "display_name": "Python 3",
   "language": "python",
   "name": "python3"
  },
  "language_info": {
   "codemirror_mode": {
    "name": "ipython",
    "version": 3
   },
   "file_extension": ".py",
   "mimetype": "text/x-python",
   "name": "python",
   "nbconvert_exporter": "python",
   "pygments_lexer": "ipython3",
   "version": "3.8.8"
  }
 },
 "nbformat": 4,
 "nbformat_minor": 5
}
